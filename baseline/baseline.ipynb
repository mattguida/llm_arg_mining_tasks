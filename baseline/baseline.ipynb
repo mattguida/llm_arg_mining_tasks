{
 "cells": [
  {
   "cell_type": "code",
   "execution_count": 2,
   "metadata": {},
   "outputs": [],
   "source": [
    "import pandas as pd\n",
    "from sklearn.metrics import accuracy_score, precision_score, recall_score, f1_score, precision_recall_fscore_support, classification_report, confusion_matrix, ConfusionMatrixDisplay\n",
    "from collections import Counter, defaultdict\n",
    "import json, csv\n",
    "import numpy as np\n",
    "import matplotlib.pyplot as plt"
   ]
  },
  {
   "cell_type": "markdown",
   "metadata": {},
   "source": [
    "## Majority baseline"
   ]
  },
  {
   "cell_type": "code",
   "execution_count": 3,
   "metadata": {},
   "outputs": [],
   "source": [
    "def majority_baseline_comarg(csv_file_path, label_column='label'):\n",
    "    \"\"\"\n",
    "    Remap labels in the dataset and calculate the majority baseline.\n",
    "    Labels 1, 2, 4, and 5 are mapped to 1, while label 3 is mapped to 0.\n",
    "\n",
    "    Parameters:\n",
    "    - csv_file_path (str): Path to the CSV file containing the dataset.\n",
    "    - label_column (str): The name of the column containing labels (default is 'label').\n",
    "\n",
    "    Returns:\n",
    "    - classification report \n",
    "    \"\"\"\n",
    "\n",
    "    df = pd.read_csv(csv_file_path)\n",
    "\n",
    "    mapping = {1: 1, 2: 1, 3: 0, 4: 1, 5: 1}\n",
    "    \n",
    "    df['label'] = df[label_column].map(mapping)\n",
    "\n",
    "    label_counts = df['label'].value_counts()\n",
    "\n",
    "    majority_label = label_counts.idxmax()\n",
    "    majority_count = label_counts.max()\n",
    "    total_samples = len(df)\n",
    "\n",
    "    majority_predictions = [majority_label] * total_samples\n",
    "\n",
    "    report = classification_report(df['label'], majority_predictions, zero_division=0)\n",
    "\n",
    "    print(f\"\\nMajority Label: {majority_label} (Count: {majority_count})\")\n",
    "    print(\"\\nClassification Report:\")\n",
    "    print(report)"
   ]
  },
  {
   "cell_type": "code",
   "execution_count": 4,
   "metadata": {},
   "outputs": [],
   "source": [
    "def majority_baseline_yru(csv_file_path):\n",
    "    df = pd.read_csv(csv_file_path)\n",
    "\n",
    "    label_counts = df['present'].value_counts()\n",
    "\n",
    "    majority_label = label_counts.idxmax()\n",
    "    majority_count = label_counts.max()\n",
    "    total_samples = len(df)\n",
    "\n",
    "    majority_predictions = [majority_label] * total_samples\n",
    "\n",
    "    f1 = f1_score(df['present'], majority_predictions, pos_label=majority_label, zero_division=1)\n",
    "\n",
    "    report = classification_report(df['present'], majority_predictions, zero_division=0)\n",
    "\n",
    "    print(f\"\\nMajority Label: {majority_label} (Count: {majority_count})\")\n",
    "    print(\"\\nClassification Report:\")\n",
    "    print(report)"
   ]
  },
  {
   "cell_type": "code",
   "execution_count": 5,
   "metadata": {},
   "outputs": [
    {
     "name": "stdout",
     "output_type": "stream",
     "text": [
      "=== GM ===\n",
      "\n",
      "Majority Label: 0 (Count: 849)\n",
      "\n",
      "Classification Report:\n",
      "              precision    recall  f1-score   support\n",
      "\n",
      "           0       0.66      1.00      0.80       849\n",
      "           1       0.00      0.00      0.00       436\n",
      "\n",
      "    accuracy                           0.66      1285\n",
      "   macro avg       0.33      0.50      0.40      1285\n",
      "weighted avg       0.44      0.66      0.53      1285\n",
      "\n"
     ]
    }
   ],
   "source": [
    "file_path = '/Users/guida/llm_argument_tasks/clean_data/GM_structured.csv'\n",
    "print(\"=== GM ===\")\n",
    "majority_baseline_comarg(file_path)"
   ]
  },
  {
   "cell_type": "code",
   "execution_count": 6,
   "metadata": {},
   "outputs": [
    {
     "name": "stdout",
     "output_type": "stream",
     "text": [
      "=== UGIP ===\n",
      "\n",
      "Majority Label: 0 (Count: 691)\n",
      "\n",
      "Classification Report:\n",
      "              precision    recall  f1-score   support\n",
      "\n",
      "           0       0.68      1.00      0.81       691\n",
      "           1       0.00      0.00      0.00       322\n",
      "\n",
      "    accuracy                           0.68      1013\n",
      "   macro avg       0.34      0.50      0.41      1013\n",
      "weighted avg       0.47      0.68      0.55      1013\n",
      "\n"
     ]
    }
   ],
   "source": [
    "file_path = '/Users/guida/llm_argument_tasks/clean_data/UGIP_structured.csv'\n",
    "print(\"=== UGIP ===\")\n",
    "majority_baseline_comarg(file_path)"
   ]
  },
  {
   "cell_type": "code",
   "execution_count": 7,
   "metadata": {},
   "outputs": [
    {
     "name": "stdout",
     "output_type": "stream",
     "text": [
      "=== ABORTION ===\n",
      "\n",
      "Majority Label: 0 (Count: 5947)\n",
      "\n",
      "Classification Report:\n",
      "              precision    recall  f1-score   support\n",
      "\n",
      "           0       0.89      1.00      0.94      5947\n",
      "           1       0.00      0.00      0.00       728\n",
      "\n",
      "    accuracy                           0.89      6675\n",
      "   macro avg       0.45      0.50      0.47      6675\n",
      "weighted avg       0.79      0.89      0.84      6675\n",
      "\n"
     ]
    }
   ],
   "source": [
    "file_path = '/Users/guida/llm_argument_tasks/clean_data/yru_abortion_with_negatives_main.csv'\n",
    "print(\"=== ABORTION ===\")\n",
    "majority_baseline_yru(file_path)"
   ]
  },
  {
   "cell_type": "code",
   "execution_count": 8,
   "metadata": {},
   "outputs": [
    {
     "name": "stdout",
     "output_type": "stream",
     "text": [
      "=== GAY RIGHTS ===\n",
      "\n",
      "Majority Label: 0 (Count: 5080)\n",
      "\n",
      "Classification Report:\n",
      "              precision    recall  f1-score   support\n",
      "\n",
      "           0       0.87      1.00      0.93      5080\n",
      "           1       0.00      0.00      0.00       761\n",
      "\n",
      "    accuracy                           0.87      5841\n",
      "   macro avg       0.43      0.50      0.47      5841\n",
      "weighted avg       0.76      0.87      0.81      5841\n",
      "\n"
     ]
    }
   ],
   "source": [
    "file_path = '/Users/guida/llm_argument_tasks/clean_data/yru_gayrights_with_negatives_main.csv'\n",
    "print(\"=== GAY RIGHTS ===\")\n",
    "majority_baseline_yru(file_path)"
   ]
  },
  {
   "cell_type": "code",
   "execution_count": 9,
   "metadata": {},
   "outputs": [
    {
     "name": "stdout",
     "output_type": "stream",
     "text": [
      "=== MARIJUANA ===\n",
      "\n",
      "Majority Label: 0 (Count: 4317)\n",
      "\n",
      "Classification Report:\n",
      "              precision    recall  f1-score   support\n",
      "\n",
      "           0       0.86      1.00      0.93      4317\n",
      "           1       0.00      0.00      0.00       687\n",
      "\n",
      "    accuracy                           0.86      5004\n",
      "   macro avg       0.43      0.50      0.46      5004\n",
      "weighted avg       0.74      0.86      0.80      5004\n",
      "\n"
     ]
    }
   ],
   "source": [
    "file_path = '/Users/guida/llm_argument_tasks/clean_data/yru_marijuana_with_negatives_main.csv'\n",
    "print(\"=== MARIJUANA ===\")\n",
    "majority_baseline_yru(file_path)"
   ]
  },
  {
   "cell_type": "code",
   "execution_count": 10,
   "metadata": {},
   "outputs": [
    {
     "name": "stdout",
     "output_type": "stream",
     "text": [
      "=== OBAMA ===\n",
      "\n",
      "Majority Label: 0 (Count: 7261)\n",
      "\n",
      "Classification Report:\n",
      "              precision    recall  f1-score   support\n",
      "\n",
      "           0       0.92      1.00      0.96      7261\n",
      "           1       0.00      0.00      0.00       641\n",
      "\n",
      "    accuracy                           0.92      7902\n",
      "   macro avg       0.46      0.50      0.48      7902\n",
      "weighted avg       0.84      0.92      0.88      7902\n",
      "\n"
     ]
    }
   ],
   "source": [
    "file_path = '/Users/guida/llm_argument_tasks/clean_data/yru_obama_with_negatives_main.csv'\n",
    "print(\"=== OBAMA ===\")\n",
    "majority_baseline_yru(file_path)"
   ]
  }
 ],
 "metadata": {
  "kernelspec": {
   "display_name": "myenv",
   "language": "python",
   "name": "python3"
  },
  "language_info": {
   "codemirror_mode": {
    "name": "ipython",
    "version": 3
   },
   "file_extension": ".py",
   "mimetype": "text/x-python",
   "name": "python",
   "nbconvert_exporter": "python",
   "pygments_lexer": "ipython3",
   "version": "3.12.3"
  }
 },
 "nbformat": 4,
 "nbformat_minor": 2
}
