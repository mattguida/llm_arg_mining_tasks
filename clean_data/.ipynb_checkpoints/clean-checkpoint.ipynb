{
 "cells": [
  {
   "cell_type": "code",
   "execution_count": null,
   "id": "bc4122f7-74a6-4a83-ab7e-6807ed661875",
   "metadata": {},
   "outputs": [],
   "source": [
    "from collections import defaultdict\n",
    "import xmltodict"
   ]
  },
  {
   "cell_type": "code",
   "execution_count": null,
   "id": "68ded8b0-53e3-4f2e-aad3-41176d7ec0cd",
   "metadata": {},
   "outputs": [],
   "source": [
    "data = open('../data/GM.xml', 'r').read()\n",
    "data = xmltodict.parse(data)"
   ]
  }
 ],
 "metadata": {
  "kernelspec": {
   "display_name": "Python 3 (ipykernel)",
   "language": "python",
   "name": "python3"
  },
  "language_info": {
   "codemirror_mode": {
    "name": "ipython",
    "version": 3
   },
   "file_extension": ".py",
   "mimetype": "text/x-python",
   "name": "python",
   "nbconvert_exporter": "python",
   "pygments_lexer": "ipython3",
   "version": "3.12.2"
  }
 },
 "nbformat": 4,
 "nbformat_minor": 5
}
