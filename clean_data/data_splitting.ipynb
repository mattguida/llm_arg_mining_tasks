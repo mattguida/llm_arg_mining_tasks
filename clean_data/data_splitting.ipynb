{
 "cells": [
  {
   "cell_type": "code",
   "execution_count": 121,
   "metadata": {},
   "outputs": [],
   "source": [
    "import csv\n",
    "import pandas as pd\n",
    "import random\n",
    "from pathlib import Path"
   ]
  },
  {
   "cell_type": "code",
   "execution_count": 122,
   "metadata": {},
   "outputs": [],
   "source": [
    "current_folder = Path(\"__file__\").parent.absolute()"
   ]
  },
  {
   "cell_type": "code",
   "execution_count": 120,
   "metadata": {},
   "outputs": [
    {
     "data": {
      "text/plain": [
       "PosixPath('/Users/otmakhovay/Documents/Research/Matteo/llm_arg_mining_tasks/clean_data')"
      ]
     },
     "execution_count": 120,
     "metadata": {},
     "output_type": "execute_result"
    }
   ],
   "source": [
    "current_folder"
   ]
  },
  {
   "cell_type": "code",
   "execution_count": 123,
   "metadata": {},
   "outputs": [],
   "source": [
    "files = [file for file in current_folder.glob(\"*negatives.csv\")]"
   ]
  },
  {
   "cell_type": "code",
   "execution_count": 108,
   "metadata": {},
   "outputs": [],
   "source": []
  },
  {
   "cell_type": "code",
   "execution_count": 124,
   "metadata": {},
   "outputs": [
    {
     "name": "stderr",
     "output_type": "stream",
     "text": [
      "/var/folders/8s/9h91jbl90q5_r9fphnws0dhm0000gn/T/ipykernel_59166/4156883990.py:7: DeprecationWarning: DataFrameGroupBy.apply operated on the grouping columns. This behavior is deprecated, and in a future version of pandas the grouping columns will be excluded from the operation. Either pass `include_groups=False` to exclude the groupings or explicitly select the grouping columns after groupby to silence this warning.\n",
      "  df = df.groupby('id').apply(increment_within_group)\n",
      "/var/folders/8s/9h91jbl90q5_r9fphnws0dhm0000gn/T/ipykernel_59166/4156883990.py:7: DeprecationWarning: DataFrameGroupBy.apply operated on the grouping columns. This behavior is deprecated, and in a future version of pandas the grouping columns will be excluded from the operation. Either pass `include_groups=False` to exclude the groupings or explicitly select the grouping columns after groupby to silence this warning.\n",
      "  df = df.groupby('id').apply(increment_within_group)\n",
      "/var/folders/8s/9h91jbl90q5_r9fphnws0dhm0000gn/T/ipykernel_59166/4156883990.py:7: DeprecationWarning: DataFrameGroupBy.apply operated on the grouping columns. This behavior is deprecated, and in a future version of pandas the grouping columns will be excluded from the operation. Either pass `include_groups=False` to exclude the groupings or explicitly select the grouping columns after groupby to silence this warning.\n",
      "  df = df.groupby('id').apply(increment_within_group)\n",
      "/var/folders/8s/9h91jbl90q5_r9fphnws0dhm0000gn/T/ipykernel_59166/4156883990.py:7: DeprecationWarning: DataFrameGroupBy.apply operated on the grouping columns. This behavior is deprecated, and in a future version of pandas the grouping columns will be excluded from the operation. Either pass `include_groups=False` to exclude the groupings or explicitly select the grouping columns after groupby to silence this warning.\n",
      "  df = df.groupby('id').apply(increment_within_group)\n",
      "/var/folders/8s/9h91jbl90q5_r9fphnws0dhm0000gn/T/ipykernel_59166/4156883990.py:7: DeprecationWarning: DataFrameGroupBy.apply operated on the grouping columns. This behavior is deprecated, and in a future version of pandas the grouping columns will be excluded from the operation. Either pass `include_groups=False` to exclude the groupings or explicitly select the grouping columns after groupby to silence this warning.\n",
      "  df = df.groupby('id').apply(increment_within_group)\n",
      "/var/folders/8s/9h91jbl90q5_r9fphnws0dhm0000gn/T/ipykernel_59166/4156883990.py:7: DeprecationWarning: DataFrameGroupBy.apply operated on the grouping columns. This behavior is deprecated, and in a future version of pandas the grouping columns will be excluded from the operation. Either pass `include_groups=False` to exclude the groupings or explicitly select the grouping columns after groupby to silence this warning.\n",
      "  df = df.groupby('id').apply(increment_within_group)\n",
      "/var/folders/8s/9h91jbl90q5_r9fphnws0dhm0000gn/T/ipykernel_59166/4156883990.py:7: DeprecationWarning: DataFrameGroupBy.apply operated on the grouping columns. This behavior is deprecated, and in a future version of pandas the grouping columns will be excluded from the operation. Either pass `include_groups=False` to exclude the groupings or explicitly select the grouping columns after groupby to silence this warning.\n",
      "  df = df.groupby('id').apply(increment_within_group)\n",
      "/var/folders/8s/9h91jbl90q5_r9fphnws0dhm0000gn/T/ipykernel_59166/4156883990.py:7: DeprecationWarning: DataFrameGroupBy.apply operated on the grouping columns. This behavior is deprecated, and in a future version of pandas the grouping columns will be excluded from the operation. Either pass `include_groups=False` to exclude the groupings or explicitly select the grouping columns after groupby to silence this warning.\n",
      "  df = df.groupby('id').apply(increment_within_group)\n"
     ]
    }
   ],
   "source": [
    "def rename_ids(df):\n",
    "    def increment_within_group(group):\n",
    "        # progressive increment within each group\n",
    "        group['arg_index'] = [i for i in range(len(group))]\n",
    "        return group\n",
    "\n",
    "    df = df.groupby('id').apply(increment_within_group)\n",
    "    df['uid'] = df['id'].astype(str)+\"arg\"+df['arg_index'].astype(str)\n",
    "    df.drop('arg_index', axis=1, inplace=True)\n",
    "    return df\n",
    "\n",
    "\n",
    "for f in files:\n",
    "    df = pd.read_csv(f)\n",
    "    dev_sample = random.sample(df['id'].to_list(),1)[0]\n",
    "    train_df = df[df['id']!=dev_sample]\n",
    "    dev_df = df[df['id']==dev_sample]\n",
    "\n",
    "    dev_df = rename_ids(dev_df)\n",
    "    train_df = rename_ids(train_df)\n",
    "\n",
    "    dev_df.to_csv(f.stem+'_shots.csv', index=False)\n",
    "    train_df.to_csv(f.stem+'_main.csv',index=False)\n",
    "    \n",
    "    "
   ]
  },
  {
   "cell_type": "code",
   "execution_count": 105,
   "metadata": {},
   "outputs": [],
   "source": []
  }
 ],
 "metadata": {
  "kernelspec": {
   "display_name": "Python 3",
   "language": "python",
   "name": "python3"
  },
  "language_info": {
   "codemirror_mode": {
    "name": "ipython",
    "version": 3
   },
   "file_extension": ".py",
   "mimetype": "text/x-python",
   "name": "python",
   "nbconvert_exporter": "python",
   "pygments_lexer": "ipython3",
   "version": "3.9.6"
  }
 },
 "nbformat": 4,
 "nbformat_minor": 2
}
