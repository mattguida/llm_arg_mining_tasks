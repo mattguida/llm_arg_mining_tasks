{
 "cells": [
  {
   "cell_type": "code",
   "execution_count": 44,
   "metadata": {},
   "outputs": [],
   "source": [
    "from openai import OpenAI\n",
    "import os\n",
    "import pandas as pd\n",
    "from dotenv import load_dotenv\n",
    "from pydantic import BaseModel, Field\n",
    "from typing import List\n",
    "from tqdm import tqdm\n",
    "import json, csv\n",
    "load_dotenv('/Users/guida/llm_argument_tasks/.env')\n",
    "\n",
    "api_key = os.environ.get('OPENAI_API_KEY')"
   ]
  },
  {
   "cell_type": "code",
   "execution_count": 28,
   "metadata": {},
   "outputs": [],
   "source": [
    "class ArgumentClassification(BaseModel):\n",
    "    id: str = Field(description=\"The ID the comment being analyzed\")    \n",
    "    label: int = Field(description=\"The label associated with the argument (0 or 1)\") "
   ]
  },
  {
   "cell_type": "markdown",
   "metadata": {},
   "source": [
    "## Gay Marriage"
   ]
  },
  {
   "cell_type": "code",
   "execution_count": 33,
   "metadata": {},
   "outputs": [],
   "source": [
    "arguments_gm = [\n",
    "    \"It is discriminatory to refuse gay couples the right to marry\",\n",
    "    \"Gay couples should be able to take advantage of the fiscal and legal benefits of marriage\",\n",
    "    \"Marriage is about more than procreation, therefore gay couples should not be denied the right to marry due to their biology\",\n",
    "    \"Gay couples can declare their union without resort to marriage\",\n",
    "    \"Gay marriage undermines the institution of marriage, leading to an increase in out of wedlock births and divorce rates\",\n",
    "    \"Major world religions are against gay marriages\",\n",
    "    \"Marriage should be between a man and a woman\"\n",
    "]"
   ]
  },
  {
   "cell_type": "code",
   "execution_count": 42,
   "metadata": {},
   "outputs": [],
   "source": [
    "def classify_text_gpt(id: str, comment_text: str, argument: str) -> dict:\n",
    "    completion = client.beta.chat.completions.parse(\n",
    "        model=\"gpt-4o-mini\",\n",
    "        messages=[\n",
    "        {\"role\": \"system\", \"content\": f\"\"\"\n",
    "        Analyze the given comment about gay marriage in relation to a specific argument. Your need to:\n",
    "        Identify if the comment makes use the given argument. If it does, assign the label 1. If it does not, assign the label 0.\n",
    "        Do NOT use any other label.\n",
    "        Do NOT include the comment or the argument in the response.\n",
    "        \n",
    "        The argument to analyze is: {argument}\n",
    "        \n",
    "        Provide your response in the following JSON format:\n",
    "        \n",
    "        {{\n",
    "            \"id\": \"{id}\",\n",
    "            \"label\": \"the label for the use of the argument in the comment\"\n",
    "        }}\n",
    "        \n",
    "        Analyze the following comment in relation to the given argument\n",
    "        \"\"\"},\n",
    "        {\"role\": \"user\", \"content\": comment_text},\n",
    "        ],\n",
    "        response_format=ArgumentClassification,\n",
    "    )\n",
    "\n",
    "    return completion.choices[0].message.content"
   ]
  },
  {
   "cell_type": "code",
   "execution_count": 45,
   "metadata": {},
   "outputs": [
    {
     "name": "stderr",
     "output_type": "stream",
     "text": [
      "Processing comments: 100%|██████████| 1285/1285 [15:42<00:00,  1.36it/s]\n"
     ]
    },
    {
     "ename": "FileNotFoundError",
     "evalue": "[Errno 2] No such file or directory: 'llm_argument_tasks/output_files/gpt40-mini/comarg_gm_argument_identification.json'",
     "output_type": "error",
     "traceback": [
      "\u001b[0;31m---------------------------------------------------------------------------\u001b[0m",
      "\u001b[0;31mFileNotFoundError\u001b[0m                         Traceback (most recent call last)",
      "Cell \u001b[0;32mIn[45], line 27\u001b[0m\n\u001b[1;32m     24\u001b[0m classifications \u001b[38;5;241m=\u001b[39m process_comments_with_arguments(gm)\n\u001b[1;32m     26\u001b[0m output_file \u001b[38;5;241m=\u001b[39m \u001b[38;5;124m'\u001b[39m\u001b[38;5;124mllm_argument_tasks/output_files/gpt40-mini/comarg_gm_argument_identification.json\u001b[39m\u001b[38;5;124m'\u001b[39m\n\u001b[0;32m---> 27\u001b[0m \u001b[38;5;28;01mwith\u001b[39;00m \u001b[38;5;28;43mopen\u001b[39;49m\u001b[43m(\u001b[49m\u001b[43moutput_file\u001b[49m\u001b[43m,\u001b[49m\u001b[43m \u001b[49m\u001b[38;5;124;43m'\u001b[39;49m\u001b[38;5;124;43mw\u001b[39;49m\u001b[38;5;124;43m'\u001b[39;49m\u001b[43m)\u001b[49m \u001b[38;5;28;01mas\u001b[39;00m f:\n\u001b[1;32m     28\u001b[0m     json\u001b[38;5;241m.\u001b[39mdump(classifications, f, indent\u001b[38;5;241m=\u001b[39m\u001b[38;5;241m2\u001b[39m)\n",
      "File \u001b[0;32m~/llm_argument_tasks/myenv/lib/python3.12/site-packages/IPython/core/interactiveshell.py:324\u001b[0m, in \u001b[0;36m_modified_open\u001b[0;34m(file, *args, **kwargs)\u001b[0m\n\u001b[1;32m    317\u001b[0m \u001b[38;5;28;01mif\u001b[39;00m file \u001b[38;5;129;01min\u001b[39;00m {\u001b[38;5;241m0\u001b[39m, \u001b[38;5;241m1\u001b[39m, \u001b[38;5;241m2\u001b[39m}:\n\u001b[1;32m    318\u001b[0m     \u001b[38;5;28;01mraise\u001b[39;00m \u001b[38;5;167;01mValueError\u001b[39;00m(\n\u001b[1;32m    319\u001b[0m         \u001b[38;5;124mf\u001b[39m\u001b[38;5;124m\"\u001b[39m\u001b[38;5;124mIPython won\u001b[39m\u001b[38;5;124m'\u001b[39m\u001b[38;5;124mt let you open fd=\u001b[39m\u001b[38;5;132;01m{\u001b[39;00mfile\u001b[38;5;132;01m}\u001b[39;00m\u001b[38;5;124m by default \u001b[39m\u001b[38;5;124m\"\u001b[39m\n\u001b[1;32m    320\u001b[0m         \u001b[38;5;124m\"\u001b[39m\u001b[38;5;124mas it is likely to crash IPython. If you know what you are doing, \u001b[39m\u001b[38;5;124m\"\u001b[39m\n\u001b[1;32m    321\u001b[0m         \u001b[38;5;124m\"\u001b[39m\u001b[38;5;124myou can use builtins\u001b[39m\u001b[38;5;124m'\u001b[39m\u001b[38;5;124m open.\u001b[39m\u001b[38;5;124m\"\u001b[39m\n\u001b[1;32m    322\u001b[0m     )\n\u001b[0;32m--> 324\u001b[0m \u001b[38;5;28;01mreturn\u001b[39;00m \u001b[43mio_open\u001b[49m\u001b[43m(\u001b[49m\u001b[43mfile\u001b[49m\u001b[43m,\u001b[49m\u001b[43m \u001b[49m\u001b[38;5;241;43m*\u001b[39;49m\u001b[43margs\u001b[49m\u001b[43m,\u001b[49m\u001b[43m \u001b[49m\u001b[38;5;241;43m*\u001b[39;49m\u001b[38;5;241;43m*\u001b[39;49m\u001b[43mkwargs\u001b[49m\u001b[43m)\u001b[49m\n",
      "\u001b[0;31mFileNotFoundError\u001b[0m: [Errno 2] No such file or directory: 'llm_argument_tasks/output_files/gpt40-mini/comarg_gm_argument_identification.json'"
     ]
    }
   ],
   "source": [
    "gm = pd.read_csv('../../clean_data/GM_structured.csv')\n",
    "\n",
    "def process_comments_with_arguments(df: pd.DataFrame) -> List[dict]:\n",
    "    results = []\n",
    "    for idx, row in tqdm(df.iterrows(), total=len(df), desc=\"Processing comments\"):\n",
    "        comment_id = row['id'] \n",
    "        comment_text = row['comment_text']  \n",
    "        argument_text = row['argument_text']\n",
    "\n",
    "        try:\n",
    "            classification = classify_text_gpt(comment_id, comment_text, argument_text)\n",
    "            results.append(classification)\n",
    "\n",
    "        except json.JSONDecodeError as e:\n",
    "            print(f\"JSONDecodeError for comment: {comment_text[:50]}... - Error: {e}\")\n",
    "            continue\n",
    "\n",
    "        except Exception as e:\n",
    "            print(f\"An unexpected error occurred for comment: {comment_text[:50]}... - Error: {e}\")\n",
    "            continue\n",
    "\n",
    "    return results\n",
    "\n",
    "classifications = process_comments_with_arguments(gm)\n",
    "\n",
    "output_file = 'llm_argument_tasks/output_files/gpt4o-mini/comarg_gm_argument_identification.json'\n",
    "with open(output_file, 'w') as f:\n",
    "    json.dump(classifications, f, indent=2)"
   ]
  },
  {
   "cell_type": "code",
   "execution_count": 49,
   "metadata": {},
   "outputs": [],
   "source": [
    "output_file = 'comarg_gm_argument_identification.json'\n",
    "with open(output_file, 'w') as f:\n",
    "    json.dump(classifications, f, indent=2)"
   ]
  },
  {
   "cell_type": "markdown",
   "metadata": {},
   "source": [
    "## Under God in Pledge"
   ]
  },
  {
   "cell_type": "code",
   "execution_count": 50,
   "metadata": {},
   "outputs": [],
   "source": [
    "arguments_ugip = [\n",
    "    \"Likely to be seen as a state-sanctioned condemnation of religion\",\n",
    "    \"The principles of democracy regulate that the wishes of American Christians, who are a majority, are honored\",\n",
    "    \"Under God is part of American tradition and history\",\n",
    "    \"Implies ultimate power on the part of the state\",\n",
    "    \"Removing under god would promote religious tolerance\",\n",
    "    \"Separation of state and religion\"\n",
    "]"
   ]
  },
  {
   "cell_type": "code",
   "execution_count": 51,
   "metadata": {},
   "outputs": [],
   "source": [
    "def classify_text_gpt(id: str, comment_text: str, argument: str) -> dict:\n",
    "    completion = client.beta.chat.completions.parse(\n",
    "        model=\"gpt-4o-mini\",\n",
    "        messages=[\n",
    "        {\"role\": \"system\", \"content\": f\"\"\"\n",
    "        Analyze the given comment about whether \"Under God\" should be included in the US Pledge of Alliance. Your need to:\n",
    "        Identify if the comment makes use the given argument. If it does, assign the label 1. If it does not, assign the label 0.\n",
    "        Do NOT use any other label.\n",
    "        Do NOT include the comment or the argument in the response.\n",
    "        \n",
    "        The argument to analyze is: {argument}\n",
    "        \n",
    "        Provide your response in the following JSON format:\n",
    "        \n",
    "        {{\n",
    "            \"id\": \"{id}\",\n",
    "            \"label\": \"the label for the use of the argument in the comment\"\n",
    "        }}\n",
    "        \n",
    "        Analyze the following comment in relation to the given argument\n",
    "        \"\"\"},\n",
    "        {\"role\": \"user\", \"content\": comment_text},\n",
    "        ],\n",
    "        response_format=ArgumentClassification,\n",
    "    )\n",
    "\n",
    "    return completion.choices[0].message.content"
   ]
  },
  {
   "cell_type": "code",
   "execution_count": 55,
   "metadata": {},
   "outputs": [
    {
     "data": {
      "text/html": [
       "<div>\n",
       "<style scoped>\n",
       "    .dataframe tbody tr th:only-of-type {\n",
       "        vertical-align: middle;\n",
       "    }\n",
       "\n",
       "    .dataframe tbody tr th {\n",
       "        vertical-align: top;\n",
       "    }\n",
       "\n",
       "    .dataframe thead th {\n",
       "        text-align: right;\n",
       "    }\n",
       "</style>\n",
       "<table border=\"1\" class=\"dataframe\">\n",
       "  <thead>\n",
       "    <tr style=\"text-align: right;\">\n",
       "      <th></th>\n",
       "      <th>id</th>\n",
       "      <th>comment_text</th>\n",
       "      <th>argument_text</th>\n",
       "      <th>label</th>\n",
       "    </tr>\n",
       "  </thead>\n",
       "  <tbody>\n",
       "    <tr>\n",
       "      <th>0</th>\n",
       "      <td>414721685arg1</td>\n",
       "      <td>Simple, maybe I believe in Allah, or the flyin...</td>\n",
       "      <td>Separation of state and religion</td>\n",
       "      <td>3</td>\n",
       "    </tr>\n",
       "    <tr>\n",
       "      <th>1</th>\n",
       "      <td>414721685arg2</td>\n",
       "      <td>Simple, maybe I believe in Allah, or the flyin...</td>\n",
       "      <td>Removing under god would promote religious tol...</td>\n",
       "      <td>4</td>\n",
       "    </tr>\n",
       "    <tr>\n",
       "      <th>2</th>\n",
       "      <td>414721685arg3</td>\n",
       "      <td>Simple, maybe I believe in Allah, or the flyin...</td>\n",
       "      <td>Under God  is part of American tradition and h...</td>\n",
       "      <td>3</td>\n",
       "    </tr>\n",
       "    <tr>\n",
       "      <th>3</th>\n",
       "      <td>414721643arg1</td>\n",
       "      <td>As an devout atheist I strongly oppose this. I...</td>\n",
       "      <td>Separation of state and religion</td>\n",
       "      <td>5</td>\n",
       "    </tr>\n",
       "    <tr>\n",
       "      <th>4</th>\n",
       "      <td>414721643arg3</td>\n",
       "      <td>As an devout atheist I strongly oppose this. I...</td>\n",
       "      <td>Under God  is part of American tradition and h...</td>\n",
       "      <td>3</td>\n",
       "    </tr>\n",
       "    <tr>\n",
       "      <th>...</th>\n",
       "      <td>...</td>\n",
       "      <td>...</td>\n",
       "      <td>...</td>\n",
       "      <td>...</td>\n",
       "    </tr>\n",
       "    <tr>\n",
       "      <th>1008</th>\n",
       "      <td>414721954arg2</td>\n",
       "      <td>We are a nation formed by men of faith, reflec...</td>\n",
       "      <td>Removing under god would promote religious tol...</td>\n",
       "      <td>3</td>\n",
       "    </tr>\n",
       "    <tr>\n",
       "      <th>1009</th>\n",
       "      <td>414721954arg3</td>\n",
       "      <td>We are a nation formed by men of faith, reflec...</td>\n",
       "      <td>Under God  is part of American tradition and h...</td>\n",
       "      <td>3</td>\n",
       "    </tr>\n",
       "    <tr>\n",
       "      <th>1010</th>\n",
       "      <td>414721680arg1</td>\n",
       "      <td>We should follow the Constitution and keep Chu...</td>\n",
       "      <td>Separation of state and religion</td>\n",
       "      <td>5</td>\n",
       "    </tr>\n",
       "    <tr>\n",
       "      <th>1011</th>\n",
       "      <td>414721680arg2</td>\n",
       "      <td>We should follow the Constitution and keep Chu...</td>\n",
       "      <td>Removing under god would promote religious tol...</td>\n",
       "      <td>3</td>\n",
       "    </tr>\n",
       "    <tr>\n",
       "      <th>1012</th>\n",
       "      <td>414721680arg3</td>\n",
       "      <td>We should follow the Constitution and keep Chu...</td>\n",
       "      <td>Under God  is part of American tradition and h...</td>\n",
       "      <td>3</td>\n",
       "    </tr>\n",
       "  </tbody>\n",
       "</table>\n",
       "<p>1013 rows × 4 columns</p>\n",
       "</div>"
      ],
      "text/plain": [
       "                 id                                       comment_text  \\\n",
       "0     414721685arg1  Simple, maybe I believe in Allah, or the flyin...   \n",
       "1     414721685arg2  Simple, maybe I believe in Allah, or the flyin...   \n",
       "2     414721685arg3  Simple, maybe I believe in Allah, or the flyin...   \n",
       "3     414721643arg1  As an devout atheist I strongly oppose this. I...   \n",
       "4     414721643arg3  As an devout atheist I strongly oppose this. I...   \n",
       "...             ...                                                ...   \n",
       "1008  414721954arg2  We are a nation formed by men of faith, reflec...   \n",
       "1009  414721954arg3  We are a nation formed by men of faith, reflec...   \n",
       "1010  414721680arg1  We should follow the Constitution and keep Chu...   \n",
       "1011  414721680arg2  We should follow the Constitution and keep Chu...   \n",
       "1012  414721680arg3  We should follow the Constitution and keep Chu...   \n",
       "\n",
       "                                          argument_text  label  \n",
       "0                      Separation of state and religion      3  \n",
       "1     Removing under god would promote religious tol...      4  \n",
       "2     Under God  is part of American tradition and h...      3  \n",
       "3                      Separation of state and religion      5  \n",
       "4     Under God  is part of American tradition and h...      3  \n",
       "...                                                 ...    ...  \n",
       "1008  Removing under god would promote religious tol...      3  \n",
       "1009  Under God  is part of American tradition and h...      3  \n",
       "1010                   Separation of state and religion      5  \n",
       "1011  Removing under god would promote religious tol...      3  \n",
       "1012  Under God  is part of American tradition and h...      3  \n",
       "\n",
       "[1013 rows x 4 columns]"
      ]
     },
     "execution_count": 55,
     "metadata": {},
     "output_type": "execute_result"
    }
   ],
   "source": [
    "ugip"
   ]
  },
  {
   "cell_type": "code",
   "execution_count": 57,
   "metadata": {},
   "outputs": [
    {
     "name": "stderr",
     "output_type": "stream",
     "text": [
      "Processing comments:   0%|          | 0/1013 [00:00<?, ?it/s]"
     ]
    },
    {
     "name": "stderr",
     "output_type": "stream",
     "text": [
      "Processing comments: 100%|██████████| 1013/1013 [12:57<00:00,  1.30it/s]\n"
     ]
    }
   ],
   "source": [
    "ugip = pd.read_csv('../../clean_data/UGIP_structured.csv')\n",
    "\n",
    "def process_comments_with_arguments(df: pd.DataFrame) -> List[dict]:\n",
    "    results = []\n",
    "    for idx, row in tqdm(df.iterrows(), total=len(df), desc=\"Processing comments\"):\n",
    "        comment_id = row['id'] \n",
    "        comment_text = row['comment_text']  \n",
    "        argument_text = row['argument_text']\n",
    "\n",
    "        try:\n",
    "            classification = classify_text_gpt(comment_id, comment_text, argument_text)\n",
    "            results.append(classification)\n",
    "\n",
    "        except json.JSONDecodeError as e:\n",
    "            print(f\"JSONDecodeError for comment: {comment_text[:50]}... - Error: {e}\")\n",
    "            continue\n",
    "\n",
    "        except Exception as e:\n",
    "            print(f\"An unexpected error occurred for comment: {comment_text[:50]}... - Error: {e}\")\n",
    "            continue\n",
    "\n",
    "    return results\n",
    "\n",
    "classifications = process_comments_with_arguments(ugip)\n",
    "\n",
    "output_file = 'comarg_ugip_argument_identification_gpt.json'\n",
    "with open(output_file, 'w') as f:\n",
    "    json.dump(classifications, f, indent=2)"
   ]
  },
  {
   "cell_type": "code",
   "execution_count": 69,
   "metadata": {},
   "outputs": [],
   "source": [
    "input_ugip = '/Users/guida/llm_argument_tasks/output_files/gpt4o-mini/comarg_ugip_argument_identification.json'\n",
    "output_ugip = '/Users/guida/llm_argument_tasks/output_files/gpt4o-mini/comarg_ugip_argument_identification.csv'\n",
    "\n",
    "with open(input_gm, 'r') as f:\n",
    "    data = json.load(f)\n",
    "    data = [json.loads(item) for item in data]\n",
    "\n",
    "with open(output_gm, 'w', newline='', encoding='utf-8') as f:\n",
    "    writer = csv.writer(f)\n",
    "\n",
    "    writer.writerow(['comment_text', 'argument_text', 'label'])\n",
    "    \n",
    "    for item in data:\n",
    "        writer.writerow([item['id'], item['label']])"
   ]
  },
  {
   "cell_type": "code",
   "execution_count": 68,
   "metadata": {},
   "outputs": [],
   "source": [
    "input_gm = '/Users/guida/llm_argument_tasks/output_files/gpt4o-mini/comarg_gm_argument_identification.json'\n",
    "output_gm = '/Users/guida/llm_argument_tasks/output_files/gpt4o-mini/comarg_gm_argument_identification.csv'\n",
    "\n",
    "with open(input_gm, 'r') as f:\n",
    "    data = json.load(f)\n",
    "    data = [json.loads(item) for item in data]\n",
    "\n",
    "with open(output_gm, 'w', newline='', encoding='utf-8') as f:\n",
    "    writer = csv.writer(f)\n",
    "\n",
    "    writer.writerow(['comment_text', 'argument_text', 'label'])\n",
    "    \n",
    "    for item in data:\n",
    "        writer.writerow([item['id'], item['label']])"
   ]
  }
 ],
 "metadata": {
  "kernelspec": {
   "display_name": "myenv",
   "language": "python",
   "name": "python3"
  },
  "language_info": {
   "codemirror_mode": {
    "name": "ipython",
    "version": 3
   },
   "file_extension": ".py",
   "mimetype": "text/x-python",
   "name": "python",
   "nbconvert_exporter": "python",
   "pygments_lexer": "ipython3",
   "version": "3.12.3"
  }
 },
 "nbformat": 4,
 "nbformat_minor": 2
}
