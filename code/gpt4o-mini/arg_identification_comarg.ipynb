{
 "cells": [
  {
   "cell_type": "code",
   "execution_count": 2,
   "metadata": {},
   "outputs": [],
   "source": [
    "\n",
    "from openai import OpenAI\n",
    "import os\n",
    "import pandas as pd\n",
    "import jsonlines\n",
    "from dotenv import load_dotenv\n",
    "from pydantic import BaseModel, Field\n",
    "from typing import List\n",
    "from tqdm import tqdm\n",
    "import json, csv\n",
    "load_dotenv('/Users/guida/llm_argument_tasks/.env')\n",
    "\n",
    "api_key = os.environ.get('OPENAI_API_KEY')\n",
    "client = OpenAI()"
   ]
  },
  {
   "cell_type": "code",
   "execution_count": 3,
   "metadata": {},
   "outputs": [],
   "source": [
    "class ArgumentClassification(BaseModel):\n",
    "    id: str = Field(description=\"The ID the comment being analyzed\")    \n",
    "    label: int = Field(description=\"The label associated with the argument (0 or 1)\") "
   ]
  },
  {
   "cell_type": "markdown",
   "metadata": {},
   "source": [
    "## Gay Marriage"
   ]
  },
  {
   "cell_type": "code",
   "execution_count": 4,
   "metadata": {},
   "outputs": [],
   "source": [
    "def classify_text_gpt(id: str, comment_text: str, argument: str) -> dict:\n",
    "    completion = client.beta.chat.completions.parse(\n",
    "        model=\"gpt-4o-mini\",\n",
    "        messages=[\n",
    "        {\"role\": \"system\", \"content\": f\"\"\"\n",
    "        Analyze the given comment about gay marriage in relation to a specific argument. Your need to:\n",
    "        Identify if the comment makes use the given argument. If it does, assign the label 1. If it does not, assign the label 0.\n",
    "        Do NOT use any other label.\n",
    "        Do NOT include the comment or the argument in the response.\n",
    "        \n",
    "        The argument to analyze is: {argument}\n",
    "        \n",
    "        Provide your response in the following JSON format:\n",
    "        \n",
    "        {{\n",
    "            \"id\": \"{id}\",\n",
    "            \"label\": \"the label for the use of the argument in the comment\"\n",
    "        }}\n",
    "        \n",
    "        Analyze the following comment in relation to the given argument\n",
    "        \"\"\"},\n",
    "        {\"role\": \"user\", \"content\": comment_text},\n",
    "        ],\n",
    "        response_format=ArgumentClassification,\n",
    "        temperature=0,\n",
    "        top_p=1,\n",
    "    )\n",
    "\n",
    "    return completion.choices[0].message.content"
   ]
  },
  {
   "cell_type": "code",
   "execution_count": 6,
   "metadata": {},
   "outputs": [
    {
     "name": "stderr",
     "output_type": "stream",
     "text": [
      "Processing comments: 100%|██████████| 1285/1285 [14:35<00:00,  1.47it/s]\n"
     ]
    }
   ],
   "source": [
    "gm = pd.read_csv('../../clean_data/GM_structured.csv')\n",
    "\n",
    "def process_comments_with_arguments(df: pd.DataFrame, output_file: str):\n",
    "    with jsonlines.open(output_file, mode='a') as writer:\n",
    "        for idx, row in tqdm(df.iterrows(), total=len(df), desc=\"Processing comments\"):\n",
    "            comment_id = row['id']\n",
    "            comment_text = row['comment_text']\n",
    "            argument_text = row['argument_text']\n",
    "\n",
    "            try:\n",
    "                classification = classify_text_gpt(comment_id, comment_text, argument_text)\n",
    "                writer.write(classification)\n",
    "\n",
    "            except json.JSONDecodeError as e:\n",
    "                print(f\"JSONDecodeError for comment: {comment_text[:50]}... - Error: {e}\")\n",
    "                continue\n",
    "\n",
    "            except Exception as e:\n",
    "                print(f\"An unexpected error occurred for comment: {comment_text[:50]}... - Error: {e}\")\n",
    "                continue\n",
    "\n",
    "output_file = 'comarg_gm_argument_identification.jsonl'\n",
    "process_comments_with_arguments(gm, output_file)"
   ]
  },
  {
   "cell_type": "markdown",
   "metadata": {},
   "source": [
    "## Under God in Pledge"
   ]
  },
  {
   "cell_type": "code",
   "execution_count": 9,
   "metadata": {},
   "outputs": [
    {
     "name": "stderr",
     "output_type": "stream",
     "text": [
      "Processing comments: 100%|██████████| 1013/1013 [11:43<00:00,  1.44it/s]\n"
     ]
    }
   ],
   "source": [
    "ugip = pd.read_csv('../../clean_data/UGIP_structured.csv')\n",
    "\n",
    "def process_comments_with_arguments(df: pd.DataFrame, output_file: str) -> List[dict]:\n",
    "    with jsonlines.open(output_file, mode='a') as writer:\n",
    "        for idx, row in tqdm(df.iterrows(), total=len(df), desc=\"Processing comments\"):\n",
    "            comment_id = row['id'] \n",
    "            comment_text = row['comment_text']  \n",
    "            argument_text = row['argument_text']\n",
    "\n",
    "            try:\n",
    "                classification = classify_text_gpt(comment_id, comment_text, argument_text)\n",
    "                writer.write(classification)\n",
    "            except json.JSONDecodeError as e:\n",
    "                print(f\"JSONDecodeError for comment: {comment_text[:50]}... - Error: {e}\")\n",
    "                continue\n",
    "\n",
    "            except Exception as e:\n",
    "                print(f\"An unexpected error occurred for comment: {comment_text[:50]}... - Error: {e}\")\n",
    "            continue\n",
    "\n",
    "\n",
    "process_comments_with_arguments(ugip, 'comarg_ugip_argument_identification_gpt.jsonl')"
   ]
  }
 ],
 "metadata": {
  "kernelspec": {
   "display_name": "myenv",
   "language": "python",
   "name": "python3"
  },
  "language_info": {
   "codemirror_mode": {
    "name": "ipython",
    "version": 3
   },
   "file_extension": ".py",
   "mimetype": "text/x-python",
   "name": "python",
   "nbconvert_exporter": "python",
   "pygments_lexer": "ipython3",
   "version": "3.12.3"
  }
 },
 "nbformat": 4,
 "nbformat_minor": 2
}
