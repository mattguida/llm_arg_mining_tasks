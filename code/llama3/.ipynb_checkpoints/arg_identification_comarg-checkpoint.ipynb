{
 "cells": [
  {
   "cell_type": "code",
   "execution_count": 8,
   "id": "765d2e98-8bd9-48e7-9042-f5e56173be10",
   "metadata": {},
   "outputs": [
    {
     "name": "stdout",
     "output_type": "stream",
     "text": [
      "Your API Key: None\n"
     ]
    }
   ],
   "source": [
    "import os\n",
    "api_key = os.getenv('TOGETHER_API_KEY')\n",
    "\n",
    "# Use the API key\n",
    "print(f\"Your API Key: {api_key}\")"
   ]
  },
  {
   "cell_type": "code",
   "execution_count": null,
   "id": "b89c0f6d-8a3c-4d0a-af08-f1949ed3530c",
   "metadata": {},
   "outputs": [],
   "source": []
  }
 ],
 "metadata": {
  "kernelspec": {
   "display_name": "Python 3 (ipykernel)",
   "language": "python",
   "name": "python3"
  },
  "language_info": {
   "codemirror_mode": {
    "name": "ipython",
    "version": 3
   },
   "file_extension": ".py",
   "mimetype": "text/x-python",
   "name": "python",
   "nbconvert_exporter": "python",
   "pygments_lexer": "ipython3",
   "version": "3.12.2"
  }
 },
 "nbformat": 4,
 "nbformat_minor": 5
}
