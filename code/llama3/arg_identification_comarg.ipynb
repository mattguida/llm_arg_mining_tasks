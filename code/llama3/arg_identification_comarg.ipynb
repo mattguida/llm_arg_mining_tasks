{
 "cells": [
  {
   "cell_type": "code",
   "execution_count": 1,
   "id": "765d2e98-8bd9-48e7-9042-f5e56173be10",
   "metadata": {},
   "outputs": [
    {
     "ename": "ModuleNotFoundError",
     "evalue": "No module named 'dotenv'",
     "output_type": "error",
     "traceback": [
      "\u001b[0;31m---------------------------------------------------------------------------\u001b[0m",
      "\u001b[0;31mModuleNotFoundError\u001b[0m                       Traceback (most recent call last)",
      "Cell \u001b[0;32mIn[1], line 8\u001b[0m\n\u001b[1;32m      6\u001b[0m \u001b[38;5;28;01mimport\u001b[39;00m \u001b[38;5;21;01mjsonlines\u001b[39;00m \u001b[38;5;28;01mas\u001b[39;00m \u001b[38;5;21;01mjl\u001b[39;00m\n\u001b[1;32m      7\u001b[0m \u001b[38;5;28;01mfrom\u001b[39;00m \u001b[38;5;21;01mpathlib\u001b[39;00m \u001b[38;5;28;01mimport\u001b[39;00m Path\n\u001b[0;32m----> 8\u001b[0m \u001b[38;5;28;01mfrom\u001b[39;00m \u001b[38;5;21;01mdotenv\u001b[39;00m \u001b[38;5;28;01mimport\u001b[39;00m load_dotenv\n\u001b[1;32m      9\u001b[0m \u001b[38;5;28;01mfrom\u001b[39;00m \u001b[38;5;21;01mtyping\u001b[39;00m \u001b[38;5;28;01mimport\u001b[39;00m List\n\u001b[1;32m     10\u001b[0m \u001b[38;5;28;01mimport\u001b[39;00m \u001b[38;5;21;01mre\u001b[39;00m\n",
      "\u001b[0;31mModuleNotFoundError\u001b[0m: No module named 'dotenv'"
     ]
    }
   ],
   "source": [
    "# Data manipulation\n",
    "import os\n",
    "import pandas as pd\n",
    "import csv\n",
    "import json\n",
    "import jsonlines as jl\n",
    "from pathlib import Path\n",
    "from dotenv import load_dotenv\n",
    "from typing import List\n",
    "import re\n",
    "\n",
    "# Machine Learning\n",
    "import torch\n",
    "import torch.nn as nn\n",
    "import tensorflow as tf\n",
    "from sklearn.metrics import accuracy_score, precision_recall_fscore_support, confusion_matrix\n",
    "\n",
    "# Visualization\n",
    "import seaborn as sns\n",
    "import matplotlib.pyplot as plt\n",
    "\n",
    "# Transformers and Langchain\n",
    "from pydantic import ValidationError, BaseModel, Field\n",
    "\n",
    "# API and utility\n",
    "from huggingface_hub import login\n",
    "from together import Together\n",
    "import time\n",
    "from tqdm import tqdm\n",
    "import accelerate\n",
    "\n",
    "\n",
    "load_dotenv()\n",
    "\n",
    "api_key = os.environ.get('TOGETHER_API_KEY')\n",
    "client = Together(api_key=api_key)"
   ]
  },
  {
   "cell_type": "code",
   "execution_count": 18,
   "id": "231e75bc-6eef-4e99-bf4c-607db0bdb41c",
   "metadata": {},
   "outputs": [],
   "source": [
    "def get_llm(model_type):\n",
    "    if model_type == \"llama\":\n",
    "        return client.chat.completions.create(\n",
    "            model=\"meta-llama/Meta-Llama-3.1-8B-Instruct-Turbo\",\n",
    "            max_tokens=512,\n",
    "            messages=[],\n",
    "            temperature=0.8,\n",
    "            stop=[\"<|eot_id|>\"]\n",
    "        )\n",
    "llm = get_llm(\"llama\")"
   ]
  },
  {
   "cell_type": "code",
   "execution_count": 19,
   "id": "4469e3eb-f384-450a-a56e-85527efed94c",
   "metadata": {},
   "outputs": [],
   "source": [
    "class ArgumentClassification(BaseModel):\n",
    "    comment: str = Field(description=\"The text of the comment being analyzed\")     \n",
    "\n",
    "    argument: str = Field(description=\"The argument being checked in the comment\")\n",
    "    \n",
    "    label: str = Field(description=\"The label associated with the argument\")   "
   ]
  },
  {
   "cell_type": "code",
   "execution_count": 24,
   "id": "8fbbfa99-99b2-4b43-bdc8-15339b1eb4ce",
   "metadata": {},
   "outputs": [],
   "source": [
    "def classify_text(messages: List[dict]) -> dict:\n",
    "    extract = client.chat.completions.create(\n",
    "        messages=messages,\n",
    "        model=\"meta-llama/Meta-Llama-3.1-8B-Instruct-Turbo\",\n",
    "        response_format={\n",
    "            \"type\": \"json_object\",\n",
    "            \"schema\": ArgumentClassification.model_json_schema(),\n",
    "        }\n",
    "    )\n",
    "    \n",
    "    return json.loads(extract.choices[0].message.content)"
   ]
  },
  {
   "cell_type": "markdown",
   "id": "9e023010-b2cc-4252-9ee5-440abafa1c7d",
   "metadata": {},
   "source": [
    "## GAY MARRIAGE"
   ]
  },
  {
   "cell_type": "code",
   "execution_count": 20,
   "id": "6ba50df2-a790-41a1-b608-c0a0b310a144",
   "metadata": {},
   "outputs": [],
   "source": [
    "arguments_gm = [\n",
    "    \"It is discriminatory to refuse gay couples the right to marry\",\n",
    "    \"Gay couples should be able to take advantage of the fiscal and legal benefits of marriage\",\n",
    "    \"Marriage is about more than procreation, therefore gay couples should not be denied the right to marry due to their biology\",\n",
    "    \"Gay couples can declare their union without resort to marriage\",\n",
    "    \"Gay marriage undermines the institution of marriage, leading to an increase in out of wedlock births and divorce rates\",\n",
    "    \"Major world religions are against gay marriages\",\n",
    "    \"Marriage should be between a man and a woman\"\n",
    "]"
   ]
  },
  {
   "cell_type": "code",
   "execution_count": 25,
   "id": "98b6ac80-d67d-40a5-b164-8f2ecef01cc3",
   "metadata": {},
   "outputs": [],
   "source": [
    "def argument_identification_gm(comment_text: str, argument: str) -> List[dict]:\n",
    "    messages = [\n",
    "        {\"role\": \"system\", \"content\": f\"\"\"\n",
    "        You are an AI assistant tasked with analyzing a comment about gay marriage in relation to a specific argument. You need to:\n",
    "        Identify if the comment makes use the given argument. If it does, assign the label 1. If it does not, assign the label 0.\n",
    "        Do NOT use any other label.\n",
    "        Do NOT add additional text, nor explanations. \n",
    "\n",
    "        The argument to analyze is: {argument}\n",
    "        \n",
    "        Provide your response in the following JSON format:\n",
    "        {{\n",
    "            \"comment\": \"full text of the comment\",\n",
    "            \"argument\": \"the argument being analyzed\",\n",
    "            \"label\": \"the label for the use of the argument in the comment\"\n",
    "        }}\n",
    "        \n",
    "        Analyze the following comment in relation to the given argument:\n",
    "        \"\"\"},\n",
    "        {\"role\": \"user\", \"content\": comment_text}\n",
    "    ]\n",
    "    return messages"
   ]
  },
  {
   "cell_type": "code",
   "execution_count": 33,
   "id": "aed562f3-58b7-496e-bf61-c3f953d0ebc6",
   "metadata": {},
   "outputs": [
    {
     "name": "stdout",
     "output_type": "stream",
     "text": [
      "/home/guida/llm_argument_tasks/code/llama3\n"
     ]
    }
   ],
   "source": [
    "\n",
    "!pwd"
   ]
  },
  {
   "cell_type": "code",
   "execution_count": 42,
   "id": "ef75b752-fc38-4555-8e79-93cb0ba218e1",
   "metadata": {},
   "outputs": [],
   "source": [
    "gm = pd.read_csv('../../clean_data/GM_structured.csv')\n",
    "\n",
    "unique_comments = gm['comment_text'].unique()\n",
    "def process_unique_comments(unique_comments: List[str]) -> dict:\n",
    "    results = []\n",
    "    for comment in unique_comments:\n",
    "        comment_results = []\n",
    "        for argument in arguments_gm:\n",
    "            messages = argument_identification_gm(comment, argument)\n",
    "            \n",
    "            try:\n",
    "                classification = classify_text(messages)\n",
    "                comment_results.append(classification)\n",
    "                print(classification)\n",
    "            \n",
    "            except json.JSONDecodeError as e:\n",
    "                print(f\"JSONDecodeError for comment: {comment[:50]}... - Error: {e}\")\n",
    "                continue  \n",
    "                \n",
    "            except Exception as e:\n",
    "                print(f\"An unexpected error occurred for comment: {comment[:50]}... - Error: {e}\")\n",
    "                continue  \n",
    "\n",
    "        results.append(comment_results)\n",
    "    \n",
    "    return results\n",
    "\n",
    "classifications = process_unique_comments(unique_comments)\n",
    "with open('llm_argument_tasks/output_files/llama3/comarg_gm_argument_identification', 'w') as f:\n",
    "    json.dump(classifications, f, indent=2)"
   ]
  },
  {
   "cell_type": "markdown",
   "id": "cfad89e9-3584-425d-9886-905ce5427904",
   "metadata": {},
   "source": [
    "## UNDER GOD IN PLEDGE"
   ]
  },
  {
   "cell_type": "code",
   "execution_count": 21,
   "id": "c01b5466-d450-4a2a-b12f-6e2a6a2e73d2",
   "metadata": {},
   "outputs": [],
   "source": [
    "arguments_ugip = [\n",
    "    \"Likely to be seen as a state-sanctioned condemnation of religion\",\n",
    "    \"The principles of democracy regulate that the wishes of American Christians, who are a majority, are honored\",\n",
    "    \"Under God is part of American tradition and history\",\n",
    "    \"Implies ultimate power on the part of the state\",\n",
    "    \"Removing under god would promote religious tolerance\",\n",
    "    \"Separation of state and religion\"\n",
    "]"
   ]
  },
  {
   "cell_type": "markdown",
   "id": "f9ec9a64",
   "metadata": {},
   "source": [
    "## Convert JSON into CSV for evaluation"
   ]
  },
  {
   "cell_type": "code",
   "execution_count": 10,
   "id": "af37c8ed",
   "metadata": {},
   "outputs": [],
   "source": [
    "input_ugip = '/Users/guida/llm_argument_tasks/code/llama3/comarg_ugip_argument_identification.json'\n",
    "output_ugip = '/Users/guida/llm_argument_tasks/output_files/llama3/comarg_ugip_argument_identification.csv'\n",
    "\n",
    "with open(input_ugip, 'r') as f:\n",
    "    data = json.load(f)\n",
    "filtered_data = [item for sublist in data for item in sublist if item['label'] == 1]\n",
    "with open(output_ugip, 'w', newline='', encoding='utf-8') as f:\n",
    "    writer = csv.writer(f)\n",
    "\n",
    "    writer.writerow(['comment_text', 'argument_text', 'label'])\n",
    "    \n",
    "    for item in filtered_data:\n",
    "        writer.writerow([item['comment'], item['argument'], item['label']])"
   ]
  },
  {
   "cell_type": "code",
   "execution_count": 11,
   "id": "03d9fe54",
   "metadata": {},
   "outputs": [],
   "source": [
    "input_gm = '/Users/guida/llm_argument_tasks/code/llama3/comarg_gm_argument_identification.json'\n",
    "output_gm = '/Users/guida/llm_argument_tasks/output_files/llama3/comarg_gm_argument_identification.csv'\n",
    "\n",
    "with open(input_gm, 'r') as f:\n",
    "    data = json.load(f)\n",
    "filtered_data = [item for sublist in data for item in sublist if item['label'] == 1]\n",
    "with open(output_gm, 'w', newline='', encoding='utf-8') as f:\n",
    "    writer = csv.writer(f)\n",
    "\n",
    "    writer.writerow(['comment_text', 'argument_text', 'label'])\n",
    "    \n",
    "    for item in filtered_data:\n",
    "        writer.writerow([item['comment'], item['argument'], item['label']])"
   ]
  }
 ],
 "metadata": {
  "kernelspec": {
   "display_name": "Python 3 (ipykernel)",
   "language": "python",
   "name": "python3"
  },
  "language_info": {
   "codemirror_mode": {
    "name": "ipython",
    "version": 3
   },
   "file_extension": ".py",
   "mimetype": "text/x-python",
   "name": "python",
   "nbconvert_exporter": "python",
   "pygments_lexer": "ipython3",
   "version": "3.12.3"
  }
 },
 "nbformat": 4,
 "nbformat_minor": 5
}
