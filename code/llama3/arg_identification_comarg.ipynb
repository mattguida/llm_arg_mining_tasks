{
 "cells": [
  {
   "cell_type": "code",
   "execution_count": 10,
   "id": "765d2e98-8bd9-48e7-9042-f5e56173be10",
   "metadata": {},
   "outputs": [],
   "source": [
    "# Data manipulation\n",
    "import os\n",
    "import pandas as pd\n",
    "import csv\n",
    "import json\n",
    "import jsonlines as jl\n",
    "from pathlib import Path\n",
    "from dotenv import load_dotenv\n",
    "from typing import List\n",
    "import re\n",
    "\n",
    "# Machine Learning\n",
    "import torch\n",
    "import torch.nn as nn\n",
    "import tensorflow as tf\n",
    "from sklearn.metrics import accuracy_score, precision_recall_fscore_support, confusion_matrix\n",
    "\n",
    "# Visualization\n",
    "import seaborn as sns\n",
    "import matplotlib.pyplot as plt\n",
    "\n",
    "# Transformers and Langchain\n",
    "from pydantic import ValidationError, BaseModel, Field\n",
    "\n",
    "# API and utility\n",
    "from huggingface_hub import login\n",
    "from together import Together\n",
    "import time\n",
    "from tqdm import tqdm\n",
    "import accelerate\n",
    "\n",
    "\n",
    "load_dotenv()\n",
    "\n",
    "api_key = os.environ.get('TOGETHER_API_KEY')\n",
    "client = Together(api_key=api_key)"
   ]
  },
  {
   "cell_type": "code",
   "execution_count": 11,
   "id": "231e75bc-6eef-4e99-bf4c-607db0bdb41c",
   "metadata": {},
   "outputs": [],
   "source": [
    "def get_llm(model_type):\n",
    "    if model_type == \"llama\":\n",
    "        return client.chat.completions.create(\n",
    "            model=\"meta-llama/Meta-Llama-3.1-8B-Instruct-Turbo\",\n",
    "            max_tokens=512,\n",
    "            messages=[],\n",
    "            temperature=0.8,\n",
    "            stop=[\"<|eot_id|>\"]\n",
    "        )\n",
    "llm = get_llm(\"llama\")"
   ]
  },
  {
   "cell_type": "code",
   "execution_count": 12,
   "id": "4469e3eb-f384-450a-a56e-85527efed94c",
   "metadata": {},
   "outputs": [],
   "source": [
    "class ArgumentClassification(BaseModel):\n",
    "    id: str = Field(description=\"The ID the comment being analyzed\")    \n",
    "    label: int = Field(description=\"The label associated with the argument (0 or 1)\") "
   ]
  },
  {
   "cell_type": "code",
   "execution_count": 23,
   "id": "8fbbfa99-99b2-4b43-bdc8-15339b1eb4ce",
   "metadata": {},
   "outputs": [],
   "source": [
    "def classify_text(id: str, comment_text: str, argument: str) -> dict:\n",
    "    extract = client.chat.completions.create(\n",
    "        messages=[\n",
    "            {\"role\": \"system\", \"content\": f\"\"\"\n",
    "            Analyze the given comment about gay marriage in relation to a specific argument. You need to:\n",
    "            Identify if the comment makes use of the given argument. If it does, assign the label 1. If it does not, assign the label 0.\n",
    "            Do NOT use any other label.\n",
    "            Do NOT include the comment or the argument in the response.\n",
    "            \n",
    "            The argument to analyze is: {argument}\n",
    "            \n",
    "            Provide your response in the following JSON format:\n",
    "            \n",
    "            {{\n",
    "                \"id\": \"{id}\",\n",
    "                \"label\": \"the label for the use of the argument in the comment\"\n",
    "            }}\n",
    "            \n",
    "            Analyze the following comment in relation to the given argument:\n",
    "            \"\"\"},\n",
    "            {\"role\": \"user\", \"content\": comment_text},\n",
    "        ],\n",
    "        model=\"meta-llama/Meta-Llama-3.1-8B-Instruct-Turbo\",\n",
    "        response_format={\n",
    "            \"type\": \"json_object\",\n",
    "            \"schema\": ArgumentClassification.model_json_schema(),\n",
    "        }\n",
    "    )\n",
    "    \n",
    "    return json.loads(extract.choices[0].message.content)\n"
   ]
  },
  {
   "cell_type": "markdown",
   "id": "9e023010-b2cc-4252-9ee5-440abafa1c7d",
   "metadata": {},
   "source": [
    "## GAY MARRIAGE"
   ]
  },
  {
   "cell_type": "code",
   "execution_count": 28,
   "id": "ef75b752-fc38-4555-8e79-93cb0ba218e1",
   "metadata": {},
   "outputs": [
    {
     "name": "stderr",
     "output_type": "stream",
     "text": [
      "Processing comments:   0%|          | 0/1285 [00:00<?, ?it/s]"
     ]
    },
    {
     "name": "stderr",
     "output_type": "stream",
     "text": [
      "Processing comments: 100%|██████████| 1285/1285 [29:29<00:00,  1.38s/it]\n"
     ]
    },
    {
     "ename": "FileNotFoundError",
     "evalue": "[Errno 2] No such file or directory: 'llm_argument_tasks/output_files/llama3/comarg_gm_argument_identification'",
     "output_type": "error",
     "traceback": [
      "\u001b[0;31m---------------------------------------------------------------------------\u001b[0m",
      "\u001b[0;31mFileNotFoundError\u001b[0m                         Traceback (most recent call last)",
      "Cell \u001b[0;32mIn[28], line 25\u001b[0m\n\u001b[1;32m     22\u001b[0m     \u001b[38;5;28;01mreturn\u001b[39;00m results\n\u001b[1;32m     24\u001b[0m classifications \u001b[38;5;241m=\u001b[39m process_comments_with_arguments(gm)\n\u001b[0;32m---> 25\u001b[0m \u001b[38;5;28;01mwith\u001b[39;00m \u001b[38;5;28;43mopen\u001b[39;49m\u001b[43m(\u001b[49m\u001b[38;5;124;43m'\u001b[39;49m\u001b[38;5;124;43mllm_argument_tasks/output_files/llama3/comarg_gm_argument_identification\u001b[39;49m\u001b[38;5;124;43m'\u001b[39;49m\u001b[43m,\u001b[49m\u001b[43m \u001b[49m\u001b[38;5;124;43m'\u001b[39;49m\u001b[38;5;124;43mw\u001b[39;49m\u001b[38;5;124;43m'\u001b[39;49m\u001b[43m)\u001b[49m \u001b[38;5;28;01mas\u001b[39;00m f:\n\u001b[1;32m     26\u001b[0m     json\u001b[38;5;241m.\u001b[39mdump(classifications, f, indent\u001b[38;5;241m=\u001b[39m\u001b[38;5;241m2\u001b[39m)\n",
      "File \u001b[0;32m~/llm_argument_tasks/myenv/lib/python3.12/site-packages/IPython/core/interactiveshell.py:324\u001b[0m, in \u001b[0;36m_modified_open\u001b[0;34m(file, *args, **kwargs)\u001b[0m\n\u001b[1;32m    317\u001b[0m \u001b[38;5;28;01mif\u001b[39;00m file \u001b[38;5;129;01min\u001b[39;00m {\u001b[38;5;241m0\u001b[39m, \u001b[38;5;241m1\u001b[39m, \u001b[38;5;241m2\u001b[39m}:\n\u001b[1;32m    318\u001b[0m     \u001b[38;5;28;01mraise\u001b[39;00m \u001b[38;5;167;01mValueError\u001b[39;00m(\n\u001b[1;32m    319\u001b[0m         \u001b[38;5;124mf\u001b[39m\u001b[38;5;124m\"\u001b[39m\u001b[38;5;124mIPython won\u001b[39m\u001b[38;5;124m'\u001b[39m\u001b[38;5;124mt let you open fd=\u001b[39m\u001b[38;5;132;01m{\u001b[39;00mfile\u001b[38;5;132;01m}\u001b[39;00m\u001b[38;5;124m by default \u001b[39m\u001b[38;5;124m\"\u001b[39m\n\u001b[1;32m    320\u001b[0m         \u001b[38;5;124m\"\u001b[39m\u001b[38;5;124mas it is likely to crash IPython. If you know what you are doing, \u001b[39m\u001b[38;5;124m\"\u001b[39m\n\u001b[1;32m    321\u001b[0m         \u001b[38;5;124m\"\u001b[39m\u001b[38;5;124myou can use builtins\u001b[39m\u001b[38;5;124m'\u001b[39m\u001b[38;5;124m open.\u001b[39m\u001b[38;5;124m\"\u001b[39m\n\u001b[1;32m    322\u001b[0m     )\n\u001b[0;32m--> 324\u001b[0m \u001b[38;5;28;01mreturn\u001b[39;00m \u001b[43mio_open\u001b[49m\u001b[43m(\u001b[49m\u001b[43mfile\u001b[49m\u001b[43m,\u001b[49m\u001b[43m \u001b[49m\u001b[38;5;241;43m*\u001b[39;49m\u001b[43margs\u001b[49m\u001b[43m,\u001b[49m\u001b[43m \u001b[49m\u001b[38;5;241;43m*\u001b[39;49m\u001b[38;5;241;43m*\u001b[39;49m\u001b[43mkwargs\u001b[49m\u001b[43m)\u001b[49m\n",
      "\u001b[0;31mFileNotFoundError\u001b[0m: [Errno 2] No such file or directory: 'llm_argument_tasks/output_files/llama3/comarg_gm_argument_identification'"
     ]
    }
   ],
   "source": [
    "gm = pd.read_csv('../../clean_data/GM_structured.csv')\n",
    "\n",
    "def process_comments_with_arguments(df: pd.DataFrame) -> List[dict]:\n",
    "    results = []\n",
    "    for idx, row in tqdm(df.iterrows(), total=len(df), desc=\"Processing comments\"):\n",
    "        comment_id = row['id'] \n",
    "        comment_text = row['comment_text']  \n",
    "        argument_text = row['argument_text']\n",
    "\n",
    "        try:\n",
    "            classification = classify_text(comment_id, comment_text, argument_text)\n",
    "            results.append(classification)\n",
    "\n",
    "        except json.JSONDecodeError as e:\n",
    "            print(f\"JSONDecodeError for comment: {comment_text[:50]}... - Error: {e}\")\n",
    "            continue\n",
    "\n",
    "        except Exception as e:\n",
    "            print(f\"An unexpected error occurred for comment: {comment_text[:50]}... - Error: {e}\")\n",
    "            continue\n",
    "\n",
    "    return results\n",
    "\n",
    "classifications = process_comments_with_arguments(gm)"
   ]
  },
  {
   "cell_type": "code",
   "execution_count": 29,
   "id": "bb2d1e26",
   "metadata": {},
   "outputs": [],
   "source": [
    "with open('comarg_gm_argument_identification', 'w') as f:\n",
    "    json.dump(classifications, f, indent=2)"
   ]
  },
  {
   "cell_type": "code",
   "execution_count": 30,
   "id": "00ae06a4",
   "metadata": {},
   "outputs": [
    {
     "name": "stderr",
     "output_type": "stream",
     "text": [
      "Processing comments: 100%|██████████| 1013/1013 [36:30<00:00,  2.16s/it] \n"
     ]
    }
   ],
   "source": [
    "ugip = pd.read_csv('../../clean_data/UGIP_structured.csv')\n",
    "\n",
    "def process_comments_with_arguments(df: pd.DataFrame) -> List[dict]:\n",
    "    results = []\n",
    "    for idx, row in tqdm(df.iterrows(), total=len(df), desc=\"Processing comments\"):\n",
    "        comment_id = row['id'] \n",
    "        comment_text = row['comment_text']  \n",
    "        argument_text = row['argument_text']\n",
    "\n",
    "        try:\n",
    "            classification = classify_text(comment_id, comment_text, argument_text)\n",
    "            results.append(classification)\n",
    "\n",
    "        except json.JSONDecodeError as e:\n",
    "            print(f\"JSONDecodeError for comment: {comment_text[:50]}... - Error: {e}\")\n",
    "            continue\n",
    "\n",
    "        except Exception as e:\n",
    "            print(f\"An unexpected error occurred for comment: {comment_text[:50]}... - Error: {e}\")\n",
    "            continue\n",
    "\n",
    "    return results\n",
    "\n",
    "classifications = process_comments_with_arguments(ugip)\n",
    "with open('comarg_ugip_argument_identification', 'w') as f:\n",
    "    json.dump(classifications, f, indent=2)"
   ]
  },
  {
   "cell_type": "markdown",
   "id": "f9ec9a64",
   "metadata": {},
   "source": [
    "## Convert JSON into CSV for evaluation"
   ]
  },
  {
   "cell_type": "code",
   "execution_count": 9,
   "id": "af37c8ed",
   "metadata": {},
   "outputs": [],
   "source": [
    "input_ugip = '/Users/guida/llm_argument_tasks/output_files/llama3/comarg_ugip_argument_identification.json'\n",
    "output_ugip = '/Users/guida/llm_argument_tasks/output_files/llama3/comarg_ugip_argument_identification.csv'\n",
    "\n",
    "with open(input_ugip, 'r') as f:\n",
    "    data = json.load(f)\n",
    "\n",
    "\n",
    "with open(output_ugip, 'w', newline='', encoding='utf-8') as f:\n",
    "    writer = csv.writer(f)\n",
    "    writer.writerow(['comment_text', 'argument_text', 'label'])\n",
    "    \n",
    "    for inner_list in data:\n",
    "        for item in inner_list:  # Iterate through each inner list\n",
    "            # Assuming each item is a dictionary and has 'comment', 'argument', and 'label'\n",
    "            writer.writerow([item['comment'], item['argument'], item['label']])"
   ]
  },
  {
   "cell_type": "code",
   "execution_count": 7,
   "id": "03d9fe54",
   "metadata": {},
   "outputs": [],
   "source": [
    "input_gm = '/Users/guida/llm_argument_tasks/output_files/llama3/comarg_gm_argument_identification.json'\n",
    "output_gm = '/Users/guida/llm_argument_tasks/output_files/llama3/comarg_gm_argument_identification.csv'\n",
    "\n",
    "with open(input_gm, 'r') as f:\n",
    "    data = json.load(f)\n",
    "\n",
    "with open(output_gm, 'w', newline='', encoding='utf-8') as f:\n",
    "    writer = csv.writer(f)\n",
    "    writer.writerow(['comment_text', 'argument_text', 'label'])\n",
    "    \n",
    "    for inner_list in data:\n",
    "        for item in inner_list:  # Iterate through each inner list\n",
    "            # Assuming each item is a dictionary and has 'comment', 'argument', and 'label'\n",
    "            writer.writerow([item['comment'], item['argument'], item['label']])"
   ]
  }
 ],
 "metadata": {
  "kernelspec": {
   "display_name": "Python 3 (ipykernel)",
   "language": "python",
   "name": "python3"
  },
  "language_info": {
   "codemirror_mode": {
    "name": "ipython",
    "version": 3
   },
   "file_extension": ".py",
   "mimetype": "text/x-python",
   "name": "python",
   "nbconvert_exporter": "python",
   "pygments_lexer": "ipython3",
   "version": "3.12.3"
  }
 },
 "nbformat": 4,
 "nbformat_minor": 5
}
