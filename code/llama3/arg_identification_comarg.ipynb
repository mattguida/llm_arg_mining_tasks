{
 "cells": [
  {
   "cell_type": "code",
   "execution_count": 1,
   "id": "765d2e98-8bd9-48e7-9042-f5e56173be10",
   "metadata": {},
   "outputs": [],
   "source": [
    "# Data manipulation\n",
    "import os\n",
    "import pandas as pd\n",
    "import csv\n",
    "import json\n",
    "import jsonlines\n",
    "import jsonlines as jl\n",
    "from pathlib import Path\n",
    "from dotenv import load_dotenv\n",
    "from typing import List\n",
    "import re\n",
    "\n",
    "# Machine Learning\n",
    "import torch\n",
    "import torch.nn as nn\n",
    "import tensorflow as tf\n",
    "from sklearn.metrics import accuracy_score, precision_recall_fscore_support, confusion_matrix\n",
    "\n",
    "# Visualization\n",
    "import seaborn as sns\n",
    "import matplotlib.pyplot as plt\n",
    "\n",
    "# Transformers and Langchain\n",
    "from pydantic import ValidationError, BaseModel, Field\n",
    "\n",
    "# API and utility\n",
    "from huggingface_hub import login\n",
    "from together import Together\n",
    "import time\n",
    "from tqdm import tqdm\n",
    "import accelerate\n",
    "\n",
    "\n",
    "load_dotenv()\n",
    "\n",
    "api_key = os.environ.get('TOGETHER_API_KEY')\n",
    "client = Together(api_key=api_key)"
   ]
  },
  {
   "cell_type": "code",
   "execution_count": 2,
   "id": "4469e3eb-f384-450a-a56e-85527efed94c",
   "metadata": {},
   "outputs": [],
   "source": [
    "class ArgumentClassification(BaseModel):\n",
    "    id: str = Field(description=\"The ID the comment being analyzed\")    \n",
    "    label: int = Field(description=\"The label associated with the argument (0 or 1)\") "
   ]
  },
  {
   "cell_type": "code",
   "execution_count": 3,
   "id": "8fbbfa99-99b2-4b43-bdc8-15339b1eb4ce",
   "metadata": {},
   "outputs": [],
   "source": [
    "def classify_text(id: str, comment_text: str, argument: str) -> dict:\n",
    "    extract = client.chat.completions.create(\n",
    "        messages=[\n",
    "            {\"role\": \"system\", \"content\": f\"\"\"\n",
    "            Analyze the given comment about gay marriage in relation to a specific argument. You need to:\n",
    "            Identify if the comment makes use of the given argument. If it does, assign the label 1. If it does not, assign the label 0.\n",
    "            Do NOT use any other label.\n",
    "            Do NOT include the comment or the argument in the response.\n",
    "            \n",
    "            The argument to analyze is: {argument}\n",
    "            \n",
    "            Provide your response in the following JSON format:\n",
    "            \n",
    "            {{\n",
    "                \"id\": \"{id}\",\n",
    "                \"label\": \"the label for the use of the argument in the comment\"\n",
    "            }}\n",
    "            \n",
    "            Analyze the following comment in relation to the given argument:\n",
    "            \"\"\"},\n",
    "            {\"role\": \"user\", \"content\": comment_text},\n",
    "        ],\n",
    "        model=\"meta-llama/Meta-Llama-3.1-8B-Instruct-Turbo\",\n",
    "        temperature=0,\n",
    "        top_k=1,\n",
    "        top_p=1,\n",
    "        response_format={\n",
    "            \"type\": \"json_object\",\n",
    "            \"schema\": ArgumentClassification.model_json_schema(),\n",
    "        }\n",
    "    )\n",
    "    \n",
    "    return json.loads(extract.choices[0].message.content)\n"
   ]
  },
  {
   "cell_type": "markdown",
   "id": "9e023010-b2cc-4252-9ee5-440abafa1c7d",
   "metadata": {},
   "source": [
    "## GAY MARRIAGE"
   ]
  },
  {
   "cell_type": "code",
   "execution_count": 4,
   "id": "ef75b752-fc38-4555-8e79-93cb0ba218e1",
   "metadata": {},
   "outputs": [
    {
     "name": "stderr",
     "output_type": "stream",
     "text": [
      "Processing comments: 100%|██████████| 1285/1285 [28:28<00:00,  1.33s/it]\n"
     ]
    }
   ],
   "source": [
    "gm = pd.read_csv('../../clean_data/GM_structured.csv')\n",
    "\n",
    "def process_comments_with_arguments(df: pd.DataFrame, output_file: str):\n",
    "    with jsonlines.open(output_file, mode='w') as writer:\n",
    "        for idx, row in tqdm(df.iterrows(), total=len(df), desc=\"Processing comments\"):\n",
    "            comment_id = row['id']\n",
    "            comment_text = row['comment_text']\n",
    "            argument_text = row['argument_text']\n",
    "\n",
    "            try:\n",
    "                classification = classify_text(comment_id, comment_text, argument_text)\n",
    "                writer.write(classification)\n",
    "\n",
    "            except json.JSONDecodeError as e:\n",
    "                print(f\"JSONDecodeError for comment: {comment_text[:50]}... - Error: {e}\")\n",
    "                continue\n",
    "\n",
    "            except Exception as e:\n",
    "                print(f\"An unexpected error occurred for comment: {comment_text[:50]}... - Error: {e}\")\n",
    "                continue\n",
    "\n",
    "process_comments_with_arguments(gm, 'comarg_gm_argument_identification.jsonl')"
   ]
  },
  {
   "cell_type": "code",
   "execution_count": 5,
   "id": "fbc3f982",
   "metadata": {},
   "outputs": [],
   "source": [
    "def classify_text_ugip(id: str, comment_text: str, argument: str) -> dict:\n",
    "    extract = client.chat.completions.create(\n",
    "        messages=[\n",
    "            {\"role\": \"system\", \"content\": f\"\"\"\n",
    "            Analyze the given comment in relation to a specific argument about whether \"Under God\" should appear in the US Pledge of Allegiance.\n",
    "            Identify if the comment makes use the given argument. If it does, assign the label 1. If it does not, assign the label 0.\n",
    "            Do NOT use any other label.\n",
    "            Do NOT include the comment or the argument in the response.\n",
    "\n",
    "            The argument to analyze is: {argument}\n",
    "            \n",
    "            Provide your response in the following JSON format:\n",
    "            \n",
    "            {{\n",
    "                \"id\": \"{id}\",\n",
    "                \"label\": \"the label for the use of the argument in the comment\"\n",
    "            }}\n",
    "            \n",
    "            Analyze the following comment in relation to the given argument:\n",
    "            \"\"\"},\n",
    "            {\"role\": \"user\", \"content\": comment_text},\n",
    "        ],\n",
    "        model=\"meta-llama/Meta-Llama-3.1-8B-Instruct-Turbo\",\n",
    "        temperature=0,\n",
    "        top_k=1,\n",
    "        top_p=1,\n",
    "        response_format={\n",
    "            \"type\": \"json_object\",\n",
    "            \"schema\": ArgumentClassification.model_json_schema(),\n",
    "        }\n",
    "    )\n",
    "    \n",
    "    return json.loads(extract.choices[0].message.content)\n"
   ]
  },
  {
   "cell_type": "code",
   "execution_count": 6,
   "id": "00ae06a4",
   "metadata": {},
   "outputs": [
    {
     "name": "stderr",
     "output_type": "stream",
     "text": [
      "Processing comments:  28%|██▊       | 286/1013 [06:19<17:17,  1.43s/it]"
     ]
    },
    {
     "name": "stdout",
     "output_type": "stream",
     "text": [
      "An unexpected error occurred for comment: Freedom of religon!!! seriously... - Error: Error code: 400 - {\"message\": \"Bad Request\", \"type_\": \"invalid_request_error\"}\n"
     ]
    },
    {
     "name": "stderr",
     "output_type": "stream",
     "text": [
      "Processing comments: 100%|██████████| 1013/1013 [22:17<00:00,  1.32s/it]\n"
     ]
    }
   ],
   "source": [
    "ugip = pd.read_csv('../../clean_data/UGIP_structured.csv')\n",
    "\n",
    "def process_comments_with_arguments(df: pd.DataFrame, output_file: str):\n",
    "    with jsonlines.open(output_file, mode='w') as writer:\n",
    "        for idx, row in tqdm(df.iterrows(), total=len(df), desc=\"Processing comments\"):\n",
    "            comment_id = row['id']\n",
    "            comment_text = row['comment_text']\n",
    "            argument_text = row['argument_text']\n",
    "\n",
    "            try:\n",
    "                classification = classify_text_ugip(comment_id, comment_text, argument_text)\n",
    "                writer.write(classification)\n",
    "\n",
    "            except json.JSONDecodeError as e:\n",
    "                print(f\"JSONDecodeError for comment: {comment_text[:50]}... - Error: {e}\")\n",
    "                continue\n",
    "\n",
    "            except Exception as e:\n",
    "                print(f\"An unexpected error occurred for comment: {comment_text[:50]}... - Error: {e}\")\n",
    "                continue\n",
    "\n",
    "process_comments_with_arguments(ugip, 'comarg_ugip_argument_identification.jsonl')"
   ]
  }
 ],
 "metadata": {
  "kernelspec": {
   "display_name": "Python 3 (ipykernel)",
   "language": "python",
   "name": "python3"
  },
  "language_info": {
   "codemirror_mode": {
    "name": "ipython",
    "version": 3
   },
   "file_extension": ".py",
   "mimetype": "text/x-python",
   "name": "python",
   "nbconvert_exporter": "python",
   "pygments_lexer": "ipython3",
   "version": "3.12.3"
  }
 },
 "nbformat": 4,
 "nbformat_minor": 5
}
