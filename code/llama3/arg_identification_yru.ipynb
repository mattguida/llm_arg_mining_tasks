{
 "cells": [
  {
   "cell_type": "code",
   "execution_count": 1,
   "metadata": {},
   "outputs": [
    {
     "name": "stdout",
     "output_type": "stream",
     "text": [
      "c4cec04462371915473f823969f423425c33068846f9a064b317758e6b4f4e24\n"
     ]
    }
   ],
   "source": [
    "# Data manipulation\n",
    "import os\n",
    "import pandas as pd\n",
    "import csv\n",
    "import json\n",
    "import jsonlines as jl\n",
    "from pathlib import Path\n",
    "from dotenv import load_dotenv\n",
    "from typing import List\n",
    "import re\n",
    "\n",
    "# Machine Learning\n",
    "import torch\n",
    "import torch.nn as nn\n",
    "import tensorflow as tf\n",
    "from sklearn.metrics import accuracy_score, precision_recall_fscore_support, confusion_matrix\n",
    "\n",
    "# Visualization\n",
    "import seaborn as sns\n",
    "import matplotlib.pyplot as plt\n",
    "\n",
    "# Transformers and Langchain\n",
    "from pydantic import ValidationError, BaseModel, Field\n",
    "\n",
    "# API and utility\n",
    "from huggingface_hub import login\n",
    "from together import Together\n",
    "import time\n",
    "from tqdm import tqdm\n",
    "import accelerate\n",
    "\n",
    "load_dotenv('/Users/guida/llm_argument_tasks/.env')\n",
    "\n",
    "api_key = os.environ.get('TOGETHER_API_KEY')\n",
    "print(api_key)\n",
    "client = Together(api_key=api_key)"
   ]
  },
  {
   "cell_type": "code",
   "execution_count": 2,
   "metadata": {},
   "outputs": [],
   "source": [
    "def get_llm(model_type):\n",
    "    if model_type == \"llama\":\n",
    "        return client.chat.completions.create(\n",
    "            model=\"meta-llama/Meta-Llama-3.1-8B-Instruct-Turbo\",\n",
    "            max_tokens=512,\n",
    "            messages=[],\n",
    "            temperature=0.7,\n",
    "            top_p=0.7,\n",
    "            top_k=50,\n",
    "            repetition_penalty=1,\n",
    "            stop=[\"<|eot_id|>\"]\n",
    "        )\n",
    "llm = get_llm(\"llama\")"
   ]
  },
  {
   "cell_type": "code",
   "execution_count": 3,
   "metadata": {},
   "outputs": [],
   "source": [
    "class ArgumentClassification(BaseModel):\n",
    "    comment: str = Field(description=\"The text of the comment being analyzed\")     \n",
    "\n",
    "    argument: str = Field(description=\"The argument being checked in the comment\")\n",
    "    \n",
    "    label: int = Field(description=\"The label associated with the argument (0 or 1)\") "
   ]
  },
  {
   "cell_type": "code",
   "execution_count": 4,
   "metadata": {},
   "outputs": [],
   "source": [
    "def classify_text(messages: List[dict]) -> dict:\n",
    "    extract = client.chat.completions.create(\n",
    "        messages=messages,\n",
    "        model=\"meta-llama/Meta-Llama-3.1-8B-Instruct-Turbo\",\n",
    "        response_format={\n",
    "            \"type\": \"json_object\",\n",
    "            \"schema\": ArgumentClassification.model_json_schema(),\n",
    "        }\n",
    "    )\n",
    "    \n",
    "    return json.loads(extract.choices[0].message.content)"
   ]
  },
  {
   "cell_type": "code",
   "execution_count": 5,
   "metadata": {},
   "outputs": [],
   "source": [
    "def argument_identification(comment_text: str, argument: str, topic) -> List[dict]:\n",
    "    messages = [\n",
    "        {\"role\": \"system\", \"content\": f\"\"\"\n",
    "        You are an AI assistant tasked with analyzing comments about {topic} in relation to a specific argument. You need to:\n",
    "        Identify if the comment makes use the given argument. \n",
    "        If the comment makes use or refer to the argument, assign the label 1. Otherwise, assign the label 0.\n",
    "\n",
    "        The argument to analyze is: {argument}\n",
    "        \n",
    "        Provide your response in the following JSON format:\n",
    "        {{\n",
    "            \"comment\": \"full text of the comment\",\n",
    "            \"argument\": \"the argument being analyzed\",\n",
    "            \"label\": \"the label for the use of the argument in the comment\"\n",
    "        }}\n",
    "        \n",
    "        Do NOT add text or explanations.\n",
    "        \n",
    "        Analyze the following comment in relation to the given argument:\n",
    "        \"\"\"},\n",
    "        {\"role\": \"user\", \"content\": comment_text}\n",
    "    ]\n",
    "    return messages"
   ]
  },
  {
   "cell_type": "markdown",
   "metadata": {},
   "source": [
    "## Lists of arguments"
   ]
  },
  {
   "cell_type": "code",
   "execution_count": 6,
   "metadata": {},
   "outputs": [],
   "source": [
    "argument_lists = {\n",
    "    'arguments_ab': [\n",
    "        \"Abortion is a woman's right.\",\n",
    "        \"Rape victims need it to be legal.\",\n",
    "        \"A fetus is not a human yet, so it's okay to abort.\",\n",
    "        \"Abortion should be allowed when a mother's life is in danger.\",\n",
    "        \"Unwanted babies are ill-treated by parents and/or not always adopted.\",\n",
    "        \"Birth control fails at times and abortion is one way to deal with it.\",\n",
    "        \"Abortion is not murder.\",\n",
    "        \"Mother is not healthy/financially solvent.\",\n",
    "        \"Put baby up for adoption.\",\n",
    "        \"Abortion kills a life.\",\n",
    "        \"An unborn baby is a human and has the right to live.\",\n",
    "        \"Be willing to have the baby if you have sex.\",\n",
    "        \"Abortion is harmful for women.\",\n",
    "    ],\n",
    "    'arguments_gm': [\n",
    "        \"Gay marriage is like any other marriage.\",\n",
    "        \"Gay people should have the same rights as straight people.\",\n",
    "        \"Gay parents can adopt and ensure a happy life for a baby.\",\n",
    "        \"People are born gay.\",\n",
    "        \"Religion should not be used against gay rights.\",\n",
    "        \"Religion does not permit gay marriages.\",\n",
    "        \"Gay marriages are not normal/against nature.\",\n",
    "        \"Gay parents can not raise kids properly.\",\n",
    "        \"Gay people have problems and create social issues.\",\n",
    "    ],\n",
    "    'arguments_ma': [\n",
    "        \"Not addictive\",\n",
    "        \"Used as a medicine for its positive effects\",\n",
    "        \"Legalized marijuana can be controlled and regulated by the government\",\n",
    "        \"Prohibition violates human rights\",\n",
    "        \"Does not cause any damage to our bodies\",\n",
    "        \"Damages our bodies\",\n",
    "        \"Responsible for brain damage\",\n",
    "        \"If legalized, people will use marijuana and other drugs more\",\n",
    "        \"Causes crime\",\n",
    "        \"Highly addictive\"\n",
    "    ],\n",
    "    'arguments_oba': [\n",
    "        \"Fixed the economy\",\n",
    "        \"Ending the wars\",\n",
    "        \"Better than the republican candidates\",\n",
    "        \"Makes good decisions/policies\",\n",
    "        \"Has qualities of a good leader\",\n",
    "        \"Ensured better healthcare\",\n",
    "        \"Executed effective foreign policies\",\n",
    "        \"Created more jobs\",\n",
    "        \"Destroyed our economy\",\n",
    "        \"Wars are still on\",\n",
    "        \"Unemployment rate is high\",\n",
    "        \"Healthcare bill is a failure\",\n",
    "        \"Poor decision-maker\",\n",
    "        \"We have better republicans than Obama\",\n",
    "        \"Not eligible as a leader\",\n",
    "        \"Ineffective foreign policies\"\n",
    "    ]\n",
    "}"
   ]
  },
  {
   "cell_type": "code",
   "execution_count": 7,
   "metadata": {},
   "outputs": [],
   "source": [
    "def process_dataframe_comments(df: pd.DataFrame, topic: str, argument_list_name: str, text_column: str = 'text') -> dict[str, List]:\n",
    "    arguments = argument_lists[argument_list_name]\n",
    "    unique_comments = df[text_column].unique()\n",
    "    results = []\n",
    "    \n",
    "    for comment in unique_comments:\n",
    "        comment_results = []\n",
    "        for argument in arguments:\n",
    "            messages = argument_identification(comment, argument, topic)\n",
    "            \n",
    "            try:\n",
    "                classification = classify_text(messages)\n",
    "                comment_results.append(classification)\n",
    "            \n",
    "            except json.JSONDecodeError as e:\n",
    "                print(f\"JSONDecodeError for comment: {comment[:50]}... - Error: {e}\")\n",
    "                continue  \n",
    "                \n",
    "            except Exception as e:\n",
    "                print(f\"An unexpected error occurred for comment: {comment[:50]}... - Error: {e}\")\n",
    "                continue  \n",
    "\n",
    "        results.append(comment_results)\n",
    "    \n",
    "    output_filename = f'yru_{argument_list_name}_identification.json'\n",
    "    with open(output_filename, 'w') as f:\n",
    "        json.dump(results, f, indent=2)"
   ]
  },
  {
   "cell_type": "code",
   "execution_count": 8,
   "metadata": {},
   "outputs": [],
   "source": [
    "ab = pd.read_csv('../../clean_data/yru_abortion.csv')\n",
    "topic = 'abortion'\n",
    "argument_list_name = 'arguments_ab'\n",
    "\n",
    "process_dataframe_comments(ab, topic, argument_list_name)"
   ]
  },
  {
   "cell_type": "code",
   "execution_count": null,
   "metadata": {},
   "outputs": [],
   "source": [
    "ma = pd.read_csv('../../clean_data/yru_marijuana.csv')\n",
    "topic = 'marijuana'\n",
    "argument_list_name = 'arguments_ma'\n",
    "\n",
    "process_dataframe_comments(ab, topic, argument_list_name)"
   ]
  },
  {
   "cell_type": "code",
   "execution_count": null,
   "metadata": {},
   "outputs": [],
   "source": [
    "oba = pd.read_csv('../../clean_data/yru_obama.csv')\n",
    "topic = 'obama presidency'\n",
    "argument_list_name = 'arguments_oba'\n",
    "\n",
    "process_dataframe_comments(ab, topic, argument_list_name)"
   ]
  },
  {
   "cell_type": "code",
   "execution_count": null,
   "metadata": {},
   "outputs": [],
   "source": [
    "gm = pd.read_csv('../../clean_data/yru_gayrights.csv')\n",
    "topic = 'gay rights'\n",
    "argument_list_name = 'arguments_gm'\n",
    "\n",
    "process_dataframe_comments(ab, topic, argument_list_name)"
   ]
  }
 ],
 "metadata": {
  "kernelspec": {
   "display_name": "myenv",
   "language": "python",
   "name": "python3"
  },
  "language_info": {
   "codemirror_mode": {
    "name": "ipython",
    "version": 3
   },
   "file_extension": ".py",
   "mimetype": "text/x-python",
   "name": "python",
   "nbconvert_exporter": "python",
   "pygments_lexer": "ipython3",
   "version": "3.12.3"
  }
 },
 "nbformat": 4,
 "nbformat_minor": 2
}
