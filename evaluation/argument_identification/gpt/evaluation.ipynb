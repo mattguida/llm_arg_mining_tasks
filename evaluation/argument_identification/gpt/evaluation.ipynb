{
 "cells": [
  {
   "cell_type": "code",
   "execution_count": 17,
   "metadata": {},
   "outputs": [],
   "source": [
    "import pandas as pd\n",
    "from sklearn.metrics import accuracy_score, precision_score, recall_score, f1_score, precision_recall_fscore_support, classification_report\n",
    "from collections import Counter\n",
    "import json, jsonlines"
   ]
  },
  {
   "cell_type": "markdown",
   "metadata": {},
   "source": [
    "## Evaluation GM"
   ]
  },
  {
   "cell_type": "code",
   "execution_count": 18,
   "metadata": {},
   "outputs": [],
   "source": [
    "def map_gold_labels(labels):\n",
    "    \"\"\"\n",
    "    Maps the original labels in golden data to binary labels for evaluation.\n",
    "    Labels 1, 2, 4, 5 are mapped to 1.\n",
    "    Label 3 is mapped to 0.\n",
    "    \"\"\"\n",
    "    mapping = {1: 1, 2: 1, 4: 1, 5: 1, 3: 0}\n",
    "    return labels.map(mapping)"
   ]
  },
  {
   "cell_type": "code",
   "execution_count": 50,
   "metadata": {},
   "outputs": [],
   "source": [
    "def evaluate_predictions_comarg(golden_csv_path: str, predictions_json_path: str):\n",
    "    \"\"\"\n",
    "    Evaluates predictions against the golden data.\n",
    "    \n",
    "    Parameters:\n",
    "    - golden_csv_path: Path to the CSV file containing golden data.\n",
    "    - predictions_json_path: Path to the JSON file containing predictions.\n",
    "    \n",
    "    Output:\n",
    "    - Classification report comparing the predictions with the mapped gold labels.\n",
    "    \"\"\"\n",
    "\n",
    "    golden_df = pd.read_csv(golden_csv_path)\n",
    "\n",
    "    predictions = []\n",
    "    with open(predictions_json_path, 'r') as f:\n",
    "        for line in f:\n",
    "            predictions.append(json.loads(line.strip()))\n",
    "    \n",
    "    predictions_df = pd.DataFrame(predictions)\n",
    "        \n",
    "    predictions = [json.loads(pred) for pred in predictions]\n",
    "    predictions_df = pd.DataFrame(predictions)\n",
    "\n",
    "    merged_df = pd.merge(golden_df[['id', 'label']], predictions_df[['id', 'label']], on='id', suffixes=('_gold', '_pred'))\n",
    "\n",
    "   # merged_df['label_gold'] = map_gold_labels(merged_df['label_gold'].astype(int))\n",
    "    \n",
    "    ground_truth = merged_df['label_gold'].values\n",
    "    \n",
    "    predictions = merged_df['label_pred'].values\n",
    "\n",
    "    report = classification_report(ground_truth, predictions)\n",
    "    print(report)"
   ]
  },
  {
   "cell_type": "code",
   "execution_count": 80,
   "metadata": {},
   "outputs": [],
   "source": [
    "def evaluate_predictions_yru(golden_csv_path: str, predictions_json_path: str):\n",
    "    \"\"\"\n",
    "    Evaluates predictions against the golden data.\n",
    "    \n",
    "    Parameters:\n",
    "    - golden_csv_path: Path to the CSV file containing golden data.\n",
    "    - predictions_json_path: Path to the JSON file containing predictions.\n",
    "    \n",
    "    Output:\n",
    "    - Classification report comparing the predictions with the mapped gold labels.\n",
    "    \"\"\"\n",
    "    \n",
    "    golden_df = pd.read_csv(golden_csv_path)\n",
    "    \n",
    "    predictions = []\n",
    "    with open(predictions_json_path, 'r') as f:\n",
    "        for line in f:\n",
    "            predictions.append(json.loads(line.strip()))\n",
    "    \n",
    "    predictions_df = pd.DataFrame(predictions)\n",
    "        \n",
    "    predictions = [json.loads(pred) for pred in predictions]\n",
    "    predictions_df = pd.DataFrame(predictions)\n",
    "\n",
    "    merged_df = pd.merge(golden_df[['id', 'present']], predictions_df[['id', 'label']], on='id', suffixes=('_gold', '_pred'))\n",
    "\n",
    "    ground_truth = merged_df['present'].values\n",
    "    predictions = merged_df['label'].values\n",
    "\n",
    "    report = classification_report(ground_truth, predictions)\n",
    "    print(report)"
   ]
  },
  {
   "cell_type": "markdown",
   "metadata": {},
   "source": [
    "## GM"
   ]
  },
  {
   "cell_type": "code",
   "execution_count": 41,
   "metadata": {},
   "outputs": [
    {
     "name": "stdout",
     "output_type": "stream",
     "text": [
      "              precision    recall  f1-score   support\n",
      "\n",
      "           0       0.78      0.89      0.83       851\n",
      "           1       0.71      0.51      0.59       437\n",
      "\n",
      "    accuracy                           0.76      1288\n",
      "   macro avg       0.74      0.70      0.71      1288\n",
      "weighted avg       0.76      0.76      0.75      1288\n",
      "\n"
     ]
    }
   ],
   "source": [
    "golden_csv_path = '/Users/guida/llm_argument_tasks/clean_data/GM_structured.csv'\n",
    "predictions_json_path = '/Users/guida/llm_argument_tasks/output_files/gpt4o-mini/comarg_gm_argument_identification.jsonl'\n",
    "\n",
    "evaluate_predictions_comarg(golden_csv_path, predictions_json_path)"
   ]
  },
  {
   "cell_type": "markdown",
   "metadata": {},
   "source": [
    "## UGIP"
   ]
  },
  {
   "cell_type": "code",
   "execution_count": 43,
   "metadata": {},
   "outputs": [
    {
     "name": "stdout",
     "output_type": "stream",
     "text": [
      "              precision    recall  f1-score   support\n",
      "\n",
      "           0       0.79      0.91      0.85       691\n",
      "           1       0.72      0.47      0.56       322\n",
      "\n",
      "    accuracy                           0.77      1013\n",
      "   macro avg       0.75      0.69      0.71      1013\n",
      "weighted avg       0.76      0.77      0.76      1013\n",
      "\n"
     ]
    }
   ],
   "source": [
    "golden_csv_path = '/Users/guida/llm_argument_tasks/clean_data/UGIP_structured.csv'\n",
    "predictions_json_path = '/Users/guida/llm_argument_tasks/output_files/gpt4o-mini/comarg_ugip_argument_identification_gpt.jsonl'\n",
    "\n",
    "evaluate_predictions_comarg(golden_csv_path, predictions_json_path)"
   ]
  },
  {
   "cell_type": "markdown",
   "metadata": {},
   "source": [
    "======= YRU ========="
   ]
  },
  {
   "cell_type": "markdown",
   "metadata": {},
   "source": [
    "## Abortion"
   ]
  },
  {
   "cell_type": "code",
   "execution_count": 81,
   "metadata": {},
   "outputs": [
    {
     "name": "stdout",
     "output_type": "stream",
     "text": [
      "              precision    recall  f1-score   support\n",
      "\n",
      "           0       0.90      0.76      0.82     89376\n",
      "           1       0.12      0.27      0.17     10944\n",
      "\n",
      "    accuracy                           0.71    100320\n",
      "   macro avg       0.51      0.52      0.50    100320\n",
      "weighted avg       0.81      0.71      0.75    100320\n",
      "\n"
     ]
    }
   ],
   "source": [
    "golden_csv_path = '/Users/guida/llm_argument_tasks/clean_data/yru_abortion_with_negatives.csv'\n",
    "predictions_json_path = '/Users/guida/llm_argument_tasks/code/gpt4o-mini/yru_abortion_identification_GPT_negatives.jsonl'\n",
    "\n",
    "evaluate_predictions_yru(golden_csv_path, predictions_json_path)"
   ]
  },
  {
   "cell_type": "markdown",
   "metadata": {},
   "source": [
    "## Gay Rights"
   ]
  },
  {
   "cell_type": "code",
   "execution_count": 85,
   "metadata": {},
   "outputs": [
    {
     "name": "stdout",
     "output_type": "stream",
     "text": [
      "              precision    recall  f1-score   support\n",
      "\n",
      "           0       0.87      0.72      0.79     55990\n",
      "           1       0.14      0.31      0.20      8382\n",
      "\n",
      "    accuracy                           0.67     64372\n",
      "   macro avg       0.51      0.52      0.49     64372\n",
      "weighted avg       0.78      0.67      0.71     64372\n",
      "\n"
     ]
    }
   ],
   "source": [
    "golden_csv_path = '/Users/guida/llm_argument_tasks/clean_data/yru_gayrights_with_negatives.csv'\n",
    "predictions_json_path = '/Users/guida/llm_argument_tasks/code/gpt4o-mini/yru_gayRights_identification_GPT_negatives.jsonl'\n",
    "\n",
    "evaluate_predictions_yru(golden_csv_path, predictions_json_path)"
   ]
  },
  {
   "cell_type": "markdown",
   "metadata": {},
   "source": [
    "## Marijuana"
   ]
  },
  {
   "cell_type": "code",
   "execution_count": 86,
   "metadata": {},
   "outputs": [
    {
     "name": "stdout",
     "output_type": "stream",
     "text": [
      "              precision    recall  f1-score   support\n",
      "\n",
      "           0       0.87      0.76      0.81     51936\n",
      "           1       0.15      0.27      0.20      8256\n",
      "\n",
      "    accuracy                           0.70     60192\n",
      "   macro avg       0.51      0.52      0.50     60192\n",
      "weighted avg       0.77      0.70      0.73     60192\n",
      "\n"
     ]
    }
   ],
   "source": [
    "golden_csv_path = '/Users/guida/llm_argument_tasks/clean_data/yru_marijuana_with_negatives.csv'\n",
    "predictions_json_path = '/Users/guida/llm_argument_tasks/code/gpt4o-mini/yru_marijuana_identification_GPT_negatives.jsonl'\n",
    "\n",
    "evaluate_predictions_yru(golden_csv_path, predictions_json_path)"
   ]
  },
  {
   "cell_type": "markdown",
   "metadata": {},
   "source": [
    "## Obama"
   ]
  },
  {
   "cell_type": "code",
   "execution_count": 87,
   "metadata": {},
   "outputs": [
    {
     "name": "stdout",
     "output_type": "stream",
     "text": [
      "              precision    recall  f1-score   support\n",
      "\n",
      "           0       0.92      0.80      0.86    130868\n",
      "           1       0.10      0.25      0.14     11548\n",
      "\n",
      "    accuracy                           0.75    142416\n",
      "   macro avg       0.51      0.52      0.50    142416\n",
      "weighted avg       0.86      0.75      0.80    142416\n",
      "\n"
     ]
    }
   ],
   "source": [
    "golden_csv_path = '/Users/guida/llm_argument_tasks/clean_data/yru_obama_with_negatives.csv'\n",
    "predictions_json_path = '/Users/guida/llm_argument_tasks/code/gpt4o-mini/yru_obama_identification_GPT_negatives.jsonl'\n",
    "\n",
    "evaluate_predictions_yru(golden_csv_path, predictions_json_path)"
   ]
  }
 ],
 "metadata": {
  "kernelspec": {
   "display_name": "myenv",
   "language": "python",
   "name": "python3"
  },
  "language_info": {
   "codemirror_mode": {
    "name": "ipython",
    "version": 3
   },
   "file_extension": ".py",
   "mimetype": "text/x-python",
   "name": "python",
   "nbconvert_exporter": "python",
   "pygments_lexer": "ipython3",
   "version": "3.12.3"
  }
 },
 "nbformat": 4,
 "nbformat_minor": 2
}
