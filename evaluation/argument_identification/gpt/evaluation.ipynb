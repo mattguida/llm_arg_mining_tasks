{
 "cells": [
  {
   "cell_type": "code",
   "execution_count": 5,
   "metadata": {},
   "outputs": [],
   "source": [
    "import pandas as pd\n",
    "from sklearn.metrics import accuracy_score, precision_score, recall_score, f1_score, precision_recall_fscore_support\n",
    "from collections import Counter\n",
    "import json"
   ]
  },
  {
   "cell_type": "markdown",
   "metadata": {},
   "source": [
    "## Evaluation GM"
   ]
  },
  {
   "cell_type": "code",
   "execution_count": 12,
   "metadata": {},
   "outputs": [
    {
     "name": "stdout",
     "output_type": "stream",
     "text": [
      "Precision: 0.69\n",
      "Recall: 0.50\n",
      "F1 Score: 0.58\n",
      "Accuracy: 0.75\n",
      "Total Predictions: 1285\n",
      "Correct Predictions (TP): 216\n",
      "False Positives (FP): 96\n",
      "False Negatives (FN): 220\n",
      "Correct Predictions (TN): 753\n"
     ]
    }
   ],
   "source": [
    "ground_truth = pd.read_csv('/Users/guida/llm_argument_tasks/clean_data/GM_structured.csv') \n",
    "\n",
    "with open('/Users/guida/llm_argument_tasks/output_files/gpt4o-mini/comarg_gm_argument_identification.json', 'r') as f:\n",
    "    predictions_json = json.load(f)\n",
    "\n",
    "predictions_data = [(json.loads(entry)['id'], json.loads(entry)['label']) for entry in predictions_json]\n",
    "\n",
    "predictions = pd.DataFrame(predictions_data, columns=['id', 'predicted_label'])\n",
    "\n",
    "# Map ground truth labels: 1, 2, 4, 5 -> 1 (argument used), 3 -> 0 (argument not used)\n",
    "ground_truth['mapped_label'] = ground_truth['label'].apply(lambda x: 1 if x in [1, 2, 4, 5] else 0)\n",
    "\n",
    "golden_comment_ids = ground_truth[['id', 'mapped_label']]\n",
    "predictions_df = predictions[['id', 'predicted_label']]\n",
    "\n",
    "merged_df = predictions_df.merge(golden_comment_ids, on='id', how='left', suffixes=('_pred', '_true'))\n",
    "\n",
    "tp = len(merged_df[(merged_df['predicted_label'] == 1) & (merged_df['mapped_label'] == 1)])  # Correctly predicted positives\n",
    "fp = len(merged_df[(merged_df['predicted_label'] == 1) & (merged_df['mapped_label'] == 0)])  # Incorrectly predicted positives\n",
    "fn = len(merged_df[(merged_df['predicted_label'] == 0) & (merged_df['mapped_label'] == 1)])  # Missed positives\n",
    "tn = len(merged_df[(merged_df['predicted_label'] == 0) & (merged_df['mapped_label'] == 0)])  # Correctly predicted negatives\n",
    "\n",
    "precision = tp / (tp + fp) if (tp + fp) > 0 else 0\n",
    "recall = tp / (tp + fn) if (tp + fn) > 0 else 0\n",
    "f1_score = 2 * (precision * recall) / (precision + recall) if (precision + recall) > 0 else 0\n",
    "accuracy = (tp + tn) / len(merged_df) if len(merged_df) > 0 else 0\n",
    "\n",
    "print(f'Precision: {precision:.2f}')\n",
    "print(f'Recall: {recall:.2f}')\n",
    "print(f'F1 Score: {f1_score:.2f}')\n",
    "print(f'Accuracy: {accuracy:.2f}')\n",
    "print(f'Total Predictions: {len(predictions)}')\n",
    "print(f'Correct Predictions (TP): {tp}')\n",
    "print(f'False Positives (FP): {fp}')\n",
    "print(f'False Negatives (FN): {fn}')\n",
    "print(f'Correct Predictions (TN): {tn}')"
   ]
  },
  {
   "cell_type": "markdown",
   "metadata": {},
   "source": [
    "## Evaluation UGIP"
   ]
  },
  {
   "cell_type": "code",
   "execution_count": 13,
   "metadata": {},
   "outputs": [
    {
     "name": "stdout",
     "output_type": "stream",
     "text": [
      "Precision: 0.54\n",
      "Recall: 0.54\n",
      "F1 Score: 0.54\n",
      "Accuracy: 0.70\n",
      "Total Predictions: 1013\n",
      "Correct Predictions (TP): 175\n",
      "False Positives (FP): 152\n",
      "False Negatives (FN): 147\n",
      "Correct Predictions (TN): 539\n"
     ]
    }
   ],
   "source": [
    "ground_truth = pd.read_csv('/Users/guida/llm_argument_tasks/clean_data/UGIP_structured.csv') \n",
    "\n",
    "with open('/Users/guida/llm_argument_tasks/output_files/gpt4o-mini/comarg_ugip_argument_identification.json', 'r') as f:\n",
    "    predictions_json = json.load(f)\n",
    "\n",
    "predictions_data = [(json.loads(entry)['id'], json.loads(entry)['label']) for entry in predictions_json]\n",
    "\n",
    "predictions = pd.DataFrame(predictions_data, columns=['id', 'predicted_label'])\n",
    "\n",
    "# Map ground truth labels: 1, 2, 4, 5 -> 1 (argument used), 3 -> 0 (argument not used)\n",
    "ground_truth['mapped_label'] = ground_truth['label'].apply(lambda x: 1 if x in [1, 2, 4, 5] else 0)\n",
    "\n",
    "golden_comment_ids = ground_truth[['id', 'mapped_label']]\n",
    "predictions_df = predictions[['id', 'predicted_label']]\n",
    "\n",
    "merged_df = predictions_df.merge(golden_comment_ids, on='id', how='left', suffixes=('_pred', '_true'))\n",
    "\n",
    "tp = len(merged_df[(merged_df['predicted_label'] == 1) & (merged_df['mapped_label'] == 1)])  # Correctly predicted positives\n",
    "fp = len(merged_df[(merged_df['predicted_label'] == 1) & (merged_df['mapped_label'] == 0)])  # Incorrectly predicted positives\n",
    "fn = len(merged_df[(merged_df['predicted_label'] == 0) & (merged_df['mapped_label'] == 1)])  # Missed positives\n",
    "tn = len(merged_df[(merged_df['predicted_label'] == 0) & (merged_df['mapped_label'] == 0)])  # Correctly predicted negatives\n",
    "\n",
    "precision = tp / (tp + fp) if (tp + fp) > 0 else 0\n",
    "recall = tp / (tp + fn) if (tp + fn) > 0 else 0\n",
    "f1_score = 2 * (precision * recall) / (precision + recall) if (precision + recall) > 0 else 0\n",
    "accuracy = (tp + tn) / len(merged_df) if len(merged_df) > 0 else 0\n",
    "\n",
    "print(f'Precision: {precision:.2f}')\n",
    "print(f'Recall: {recall:.2f}')\n",
    "print(f'F1 Score: {f1_score:.2f}')\n",
    "print(f'Accuracy: {accuracy:.2f}')\n",
    "print(f'Total Predictions: {len(predictions)}')\n",
    "print(f'Correct Predictions (TP): {tp}')\n",
    "print(f'False Positives (FP): {fp}')\n",
    "print(f'False Negatives (FN): {fn}')\n",
    "print(f'Correct Predictions (TN): {tn}')"
   ]
  }
 ],
 "metadata": {
  "kernelspec": {
   "display_name": "myenv",
   "language": "python",
   "name": "python3"
  },
  "language_info": {
   "codemirror_mode": {
    "name": "ipython",
    "version": 3
   },
   "file_extension": ".py",
   "mimetype": "text/x-python",
   "name": "python",
   "nbconvert_exporter": "python",
   "pygments_lexer": "ipython3",
   "version": "3.12.3"
  }
 },
 "nbformat": 4,
 "nbformat_minor": 2
}
