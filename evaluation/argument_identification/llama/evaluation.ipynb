{
 "cells": [
  {
   "cell_type": "code",
   "execution_count": 1,
   "metadata": {},
   "outputs": [],
   "source": [
    "\n",
    "import pandas as pd\n",
    "from sklearn.metrics import accuracy_score, precision_score, recall_score, f1_score, precision_recall_fscore_support, classification_report, confusion_matrix, ConfusionMatrixDisplay\n",
    "from collections import Counter, defaultdict\n",
    "import json, csv\n",
    "import numpy as np\n",
    "import matplotlib.pyplot as plt"
   ]
  },
  {
   "cell_type": "markdown",
   "metadata": {},
   "source": [
    "## Majority baseline"
   ]
  },
  {
   "cell_type": "code",
   "execution_count": 153,
   "metadata": {},
   "outputs": [],
   "source": [
    "def majority_baseline_comarg(csv_file_path, label_column='label'):\n",
    "    \"\"\"\n",
    "    Remap labels in the dataset and calculate the majority baseline.\n",
    "    Labels 1, 2, 4, and 5 are mapped to 1, while label 3 is mapped to 0.\n",
    "\n",
    "    Parameters:\n",
    "    - csv_file_path (str): Path to the CSV file containing the dataset.\n",
    "    - label_column (str): The name of the column containing labels (default is 'label').\n",
    "\n",
    "    Returns:\n",
    "    - majority_label (int): The label that occurs most frequently after remapping and its count\n",
    "    - accuracy (float): The accuracy of the majority baseline.\n",
    "    \"\"\"\n",
    "\n",
    "    df = pd.read_csv(csv_file_path)\n",
    "\n",
    "    mapping = {1: 1, 2: 1, 3: 0, 4: 1, 5: 1}\n",
    "    \n",
    "    df['label'] = df[label_column].map(mapping)\n",
    "\n",
    "    label_counts = df['label'].value_counts()\n",
    "\n",
    "    majority_label = label_counts.idxmax()\n",
    "    majority_count = label_counts.max()\n",
    "    total_samples = len(df)\n",
    "\n",
    "    majority_predictions = [majority_label] * total_samples\n",
    "\n",
    "    f1 = f1_score(df['label'], majority_predictions, pos_label=majority_label, zero_division=1)\n",
    "\n",
    "    print(f\"\\nMajority Label: {majority_label} (Count: {majority_count})\")\n",
    "    print(f\"F1 Score: {f1:.2f}\")"
   ]
  },
  {
   "cell_type": "code",
   "execution_count": 175,
   "metadata": {},
   "outputs": [],
   "source": [
    "def majority_baseline_yru(csv_file_path):\n",
    "    df = pd.read_csv(csv_file_path)\n",
    "\n",
    "    label_counts = df['present'].value_counts()\n",
    "\n",
    "    majority_label = label_counts.idxmax()\n",
    "    majority_count = label_counts.max()\n",
    "    total_samples = len(df)\n",
    "\n",
    "    majority_predictions = [majority_label] * total_samples\n",
    "\n",
    "    f1 = f1_score(df['present'], majority_predictions, pos_label=majority_label, zero_division=1)\n",
    "\n",
    "    print(f\"\\nMajority Label: {majority_label} (Count: {majority_count})\")\n",
    "    print(f\"F1 Score: {f1:.2f}\")"
   ]
  },
  {
   "cell_type": "code",
   "execution_count": 154,
   "metadata": {},
   "outputs": [
    {
     "name": "stdout",
     "output_type": "stream",
     "text": [
      "=== GM ===\n",
      "\n",
      "Majority Label: 0 (Count: 849)\n",
      "F1 Score: 0.80\n"
     ]
    }
   ],
   "source": [
    "file_path = '/Users/guida/llm_argument_tasks/clean_data/GM_structured.csv'\n",
    "print(\"=== GM ===\")\n",
    "majority_baseline_comarg(file_path)"
   ]
  },
  {
   "cell_type": "code",
   "execution_count": 155,
   "metadata": {},
   "outputs": [
    {
     "name": "stdout",
     "output_type": "stream",
     "text": [
      "=== UGIP ===\n",
      "\n",
      "Majority Label: 0 (Count: 691)\n",
      "F1 Score: 0.81\n"
     ]
    }
   ],
   "source": [
    "file_path = '/Users/guida/llm_argument_tasks/clean_data/UGIP_structured.csv'\n",
    "print(\"=== UGIP ===\")\n",
    "majority_baseline_comarg(file_path)"
   ]
  },
  {
   "cell_type": "code",
   "execution_count": 176,
   "metadata": {},
   "outputs": [
    {
     "name": "stdout",
     "output_type": "stream",
     "text": [
      "=== ABORTION ===\n",
      "\n",
      "Majority Label: 0 (Count: 5947)\n",
      "F1 Score: 0.94\n"
     ]
    }
   ],
   "source": [
    "file_path = '/Users/guida/llm_argument_tasks/clean_data/yru_abortion_with_negatives_main.csv'\n",
    "print(\"=== ABORTION ===\")\n",
    "majority_baseline_yru(file_path)"
   ]
  },
  {
   "cell_type": "code",
   "execution_count": 164,
   "metadata": {},
   "outputs": [
    {
     "name": "stdout",
     "output_type": "stream",
     "text": [
      "=== GAY RIGHTS ===\n",
      "\n",
      "Majority Label: 0 (Count: 5080)\n",
      "F1 Score: 0.93\n"
     ]
    }
   ],
   "source": [
    "file_path = '/Users/guida/llm_argument_tasks/clean_data/yru_gayrights_with_negatives_main.csv'\n",
    "print(\"=== GAY RIGHTS ===\")\n",
    "majority_baseline_yru(file_path)"
   ]
  },
  {
   "cell_type": "code",
   "execution_count": 165,
   "metadata": {},
   "outputs": [
    {
     "name": "stdout",
     "output_type": "stream",
     "text": [
      "=== MARIJUANA ===\n",
      "\n",
      "Majority Label: 0 (Count: 4317)\n",
      "F1 Score: 0.93\n"
     ]
    }
   ],
   "source": [
    "file_path = '/Users/guida/llm_argument_tasks/clean_data/yru_marijuana_with_negatives_main.csv'\n",
    "print(\"=== MARIJUANA ===\")\n",
    "majority_baseline_yru(file_path)"
   ]
  },
  {
   "cell_type": "code",
   "execution_count": 166,
   "metadata": {},
   "outputs": [
    {
     "name": "stdout",
     "output_type": "stream",
     "text": [
      "=== OBAMA ===\n",
      "\n",
      "Majority Label: 0 (Count: 7261)\n",
      "F1 Score: 0.96\n"
     ]
    }
   ],
   "source": [
    "file_path = '/Users/guida/llm_argument_tasks/clean_data/yru_obama_with_negatives_main.csv'\n",
    "print(\"=== OBAMA ===\")\n",
    "majority_baseline_yru(file_path)"
   ]
  },
  {
   "cell_type": "code",
   "execution_count": 106,
   "metadata": {},
   "outputs": [],
   "source": [
    "def map_gold_labels(labels):\n",
    "    \"\"\"\n",
    "    Maps the original labels in golden data to binary labels for evaluation.\n",
    "    Labels 1, 2, 4, 5 are mapped to 1.\n",
    "    Label 3 is mapped to 0.\n",
    "    \"\"\"\n",
    "    mapping = {1: 1, 2: 1, 4: 1, 5: 1, 3: 0}\n",
    "    return labels.map(mapping)"
   ]
  },
  {
   "cell_type": "code",
   "execution_count": 129,
   "metadata": {},
   "outputs": [],
   "source": [
    "def evaluate_predictions(golden_csv_path: str, predictions_json_path: str):\n",
    "    \"\"\"\n",
    "    Evaluates predictions against the golden data.\n",
    "    \n",
    "    Parameters:\n",
    "    - golden_csv_path: Path to the CSV file containing golden data.\n",
    "    - predictions_json_path: Path to the JSON file containing predictions.\n",
    "    \n",
    "    Output:\n",
    "    - Classification report comparing the predictions with the mapped gold labels.\n",
    "    \"\"\"\n",
    "\n",
    "    golden_df = pd.read_csv(golden_csv_path)\n",
    "    print(golden_df)\n",
    "\n",
    "    predictions = []\n",
    "    with open(predictions_json_path, 'r') as f:\n",
    "        for line in f:\n",
    "            predictions.append(json.loads(line.strip())) \n",
    "\n",
    "    predictions_df = pd.DataFrame(predictions)\n",
    "\n",
    "    filtered_predictions_df = predictions_df[predictions_df['id'].isin(golden_df['id'])]\n",
    "\n",
    "    merged_df = pd.merge(golden_df[['id', 'present']], filtered_predictions_df[['id', 'label']], on='id', how='inner', suffixes=('_gold', '_pred'))\n",
    "\n",
    "    ground_truth = merged_df['present'].values\n",
    "    predictions = merged_df['label'].values\n",
    "\n",
    "    report = classification_report(ground_truth, predictions)\n",
    "    print(report)\n",
    "\n"
   ]
  },
  {
   "cell_type": "code",
   "execution_count": 19,
   "metadata": {},
   "outputs": [],
   "source": [
    "def evaluate_predictions_yru(golden_csv_path: str, model_output_path: str):\n",
    "    \"\"\"\n",
    "    Evaluates predictions against the golden data.\n",
    "    \n",
    "    Parameters:\n",
    "    - golden_csv_path: Path to the CSV file containing golden data.\n",
    "    - predictions_json_path: Path to the JSON file containing predictions.\n",
    "    \n",
    "    Output:\n",
    "    - Classification report comparing the predictions with the mapped gold labels.\n",
    "    \"\"\"\n",
    "\n",
    "    golden_df = pd.read_csv(golden_csv_path)\n",
    "\n",
    "    predictions_df = pd.read_json(model_output_path, lines=True)\n",
    "    \n",
    "    merged_df = pd.merge(\n",
    "        golden_df[['uid', 'present']], \n",
    "        predictions_df[['id', 'label']], \n",
    "        left_on='uid', \n",
    "        right_on='id', \n",
    "        how='inner', \n",
    "        suffixes=('_gold', '_pred')\n",
    ")\n",
    "\n",
    "    ground_truth = merged_df['present'].values\n",
    "    predictions = merged_df['label'].values\n",
    "\n",
    "    report = classification_report(ground_truth, predictions)\n",
    "    print(report)\n"
   ]
  },
  {
   "cell_type": "markdown",
   "metadata": {},
   "source": [
    "## Evaluation GM"
   ]
  },
  {
   "cell_type": "code",
   "execution_count": 69,
   "metadata": {},
   "outputs": [
    {
     "name": "stdout",
     "output_type": "stream",
     "text": [
      "           id  label_gold  label_pred\n",
      "0       1arg2           1           1\n",
      "1       1arg3           1           0\n",
      "2       1arg4           1           1\n",
      "3       1arg5           1           0\n",
      "4       1arg6           1           1\n",
      "...       ...         ...         ...\n",
      "1262  198arg4           1           0\n",
      "1263  198arg5           1           1\n",
      "1264  198arg6           1           0\n",
      "1265  198arg7           1           1\n",
      "1266    1arg1           1           0\n",
      "\n",
      "[1267 rows x 3 columns]\n",
      "[1 1 1 ... 1 1 1]\n",
      "[1 0 1 ... 0 1 0]\n",
      "              precision    recall  f1-score   support\n",
      "\n",
      "           0       0.00      0.00      0.00         0\n",
      "           1       1.00      0.29      0.45      1267\n",
      "\n",
      "    accuracy                           0.29      1267\n",
      "   macro avg       0.50      0.15      0.23      1267\n",
      "weighted avg       1.00      0.29      0.45      1267\n",
      "\n"
     ]
    },
    {
     "name": "stderr",
     "output_type": "stream",
     "text": [
      "/Users/guida/llm_argument_tasks/myenv/lib/python3.12/site-packages/sklearn/metrics/_classification.py:1517: UndefinedMetricWarning: Recall is ill-defined and being set to 0.0 in labels with no true samples. Use `zero_division` parameter to control this behavior.\n",
      "  _warn_prf(average, modifier, f\"{metric.capitalize()} is\", len(result))\n",
      "/Users/guida/llm_argument_tasks/myenv/lib/python3.12/site-packages/sklearn/metrics/_classification.py:1517: UndefinedMetricWarning: Recall is ill-defined and being set to 0.0 in labels with no true samples. Use `zero_division` parameter to control this behavior.\n",
      "  _warn_prf(average, modifier, f\"{metric.capitalize()} is\", len(result))\n",
      "/Users/guida/llm_argument_tasks/myenv/lib/python3.12/site-packages/sklearn/metrics/_classification.py:1517: UndefinedMetricWarning: Recall is ill-defined and being set to 0.0 in labels with no true samples. Use `zero_division` parameter to control this behavior.\n",
      "  _warn_prf(average, modifier, f\"{metric.capitalize()} is\", len(result))\n"
     ]
    }
   ],
   "source": [
    "golden_csv_path = '/Users/guida/llm_argument_tasks/clean_data/GM_structured.csv'\n",
    "predictions_json_path = '/Users/guida/llm_argument_tasks/output_files/llama3/comarg_gm_argument_identification.json'\n",
    "\n",
    "evaluate_predictions(golden_csv_path, predictions_json_path)"
   ]
  },
  {
   "cell_type": "markdown",
   "metadata": {},
   "source": [
    "## Evaluation UGIP"
   ]
  },
  {
   "cell_type": "code",
   "execution_count": 114,
   "metadata": {},
   "outputs": [
    {
     "name": "stdout",
     "output_type": "stream",
     "text": [
      "              precision    recall  f1-score   support\n",
      "\n",
      "           0       0.72      0.92      0.81       535\n",
      "           1       0.70      0.36      0.47       291\n",
      "\n",
      "    accuracy                           0.72       826\n",
      "   macro avg       0.71      0.64      0.64       826\n",
      "weighted avg       0.71      0.72      0.69       826\n",
      "\n"
     ]
    }
   ],
   "source": [
    "golden_data_path = '/Users/guida/llm_argument_tasks/clean_data/UGIP_structured.csv'\n",
    "model_output_path = '/Users/guida/llm_argument_tasks/output_files/llama3/comarg_ugip_argument_identification.json'\n",
    "\n",
    "evaluate_predictions(golden_data_path, model_output_path)"
   ]
  },
  {
   "cell_type": "markdown",
   "metadata": {},
   "source": [
    "====== YRU Dataset ======="
   ]
  },
  {
   "cell_type": "markdown",
   "metadata": {},
   "source": [
    "## Abortion"
   ]
  },
  {
   "cell_type": "code",
   "execution_count": 20,
   "metadata": {},
   "outputs": [
    {
     "name": "stdout",
     "output_type": "stream",
     "text": [
      "              precision    recall  f1-score   support\n",
      "\n",
      "           0       0.95      0.84      0.89      5973\n",
      "           1       0.31      0.63      0.42       702\n",
      "\n",
      "    accuracy                           0.81      6675\n",
      "   macro avg       0.63      0.73      0.65      6675\n",
      "weighted avg       0.88      0.81      0.84      6675\n",
      "\n"
     ]
    }
   ],
   "source": [
    "golden_data_path = '/Users/guida/llm_argument_tasks/clean_data/yru_abortion_with_negatives_main.csv'\n",
    "model_output_path = '/Users/guida/llm_argument_tasks/output_files/llama3/yru_abortion_identification_with_negatives.jsonl'\n",
    "\n",
    "evaluate_predictions_yru(golden_data_path, model_output_path)"
   ]
  },
  {
   "cell_type": "markdown",
   "metadata": {},
   "source": [
    "## Gay Rights"
   ]
  },
  {
   "cell_type": "code",
   "execution_count": 25,
   "metadata": {},
   "outputs": [
    {
     "name": "stdout",
     "output_type": "stream",
     "text": [
      "              precision    recall  f1-score   support\n",
      "\n",
      "           0       0.93      0.82      0.87      5059\n",
      "           1       0.35      0.61      0.44       782\n",
      "\n",
      "    accuracy                           0.79      5841\n",
      "   macro avg       0.64      0.71      0.66      5841\n",
      "weighted avg       0.85      0.79      0.82      5841\n",
      "\n"
     ]
    }
   ],
   "source": [
    "golden_data_path = '/Users/guida/llm_argument_tasks/clean_data/yru_gayRights_with_negatives_main.csv'\n",
    "model_output_path = '/Users/guida/llm_argument_tasks/output_files/llama3/yru_gayRights_identification_with_negatives.jsonl'\n",
    "\n",
    "evaluate_predictions_yru(golden_data_path, model_output_path)"
   ]
  },
  {
   "cell_type": "markdown",
   "metadata": {},
   "source": [
    "## Marijuana"
   ]
  },
  {
   "cell_type": "code",
   "execution_count": 22,
   "metadata": {},
   "outputs": [
    {
     "name": "stdout",
     "output_type": "stream",
     "text": [
      "              precision    recall  f1-score   support\n",
      "\n",
      "           0       0.92      0.82      0.87      4318\n",
      "           1       0.32      0.52      0.39       685\n",
      "\n",
      "    accuracy                           0.78      5003\n",
      "   macro avg       0.62      0.67      0.63      5003\n",
      "weighted avg       0.83      0.78      0.80      5003\n",
      "\n"
     ]
    }
   ],
   "source": [
    "golden_data_path = '/Users/guida/llm_argument_tasks/clean_data/yru_marijuana_with_negatives_main.csv'\n",
    "model_output_path = '/Users/guida/llm_argument_tasks/output_files/llama3/yru_marijuana_identification_with_negatives.jsonl'\n",
    "\n",
    "evaluate_predictions_yru(golden_data_path, model_output_path)"
   ]
  },
  {
   "cell_type": "markdown",
   "metadata": {},
   "source": [
    "## Obama"
   ]
  },
  {
   "cell_type": "code",
   "execution_count": 23,
   "metadata": {},
   "outputs": [
    {
     "name": "stdout",
     "output_type": "stream",
     "text": [
      "              precision    recall  f1-score   support\n",
      "\n",
      "           0       0.96      0.84      0.89      7270\n",
      "           1       0.23      0.55      0.32       632\n",
      "\n",
      "    accuracy                           0.82      7902\n",
      "   macro avg       0.59      0.69      0.61      7902\n",
      "weighted avg       0.90      0.82      0.85      7902\n",
      "\n"
     ]
    }
   ],
   "source": [
    "golden_data_path = '/Users/guida/llm_argument_tasks/clean_data/yru_obama_with_negatives_main.csv'\n",
    "model_output_path = '/Users/guida/llm_argument_tasks/output_files/llama3/yru_obama_identification_with_negatives.jsonl'\n",
    "\n",
    "evaluate_predictions_yru(golden_data_path, model_output_path)"
   ]
  }
 ],
 "metadata": {
  "kernelspec": {
   "display_name": "myenv",
   "language": "python",
   "name": "python3"
  },
  "language_info": {
   "codemirror_mode": {
    "name": "ipython",
    "version": 3
   },
   "file_extension": ".py",
   "mimetype": "text/x-python",
   "name": "python",
   "nbconvert_exporter": "python",
   "pygments_lexer": "ipython3",
   "version": "3.12.3"
  }
 },
 "nbformat": 4,
 "nbformat_minor": 2
}
