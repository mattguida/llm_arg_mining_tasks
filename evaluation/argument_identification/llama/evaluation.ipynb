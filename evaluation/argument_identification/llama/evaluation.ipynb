{
 "cells": [
  {
   "cell_type": "code",
   "execution_count": 41,
   "metadata": {},
   "outputs": [],
   "source": [
    "import pandas as pd\n",
    "from sklearn.metrics import accuracy_score, precision_score, recall_score, f1_score, precision_recall_fscore_support, classification_report, confusion_matrix, ConfusionMatrixDisplay\n",
    "from collections import Counter, defaultdict\n",
    "import json, csv\n",
    "import numpy as np\n",
    "import matplotlib.pyplot as plt"
   ]
  },
  {
   "cell_type": "code",
   "execution_count": 26,
   "metadata": {},
   "outputs": [],
   "source": [
    "def map_gold_labels(labels):\n",
    "    \"\"\"\n",
    "    Maps the original labels in golden data to binary labels for evaluation.\n",
    "    Labels 1, 2, 4, 5 are mapped to 1.\n",
    "    Label 3 is mapped to 0.\n",
    "    \"\"\"\n",
    "    mapping = {1: 1, 2: 1, 4: 1, 5: 1, 3: 0}\n",
    "    return labels.map(mapping)"
   ]
  },
  {
   "cell_type": "code",
   "execution_count": 38,
   "metadata": {},
   "outputs": [],
   "source": [
    "def evaluate_predictions(golden_csv_path: str, predictions_json_path: str):\n",
    "    \"\"\"\n",
    "    Evaluates predictions against the golden data.\n",
    "    \n",
    "    Parameters:\n",
    "    - golden_csv_path: Path to the CSV file containing golden data.\n",
    "    - predictions_json_path: Path to the JSON file containing predictions.\n",
    "    \n",
    "    Output:\n",
    "    - Classification report comparing the predictions with the mapped gold labels.\n",
    "    \"\"\"\n",
    "\n",
    "    golden_df = pd.read_csv(golden_csv_path)\n",
    "\n",
    "    golden_df['label'] = map_gold_labels(golden_df['label'])\n",
    "\n",
    "    predictions_df = pd.read_json(predictions_json_path, lines=True)\n",
    "\n",
    "    merged_df = pd.merge(golden_df[['id', 'label']], predictions_df[['id', 'label']], on='id', how='inner', suffixes=('_gold', '_pred'))\n",
    "\n",
    "    ground_truth = merged_df['label_gold'].values\n",
    "    predictions = merged_df['label_pred'].values\n",
    "\n",
    "    report = classification_report(ground_truth, predictions)\n",
    "    print(report)\n",
    "\n"
   ]
  },
  {
   "cell_type": "code",
   "execution_count": 31,
   "metadata": {},
   "outputs": [],
   "source": [
    "def evaluate_predictions_yru(golden_csv_path: str, model_output_path: str):\n",
    "    \"\"\"\n",
    "    Evaluates predictions against the golden data.\n",
    "    \n",
    "    Parameters:\n",
    "    - golden_csv_path: Path to the CSV file containing golden data.\n",
    "    - predictions_json_path: Path to the JSON file containing predictions.\n",
    "    \n",
    "    Output:\n",
    "    - Classification report comparing the predictions with the mapped gold labels.\n",
    "    \"\"\"\n",
    "\n",
    "    golden_df = pd.read_csv(golden_csv_path)\n",
    "\n",
    "    predictions_df = pd.read_json(model_output_path, lines=True)\n",
    "    \n",
    "    merged_df = pd.merge(\n",
    "        golden_df[['uid', 'present']], \n",
    "        predictions_df[['id', 'label']], \n",
    "        left_on='uid', \n",
    "        right_on='id', \n",
    "        how='inner', \n",
    "        suffixes=('_gold', '_pred')\n",
    ")\n",
    "\n",
    "    ground_truth = merged_df['present'].values\n",
    "    predictions = merged_df['label'].values\n",
    "\n",
    "    report = classification_report(ground_truth, predictions)\n",
    "    print(report)\n"
   ]
  },
  {
   "cell_type": "markdown",
   "metadata": {},
   "source": [
    "## Evaluation GM"
   ]
  },
  {
   "cell_type": "code",
   "execution_count": 39,
   "metadata": {},
   "outputs": [
    {
     "name": "stdout",
     "output_type": "stream",
     "text": [
      "              precision    recall  f1-score   support\n",
      "\n",
      "           0       0.76      0.83      0.79       849\n",
      "           1       0.60      0.50      0.54       436\n",
      "\n",
      "    accuracy                           0.72      1285\n",
      "   macro avg       0.68      0.66      0.67      1285\n",
      "weighted avg       0.71      0.72      0.71      1285\n",
      "\n"
     ]
    }
   ],
   "source": [
    "golden_csv_path = '/Users/guida/llm_argument_tasks/clean_data/GM_structured.csv'\n",
    "predictions_json_path = '/Users/guida/llm_argument_tasks/output_files/llama3/comarg_gm_argument_identification.jsonl'\n",
    "\n",
    "evaluate_predictions(golden_csv_path, predictions_json_path)"
   ]
  },
  {
   "cell_type": "markdown",
   "metadata": {},
   "source": [
    "## Evaluation UGIP"
   ]
  },
  {
   "cell_type": "code",
   "execution_count": 40,
   "metadata": {},
   "outputs": [
    {
     "name": "stdout",
     "output_type": "stream",
     "text": [
      "              precision    recall  f1-score   support\n",
      "\n",
      "           0       0.80      0.67      0.73       690\n",
      "           1       0.48      0.64      0.55       322\n",
      "\n",
      "    accuracy                           0.66      1012\n",
      "   macro avg       0.64      0.66      0.64      1012\n",
      "weighted avg       0.70      0.66      0.67      1012\n",
      "\n"
     ]
    }
   ],
   "source": [
    "golden_data_path = '/Users/guida/llm_argument_tasks/clean_data/UGIP_structured.csv'\n",
    "model_output_path = '/Users/guida/llm_argument_tasks/output_files/llama3/comarg_ugip_argument_identification.jsonl'\n",
    "\n",
    "evaluate_predictions(golden_data_path, model_output_path)"
   ]
  },
  {
   "cell_type": "markdown",
   "metadata": {},
   "source": [
    "====== YRU Dataset ======="
   ]
  },
  {
   "cell_type": "markdown",
   "metadata": {},
   "source": [
    "## Abortion"
   ]
  },
  {
   "cell_type": "code",
   "execution_count": 20,
   "metadata": {},
   "outputs": [
    {
     "name": "stdout",
     "output_type": "stream",
     "text": [
      "              precision    recall  f1-score   support\n",
      "\n",
      "           0       0.95      0.84      0.89      5973\n",
      "           1       0.31      0.63      0.42       702\n",
      "\n",
      "    accuracy                           0.81      6675\n",
      "   macro avg       0.63      0.73      0.65      6675\n",
      "weighted avg       0.88      0.81      0.84      6675\n",
      "\n"
     ]
    }
   ],
   "source": [
    "golden_data_path = '/Users/guida/llm_argument_tasks/clean_data/yru_abortion_with_negatives_main.csv'\n",
    "model_output_path = '/Users/guida/llm_argument_tasks/output_files/llama3/yru_abortion_identification_with_negatives.jsonl'\n",
    "\n",
    "evaluate_predictions_yru(golden_data_path, model_output_path)"
   ]
  },
  {
   "cell_type": "markdown",
   "metadata": {},
   "source": [
    "## Gay Rights"
   ]
  },
  {
   "cell_type": "code",
   "execution_count": 25,
   "metadata": {},
   "outputs": [
    {
     "name": "stdout",
     "output_type": "stream",
     "text": [
      "              precision    recall  f1-score   support\n",
      "\n",
      "           0       0.93      0.82      0.87      5059\n",
      "           1       0.35      0.61      0.44       782\n",
      "\n",
      "    accuracy                           0.79      5841\n",
      "   macro avg       0.64      0.71      0.66      5841\n",
      "weighted avg       0.85      0.79      0.82      5841\n",
      "\n"
     ]
    }
   ],
   "source": [
    "golden_data_path = '/Users/guida/llm_argument_tasks/clean_data/yru_gayRights_with_negatives_main.csv'\n",
    "model_output_path = '/Users/guida/llm_argument_tasks/output_files/llama3/yru_gayRights_identification_with_negatives.jsonl'\n",
    "\n",
    "evaluate_predictions_yru(golden_data_path, model_output_path)"
   ]
  },
  {
   "cell_type": "markdown",
   "metadata": {},
   "source": [
    "## Marijuana"
   ]
  },
  {
   "cell_type": "code",
   "execution_count": 22,
   "metadata": {},
   "outputs": [
    {
     "name": "stdout",
     "output_type": "stream",
     "text": [
      "              precision    recall  f1-score   support\n",
      "\n",
      "           0       0.92      0.82      0.87      4318\n",
      "           1       0.32      0.52      0.39       685\n",
      "\n",
      "    accuracy                           0.78      5003\n",
      "   macro avg       0.62      0.67      0.63      5003\n",
      "weighted avg       0.83      0.78      0.80      5003\n",
      "\n"
     ]
    }
   ],
   "source": [
    "golden_data_path = '/Users/guida/llm_argument_tasks/clean_data/yru_marijuana_with_negatives_main.csv'\n",
    "model_output_path = '/Users/guida/llm_argument_tasks/output_files/llama3/yru_marijuana_identification_with_negatives.jsonl'\n",
    "\n",
    "evaluate_predictions_yru(golden_data_path, model_output_path)"
   ]
  },
  {
   "cell_type": "markdown",
   "metadata": {},
   "source": [
    "## Obama"
   ]
  },
  {
   "cell_type": "code",
   "execution_count": 23,
   "metadata": {},
   "outputs": [
    {
     "name": "stdout",
     "output_type": "stream",
     "text": [
      "              precision    recall  f1-score   support\n",
      "\n",
      "           0       0.96      0.84      0.89      7270\n",
      "           1       0.23      0.55      0.32       632\n",
      "\n",
      "    accuracy                           0.82      7902\n",
      "   macro avg       0.59      0.69      0.61      7902\n",
      "weighted avg       0.90      0.82      0.85      7902\n",
      "\n"
     ]
    }
   ],
   "source": [
    "golden_data_path = '/Users/guida/llm_argument_tasks/clean_data/yru_obama_with_negatives_main.csv'\n",
    "model_output_path = '/Users/guida/llm_argument_tasks/output_files/llama3/yru_obama_identification_with_negatives.jsonl'\n",
    "\n",
    "evaluate_predictions_yru(golden_data_path, model_output_path)"
   ]
  }
 ],
 "metadata": {
  "kernelspec": {
   "display_name": "myenv",
   "language": "python",
   "name": "python3"
  },
  "language_info": {
   "codemirror_mode": {
    "name": "ipython",
    "version": 3
   },
   "file_extension": ".py",
   "mimetype": "text/x-python",
   "name": "python",
   "nbconvert_exporter": "python",
   "pygments_lexer": "ipython3",
   "version": "3.12.3"
  }
 },
 "nbformat": 4,
 "nbformat_minor": 2
}
