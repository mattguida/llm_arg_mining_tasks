{
 "cells": [
  {
   "cell_type": "code",
   "execution_count": 22,
   "metadata": {},
   "outputs": [],
   "source": [
    "import pandas as pd\n",
    "from sklearn.metrics import accuracy_score, precision_score, recall_score, f1_score, precision_recall_fscore_support, classification_report\n",
    "from collections import Counter, defaultdict\n",
    "import json, csv\n",
    "import numpy as np"
   ]
  },
  {
   "cell_type": "markdown",
   "metadata": {},
   "source": [
    "## Majority baseline"
   ]
  },
  {
   "cell_type": "code",
   "execution_count": 201,
   "metadata": {},
   "outputs": [],
   "source": [
    "def process_dataset_and_calculate_majority_baseline(csv_file_path, label_column='label'):\n",
    "    \"\"\"\n",
    "    Remap labels in the dataset and calculate the majority baseline.\n",
    "    Labels 1, 2, 4, and 5 are mapped to 1, while label 3 is mapped to 0.\n",
    "\n",
    "    Parameters:\n",
    "    - csv_file_path (str): Path to the CSV file containing the dataset.\n",
    "    - label_column (str): The name of the column containing labels (default is 'label').\n",
    "\n",
    "    Returns:\n",
    "    - majority_label (int): The label that occurs most frequently after remapping and its count\n",
    "    - accuracy (float): The accuracy of the majority baseline.\n",
    "    \"\"\"\n",
    "\n",
    "    df = pd.read_csv(csv_file_path)\n",
    "\n",
    "    mapping = {1: 1, 2: 1, 3: 0, 4: 1, 5: 1}\n",
    "    \n",
    "    df[label_column] = df[label_column].map(mapping)\n",
    "\n",
    "    label_counts = df[label_column].value_counts()\n",
    "\n",
    "    majority_label = label_counts.idxmax()\n",
    "    majority_count = label_counts.max()\n",
    "    total_samples = len(df)\n",
    "\n",
    "    accuracy = majority_count / total_samples\n",
    "\n",
    "    print(f\"\\nMajority Label: {majority_label} (Count: {majority_count})\")\n",
    "    print(f\"Majority Baseline Accuracy: {accuracy:.2f}\")"
   ]
  },
  {
   "cell_type": "code",
   "execution_count": 202,
   "metadata": {},
   "outputs": [
    {
     "name": "stdout",
     "output_type": "stream",
     "text": [
      "=== GM ===\n",
      "\n",
      "Majority Label: 0 (Count: 849)\n",
      "Majority Baseline Accuracy: 0.66\n"
     ]
    }
   ],
   "source": [
    "file_path = '/Users/guida/llm_argument_tasks/clean_data/GM_structured.csv'\n",
    "print(\"=== GM ===\")\n",
    "process_dataset_and_calculate_majority_baseline(file_path)"
   ]
  },
  {
   "cell_type": "code",
   "execution_count": 203,
   "metadata": {},
   "outputs": [
    {
     "name": "stdout",
     "output_type": "stream",
     "text": [
      "=== UGIP ===\n",
      "\n",
      "Majority Label: 0 (Count: 691)\n",
      "Majority Baseline Accuracy: 0.68\n"
     ]
    }
   ],
   "source": [
    "file_path = '/Users/guida/llm_argument_tasks/clean_data/UGIP_structured.csv'\n",
    "print(\"=== UGIP ===\")\n",
    "process_dataset_and_calculate_majority_baseline(file_path)"
   ]
  },
  {
   "cell_type": "code",
   "execution_count": 19,
   "metadata": {},
   "outputs": [],
   "source": [
    "def map_gold_labels(labels):\n",
    "    \"\"\"\n",
    "    Maps the original labels in golden data to binary labels for evaluation.\n",
    "    Labels 1, 2, 4, 5 are mapped to 1.\n",
    "    Label 3 is mapped to 0.\n",
    "    \"\"\"\n",
    "    mapping = {1: 1, 2: 1, 4: 1, 5: 1, 3: 0}\n",
    "    return labels.map(mapping)"
   ]
  },
  {
   "cell_type": "code",
   "execution_count": 68,
   "metadata": {},
   "outputs": [],
   "source": [
    "def evaluate_predictions(golden_csv_path: str, predictions_json_path: str):\n",
    "    \"\"\"\n",
    "    Evaluates predictions against the golden data.\n",
    "    \n",
    "    Parameters:\n",
    "    - golden_csv_path: Path to the CSV file containing golden data.\n",
    "    - predictions_json_path: Path to the JSON file containing predictions.\n",
    "    \n",
    "    Output:\n",
    "    - Classification report comparing the predictions with the mapped gold labels.\n",
    "    \"\"\"\n",
    "\n",
    "    golden_df = pd.read_csv(golden_csv_path)\n",
    "    \n",
    "    with open(predictions_json_path, 'r') as f:\n",
    "        predictions = json.load(f)\n",
    "\n",
    "    predictions_df = pd.DataFrame(predictions)\n",
    "\n",
    "    merged_df = pd.merge(golden_df[['id', 'label']], predictions_df[['id', 'label']], on='id', suffixes=('_gold', '_pred'))\n",
    "\n",
    "    merged_df['label_gold'] = map_gold_labels(merged_df['label_gold'].astype(int))\n",
    "    \n",
    "    # Ground truth vector\n",
    "    ground_truth = merged_df['label_gold'].values\n",
    "\n",
    "    # Prediction vector\n",
    "    predictions = merged_df['label_pred'].values\n",
    "\n",
    "    report = classification_report(ground_truth, predictions)\n",
    "    print(report)\n"
   ]
  },
  {
   "cell_type": "code",
   "execution_count": 85,
   "metadata": {},
   "outputs": [],
   "source": [
    "def evaluate_predictions_yru(golden_csv_path: str, predictions_json_path: str):\n",
    "    \"\"\"\n",
    "    Evaluates predictions against the golden data.\n",
    "    \n",
    "    Parameters:\n",
    "    - golden_csv_path: Path to the CSV file containing golden data.\n",
    "    - predictions_json_path: Path to the JSON file containing predictions.\n",
    "    \n",
    "    Output:\n",
    "    - Classification report comparing the predictions with the mapped gold labels.\n",
    "    \"\"\"\n",
    "\n",
    "    golden_df = pd.read_csv(golden_csv_path)\n",
    "    golden_df['label'] = 1  \n",
    "\n",
    "    with open(predictions_json_path, 'r') as f:\n",
    "        predictions = json.load(f)\n",
    "\n",
    "    predictions_df = pd.DataFrame(predictions)\n",
    "    filtered_predictions_df = predictions_df[predictions_df['id'].isin(golden_df['id'])]\n",
    "\n",
    "    merged_df = pd.merge(golden_df[['id', 'label']], filtered_predictions_df[['id', 'label']], on='id', how='inner', suffixes=('_gold', '_pred'))\n",
    "\n",
    "\n",
    "    ground_truth = merged_df['label_gold'].values\n",
    "    predictions = merged_df['label_pred'].values\n",
    "\n",
    "    report = classification_report(ground_truth, predictions)\n",
    "    print(report)\n"
   ]
  },
  {
   "cell_type": "markdown",
   "metadata": {},
   "source": [
    "## Evaluation GM"
   ]
  },
  {
   "cell_type": "code",
   "execution_count": 69,
   "metadata": {},
   "outputs": [
    {
     "name": "stdout",
     "output_type": "stream",
     "text": [
      "           id  label_gold  label_pred\n",
      "0       1arg2           1           1\n",
      "1       1arg3           1           0\n",
      "2       1arg4           1           1\n",
      "3       1arg5           1           0\n",
      "4       1arg6           1           1\n",
      "...       ...         ...         ...\n",
      "1262  198arg4           1           0\n",
      "1263  198arg5           1           1\n",
      "1264  198arg6           1           0\n",
      "1265  198arg7           1           1\n",
      "1266    1arg1           1           0\n",
      "\n",
      "[1267 rows x 3 columns]\n",
      "[1 1 1 ... 1 1 1]\n",
      "[1 0 1 ... 0 1 0]\n",
      "              precision    recall  f1-score   support\n",
      "\n",
      "           0       0.00      0.00      0.00         0\n",
      "           1       1.00      0.29      0.45      1267\n",
      "\n",
      "    accuracy                           0.29      1267\n",
      "   macro avg       0.50      0.15      0.23      1267\n",
      "weighted avg       1.00      0.29      0.45      1267\n",
      "\n"
     ]
    },
    {
     "name": "stderr",
     "output_type": "stream",
     "text": [
      "/Users/guida/llm_argument_tasks/myenv/lib/python3.12/site-packages/sklearn/metrics/_classification.py:1517: UndefinedMetricWarning: Recall is ill-defined and being set to 0.0 in labels with no true samples. Use `zero_division` parameter to control this behavior.\n",
      "  _warn_prf(average, modifier, f\"{metric.capitalize()} is\", len(result))\n",
      "/Users/guida/llm_argument_tasks/myenv/lib/python3.12/site-packages/sklearn/metrics/_classification.py:1517: UndefinedMetricWarning: Recall is ill-defined and being set to 0.0 in labels with no true samples. Use `zero_division` parameter to control this behavior.\n",
      "  _warn_prf(average, modifier, f\"{metric.capitalize()} is\", len(result))\n",
      "/Users/guida/llm_argument_tasks/myenv/lib/python3.12/site-packages/sklearn/metrics/_classification.py:1517: UndefinedMetricWarning: Recall is ill-defined and being set to 0.0 in labels with no true samples. Use `zero_division` parameter to control this behavior.\n",
      "  _warn_prf(average, modifier, f\"{metric.capitalize()} is\", len(result))\n"
     ]
    }
   ],
   "source": [
    "golden_csv_path = '/Users/guida/llm_argument_tasks/clean_data/GM_structured.csv'\n",
    "predictions_json_path = '/Users/guida/llm_argument_tasks/output_files/llama3/comarg_gm_argument_identification.json'\n",
    "\n",
    "evaluate_predictions(golden_csv_path, predictions_json_path)"
   ]
  },
  {
   "cell_type": "markdown",
   "metadata": {},
   "source": [
    "## Evaluation UGIP"
   ]
  },
  {
   "cell_type": "code",
   "execution_count": 57,
   "metadata": {},
   "outputs": [
    {
     "name": "stdout",
     "output_type": "stream",
     "text": [
      "              precision    recall  f1-score   support\n",
      "\n",
      "           0       0.72      0.92      0.81       535\n",
      "           1       0.70      0.36      0.47       291\n",
      "\n",
      "    accuracy                           0.72       826\n",
      "   macro avg       0.71      0.64      0.64       826\n",
      "weighted avg       0.71      0.72      0.69       826\n",
      "\n"
     ]
    }
   ],
   "source": [
    "golden_data_path = '/Users/guida/llm_argument_tasks/clean_data/UGIP_structured.csv'\n",
    "model_output_path = '/Users/guida/llm_argument_tasks/output_files/llama3/comarg_ugip_argument_identification.json'\n",
    "\n",
    "evaluate_predictions(golden_data_path, model_output_path)"
   ]
  },
  {
   "cell_type": "markdown",
   "metadata": {},
   "source": [
    "====== YRU Dataset ======="
   ]
  },
  {
   "cell_type": "markdown",
   "metadata": {},
   "source": [
    "## Abortion"
   ]
  },
  {
   "cell_type": "code",
   "execution_count": 86,
   "metadata": {},
   "outputs": [
    {
     "name": "stdout",
     "output_type": "stream",
     "text": [
      "              precision    recall  f1-score   support\n",
      "\n",
      "           0       0.00      0.00      0.00         0\n",
      "           1       1.00      0.69      0.82      1604\n",
      "\n",
      "    accuracy                           0.69      1604\n",
      "   macro avg       0.50      0.35      0.41      1604\n",
      "weighted avg       1.00      0.69      0.82      1604\n",
      "\n"
     ]
    },
    {
     "name": "stderr",
     "output_type": "stream",
     "text": [
      "/Users/guida/llm_argument_tasks/myenv/lib/python3.12/site-packages/sklearn/metrics/_classification.py:1517: UndefinedMetricWarning: Recall is ill-defined and being set to 0.0 in labels with no true samples. Use `zero_division` parameter to control this behavior.\n",
      "  _warn_prf(average, modifier, f\"{metric.capitalize()} is\", len(result))\n",
      "/Users/guida/llm_argument_tasks/myenv/lib/python3.12/site-packages/sklearn/metrics/_classification.py:1517: UndefinedMetricWarning: Recall is ill-defined and being set to 0.0 in labels with no true samples. Use `zero_division` parameter to control this behavior.\n",
      "  _warn_prf(average, modifier, f\"{metric.capitalize()} is\", len(result))\n",
      "/Users/guida/llm_argument_tasks/myenv/lib/python3.12/site-packages/sklearn/metrics/_classification.py:1517: UndefinedMetricWarning: Recall is ill-defined and being set to 0.0 in labels with no true samples. Use `zero_division` parameter to control this behavior.\n",
      "  _warn_prf(average, modifier, f\"{metric.capitalize()} is\", len(result))\n"
     ]
    }
   ],
   "source": [
    "golden_data_path = '/Users/guida/llm_argument_tasks/clean_data/yru_abortion.csv'\n",
    "model_output_path = '/Users/guida/llm_argument_tasks/output_files/llama3/yru_abortion_identification.json'\n",
    "\n",
    "evaluate_predictions_yru(golden_data_path, model_output_path)"
   ]
  },
  {
   "cell_type": "markdown",
   "metadata": {},
   "source": [
    "## Gay Rights"
   ]
  },
  {
   "cell_type": "code",
   "execution_count": 87,
   "metadata": {},
   "outputs": [
    {
     "name": "stdout",
     "output_type": "stream",
     "text": [
      "              precision    recall  f1-score   support\n",
      "\n",
      "           0       0.00      0.00      0.00         0\n",
      "           1       1.00      0.62      0.77      1408\n",
      "\n",
      "    accuracy                           0.62      1408\n",
      "   macro avg       0.50      0.31      0.38      1408\n",
      "weighted avg       1.00      0.62      0.77      1408\n",
      "\n"
     ]
    },
    {
     "name": "stderr",
     "output_type": "stream",
     "text": [
      "/Users/guida/llm_argument_tasks/myenv/lib/python3.12/site-packages/sklearn/metrics/_classification.py:1517: UndefinedMetricWarning: Recall is ill-defined and being set to 0.0 in labels with no true samples. Use `zero_division` parameter to control this behavior.\n",
      "  _warn_prf(average, modifier, f\"{metric.capitalize()} is\", len(result))\n",
      "/Users/guida/llm_argument_tasks/myenv/lib/python3.12/site-packages/sklearn/metrics/_classification.py:1517: UndefinedMetricWarning: Recall is ill-defined and being set to 0.0 in labels with no true samples. Use `zero_division` parameter to control this behavior.\n",
      "  _warn_prf(average, modifier, f\"{metric.capitalize()} is\", len(result))\n",
      "/Users/guida/llm_argument_tasks/myenv/lib/python3.12/site-packages/sklearn/metrics/_classification.py:1517: UndefinedMetricWarning: Recall is ill-defined and being set to 0.0 in labels with no true samples. Use `zero_division` parameter to control this behavior.\n",
      "  _warn_prf(average, modifier, f\"{metric.capitalize()} is\", len(result))\n"
     ]
    }
   ],
   "source": [
    "golden_data_path = '/Users/guida/llm_argument_tasks/clean_data/yru_gayrights.csv'\n",
    "model_output_path = '/Users/guida/llm_argument_tasks/output_files/llama3/yru_gayRights_identification.json'\n",
    "\n",
    "evaluate_predictions_yru(golden_data_path, model_output_path)"
   ]
  },
  {
   "cell_type": "markdown",
   "metadata": {},
   "source": [
    "## Marijuana"
   ]
  },
  {
   "cell_type": "code",
   "execution_count": 91,
   "metadata": {},
   "outputs": [
    {
     "name": "stdout",
     "output_type": "stream",
     "text": [
      "              precision    recall  f1-score   support\n",
      "\n",
      "           0       0.00      0.00      0.00         0\n",
      "           1       1.00      0.57      0.73      1491\n",
      "\n",
      "    accuracy                           0.57      1491\n",
      "   macro avg       0.50      0.29      0.36      1491\n",
      "weighted avg       1.00      0.57      0.73      1491\n",
      "\n"
     ]
    },
    {
     "name": "stderr",
     "output_type": "stream",
     "text": [
      "/Users/guida/llm_argument_tasks/myenv/lib/python3.12/site-packages/sklearn/metrics/_classification.py:1517: UndefinedMetricWarning: Recall is ill-defined and being set to 0.0 in labels with no true samples. Use `zero_division` parameter to control this behavior.\n",
      "  _warn_prf(average, modifier, f\"{metric.capitalize()} is\", len(result))\n",
      "/Users/guida/llm_argument_tasks/myenv/lib/python3.12/site-packages/sklearn/metrics/_classification.py:1517: UndefinedMetricWarning: Recall is ill-defined and being set to 0.0 in labels with no true samples. Use `zero_division` parameter to control this behavior.\n",
      "  _warn_prf(average, modifier, f\"{metric.capitalize()} is\", len(result))\n",
      "/Users/guida/llm_argument_tasks/myenv/lib/python3.12/site-packages/sklearn/metrics/_classification.py:1517: UndefinedMetricWarning: Recall is ill-defined and being set to 0.0 in labels with no true samples. Use `zero_division` parameter to control this behavior.\n",
      "  _warn_prf(average, modifier, f\"{metric.capitalize()} is\", len(result))\n"
     ]
    }
   ],
   "source": [
    "golden_data_path = '/Users/guida/llm_argument_tasks/clean_data/yru_marijuana.csv'\n",
    "model_output_path = '/Users/guida/llm_argument_tasks/output_files/llama3/yru_marijuana_identification.json'\n",
    "\n",
    "evaluate_predictions_yru(golden_data_path, model_output_path)"
   ]
  },
  {
   "cell_type": "markdown",
   "metadata": {},
   "source": [
    "## Obama"
   ]
  },
  {
   "cell_type": "code",
   "execution_count": 92,
   "metadata": {},
   "outputs": [
    {
     "name": "stdout",
     "output_type": "stream",
     "text": [
      "              precision    recall  f1-score   support\n",
      "\n",
      "           0       0.00      0.00      0.00         0\n",
      "           1       1.00      0.66      0.79      1308\n",
      "\n",
      "    accuracy                           0.66      1308\n",
      "   macro avg       0.50      0.33      0.40      1308\n",
      "weighted avg       1.00      0.66      0.79      1308\n",
      "\n"
     ]
    },
    {
     "name": "stderr",
     "output_type": "stream",
     "text": [
      "/Users/guida/llm_argument_tasks/myenv/lib/python3.12/site-packages/sklearn/metrics/_classification.py:1517: UndefinedMetricWarning: Recall is ill-defined and being set to 0.0 in labels with no true samples. Use `zero_division` parameter to control this behavior.\n",
      "  _warn_prf(average, modifier, f\"{metric.capitalize()} is\", len(result))\n",
      "/Users/guida/llm_argument_tasks/myenv/lib/python3.12/site-packages/sklearn/metrics/_classification.py:1517: UndefinedMetricWarning: Recall is ill-defined and being set to 0.0 in labels with no true samples. Use `zero_division` parameter to control this behavior.\n",
      "  _warn_prf(average, modifier, f\"{metric.capitalize()} is\", len(result))\n",
      "/Users/guida/llm_argument_tasks/myenv/lib/python3.12/site-packages/sklearn/metrics/_classification.py:1517: UndefinedMetricWarning: Recall is ill-defined and being set to 0.0 in labels with no true samples. Use `zero_division` parameter to control this behavior.\n",
      "  _warn_prf(average, modifier, f\"{metric.capitalize()} is\", len(result))\n"
     ]
    }
   ],
   "source": [
    "golden_data_path = '/Users/guida/llm_argument_tasks/clean_data/yru_obama.csv'\n",
    "model_output_path = '/Users/guida/llm_argument_tasks/output_files/llama3/yru_obama_identification.json'\n",
    "\n",
    "evaluate_predictions_yru(golden_data_path, model_output_path)"
   ]
  }
 ],
 "metadata": {
  "kernelspec": {
   "display_name": "myenv",
   "language": "python",
   "name": "python3"
  },
  "language_info": {
   "codemirror_mode": {
    "name": "ipython",
    "version": 3
   },
   "file_extension": ".py",
   "mimetype": "text/x-python",
   "name": "python",
   "nbconvert_exporter": "python",
   "pygments_lexer": "ipython3",
   "version": "3.12.3"
  }
 },
 "nbformat": 4,
 "nbformat_minor": 2
}
