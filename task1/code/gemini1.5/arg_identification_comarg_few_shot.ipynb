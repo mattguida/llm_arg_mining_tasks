{
 "cells": [
  {
   "cell_type": "code",
   "execution_count": 15,
   "metadata": {},
   "outputs": [],
   "source": [
    "from openai import OpenAI\n",
    "import os\n",
    "import pandas as pd\n",
    "from pydantic import BaseModel, Field\n",
    "from tqdm import tqdm\n",
    "import json\n",
    "from random import sample\n",
    "import jsonlines as jsonl\n",
    "from openai import OpenAI\n",
    "\n",
    "\n",
    "import google.generativeai as genai\n",
    "from google.generativeai.types import RequestOptions\n",
    "from google.api_core import retry\n",
    "from google.auth import default, transport\n",
    "from modelsmith import Forge, VertexAIGenerativeModel\n",
    "from vertexai.generative_models import GenerationConfig, GenerativeModel, Part\n",
    "from dotenv import load_dotenv\n",
    "import vertexai\n",
    "\n",
    "load_dotenv('/Users/guida/llm_argument_tasks/.env')\n",
    "\n",
    "api_key = os.environ.get('OPENAI_API_KEY')\n",
    "PROJECT_ID = os.environ.get('GEMINI_PROJECT_ID')\n",
    "LOCATION = \"us-central1\"\n",
    "\n",
    "vertexai.init(\n",
    "        project=\"leas-team\",\n",
    "    )\n"
   ]
  },
  {
   "cell_type": "code",
   "execution_count": 16,
   "metadata": {},
   "outputs": [],
   "source": [
    "class ArgumentClassification(BaseModel):\n",
    "    id: str \n",
    "    label: int "
   ]
  },
  {
   "cell_type": "code",
   "execution_count": 17,
   "metadata": {},
   "outputs": [],
   "source": [
    "label_mapping = {1: 1, 2: 1, 3: 0, 4: 1, 5:1}"
   ]
  },
  {
   "cell_type": "code",
   "execution_count": 18,
   "metadata": {},
   "outputs": [],
   "source": [
    "def prep_fewshot_samples(samples_file, topic, n):\n",
    "    df = pd.read_csv(samples_file)\n",
    "    ids = df['id'].to_list()\n",
    "    sampled = sample(ids, n)\n",
    "    print(sampled)\n",
    "    df = df[df['id'].isin(sampled)]\n",
    "    comment = df.iloc[0]['comment_text']\n",
    "    output = f\"Comment: {comment}\\n The following arguments are present (1) or not present (0) in this comment:\\n\"\n",
    "    #print(output)\n",
    "    for i, row in df.iterrows():\n",
    "        argument = row['argument_text']\n",
    "        output = f\"{output} Argument {i}: {argument}\\n\"\n",
    "        label = label_mapping[row['label']]\n",
    "        output = f\"{output} Label: {label}\\n\\n\"\n",
    "    print(output)\n",
    "    return output\n"
   ]
  },
  {
   "cell_type": "code",
   "execution_count": 19,
   "metadata": {},
   "outputs": [],
   "source": [
    "def classify_text(id: str, comment_text: str, topic: str, argument: str, samples: str) -> dict:\n",
    "        model = genai.GenerativeModel(\"gemini-1.5-flash\")\n",
    "        \n",
    "        safety_settings = {\n",
    "            \"HARM_CATEGORY_HARASSMENT\": \"block_none\",\n",
    "            \"HARM_CATEGORY_HATE_SPEECH\": \"block_none\",\n",
    "            \"HARM_CATEGORY_SEXUALLY_EXPLICIT\": \"block_none\",\n",
    "            \"HARM_CATEGORY_DANGEROUS_CONTENT\": \"block_none\"\n",
    "        }\n",
    "        \n",
    "        prompt = f\"\"\"\n",
    "            Analyze the given comment in relation to a specific argument about {topic}. You need to:\n",
    "            Identify if the comment makes use of the given argument. If it does, assign the label 1. If it does not, assign the label 0.\n",
    "            Do NOT use any other label.\n",
    "            Do NOT include the comment or the argument in the response.\n",
    "            \n",
    "            The argument to analyze is: {argument}\n",
    "            \n",
    "            Provide your response in the following JSON format:\n",
    "            \n",
    "            {{\n",
    "                \"id\": \"{id}\",\n",
    "                \"label\": \"the label for the use of the argument in the comment\"\n",
    "            }}\n",
    "            \n",
    "            Some examples:\n",
    "\n",
    "            {samples}\n",
    "\n",
    "\n",
    "            Analyze the following comment in relation to the given argument:\n",
    "\n",
    "        {comment_text},\n",
    "        \"\"\"\n",
    "        response = model.generate_content(\n",
    "            prompt,\n",
    "            generation_config=genai.types.GenerationConfig(\n",
    "                response_mime_type=\"application/json\",\n",
    "                response_schema=ArgumentClassification,\n",
    "                temperature=0,\n",
    "                top_p=1,\n",
    "            ),\n",
    "            safety_settings=safety_settings\n",
    "    )\n",
    "        \n",
    "        return response.text"
   ]
  },
  {
   "cell_type": "code",
   "execution_count": 20,
   "metadata": {},
   "outputs": [],
   "source": [
    "def process_dataframe_comments(df: pd.DataFrame, topic: str, file_name: str, samples: str, n: int):\n",
    "    \n",
    "    with jsonl.open(f'comarg_{file_name}_identification_gemini_{n}shot.jsonl', mode='w') as writer:\n",
    "        for idx, row in tqdm(df.iterrows(), desc=\"Processing comments\", unit=\"comment\", total=len(df)):\n",
    "            comment_id = row['id'] \n",
    "            comment_text = row['comment_text']  \n",
    "            argument = row['argument_text']  \n",
    "            try:\n",
    "                classification = classify_text(\n",
    "                    id=comment_id, \n",
    "                    comment_text=comment_text,  \n",
    "                    topic=topic,\n",
    "                    argument=argument,\n",
    "                    samples=samples\n",
    "                )\n",
    "\n",
    "                classification = json.loads(classification)\n",
    "                output_entry = {\"id\": comment_id, \"label\": classification[\"label\"]}\n",
    "                #print(output_entry)\n",
    "                writer.write(output_entry)\n",
    "            except json.JSONDecodeError as e:\n",
    "                print(f\"JSONDecodeError for comment: {comment_text[:50]}... - Error: {e}\")\n",
    "                error_entry = {\"id\": comment_id, \"label\": 0}\n",
    "                writer.write(error_entry)\n",
    "                continue\n",
    "            except Exception as e:\n",
    "                print(f\"An unexpected error occurred for comment: {comment_text[:50]}... - Error: {e}\")\n",
    "                error_entry = {\"id\": comment_id, \"label\": 0}\n",
    "                writer.write(error_entry)\n",
    "            continue"
   ]
  },
  {
   "cell_type": "markdown",
   "metadata": {},
   "source": [
    "## Gay Marriage"
   ]
  },
  {
   "cell_type": "code",
   "execution_count": 21,
   "metadata": {},
   "outputs": [
    {
     "name": "stdout",
     "output_type": "stream",
     "text": [
      "['134arg6', '134arg4', '134arg7', '134arg5', '134arg3']\n",
      "Comment: Same sex marriages do in their most basic form, surmount to treasonous and sedicious behavior among a few member of society.  Participation therein does not produce an offspring of such that can shoulder defense of any state, our federalist republic form of government, constituent representation, taxation, or the ability to pay down the national debt.  In short, it is a drain on society that the social order of what makes states, states; nations, nations and governments, governments.  As such, we can not allow it to stand in anyrecognizable or protected form.\n",
      " The following arguments are present (1) or not present (0) in this comment:\n",
      " Argument 2: Gay marriage undermines the institution of marriage, leading to an increase in out of wedlock births and divorce rates\n",
      " Label: 0\n",
      "\n",
      " Argument 3: It is discriminatory to refuse gay couples the right to marry\n",
      " Label: 0\n",
      "\n",
      " Argument 4: Major world religions are against gay marriages\n",
      " Label: 0\n",
      "\n",
      " Argument 5: Marriage is about more than procreation, therefore gay couples should not be denied the right to marry due to their biology.\n",
      " Label: 1\n",
      "\n",
      " Argument 6: Marriage should be between a man and a woman\n",
      " Label: 0\n",
      "\n",
      "\n"
     ]
    },
    {
     "name": "stderr",
     "output_type": "stream",
     "text": [
      "Processing comments:   0%|          | 0/1386 [00:00<?, ?comment/s]"
     ]
    },
    {
     "name": "stderr",
     "output_type": "stream",
     "text": [
      "Processing comments: 100%|██████████| 1386/1386 [10:35<00:00,  2.18comment/s] \n"
     ]
    }
   ],
   "source": [
    "gm = pd.read_csv('/Users/guida/llm_argument_tasks/clean_data/GM_all_arguments.csv')\n",
    "topic = 'gay marriage'\n",
    "file_name = 'gm'\n",
    "n = 5\n",
    "samples = prep_fewshot_samples('/Users/guida/llm_argument_tasks/clean_data/GM_all_arguments_shots.csv', topic, n)\n",
    "\n",
    "process_dataframe_comments(gm, topic, file_name, samples, n)"
   ]
  },
  {
   "cell_type": "code",
   "execution_count": 22,
   "metadata": {},
   "outputs": [
    {
     "name": "stdout",
     "output_type": "stream",
     "text": [
      "['108arg2']\n",
      "Comment: Marriage is for heterosexuals.  Other contractual instruments are available or could be legislated to give obligations and rights to partners.  Why infringe on marriage as a tradition?  If so, why not permit polygomy?  How far do you go?\n",
      " The following arguments are present (1) or not present (0) in this comment:\n",
      " Argument 0: Gay couples should be able to take advantage of the fiscal and legal benefits of marriage\n",
      " Label: 1\n",
      "\n",
      "\n"
     ]
    },
    {
     "name": "stderr",
     "output_type": "stream",
     "text": [
      "Processing comments: 100%|██████████| 1386/1386 [10:09<00:00,  2.27comment/s]\n"
     ]
    }
   ],
   "source": [
    "gm = pd.read_csv('/Users/guida/llm_argument_tasks/clean_data/GM_all_arguments.csv')\n",
    "topic = 'gay marriage'\n",
    "file_name = 'gm'\n",
    "n = 1\n",
    "samples = prep_fewshot_samples('/Users/guida/llm_argument_tasks/clean_data/GM_structured_one_shot.csv', topic, n)\n",
    "\n",
    "process_dataframe_comments(gm, topic, file_name, samples, n)"
   ]
  },
  {
   "cell_type": "markdown",
   "metadata": {},
   "source": [
    "## UGIP\n"
   ]
  },
  {
   "cell_type": "code",
   "execution_count": 23,
   "metadata": {},
   "outputs": [
    {
     "name": "stdout",
     "output_type": "stream",
     "text": [
      "['414721704arg4', '414721704arg1', '414721704arg3', '414721704arg6', '414721704arg5']\n",
      "Comment: Saying under God does not have to refer to a Christian God, or even a strictly religious God. I find it uplifting to state that we are all united under a greater power, whether it be that of a deity of doctrine or a collective, spiritual sense of our country's connectedness. Under God can mean different things to different people, but it is a good thing to recognize a power and purpose that is greater than any one individual.\n",
      " The following arguments are present (1) or not present (0) in this comment:\n",
      " Argument 0: Separation of state and religion\n",
      " Label: 0\n",
      "\n",
      " Argument 2: Under God  is part of American tradition and history\n",
      " Label: 0\n",
      "\n",
      " Argument 3: Likely to be seen as a state sanctioned condemnation of religion\n",
      " Label: 0\n",
      "\n",
      " Argument 4: Implies ultimate power on the part of the state\n",
      " Label: 0\n",
      "\n",
      " Argument 5: America is based on democracy and the pledge should reflect the belief of the American majority.\n",
      " Label: 0\n",
      "\n",
      "\n"
     ]
    },
    {
     "name": "stderr",
     "output_type": "stream",
     "text": [
      "Processing comments: 100%|██████████| 2094/2094 [17:09<00:00,  2.03comment/s]\n"
     ]
    }
   ],
   "source": [
    "ugip = pd.read_csv('/Users/guida/llm_argument_tasks/clean_data/UGIP_all_arguments_main.csv')\n",
    "topic = 'whether \"Under God\" should appear in the US Pledge of Allegiance'\n",
    "file_name = 'ugip'\n",
    "n = 5\n",
    "samples = prep_fewshot_samples('/Users/guida/llm_argument_tasks/clean_data/UGIP_all_arguments_shots.csv', topic, n)\n",
    "\n",
    "process_dataframe_comments(ugip, topic, file_name, samples, n)"
   ]
  },
  {
   "cell_type": "code",
   "execution_count": 24,
   "metadata": {},
   "outputs": [
    {
     "name": "stdout",
     "output_type": "stream",
     "text": [
      "['414721757arg6']\n",
      "Comment: I grew up with a Pledge that did not include under God in it. I was always happy to say that Pledge, which had great meaning for me.  However, somewhere along the way, under God was added and I then became embarrassed to say the Pledge because I thought that under God did not belong there. We are a country with the separation of church and state (thank God, because I believe in God) and for me, having under God in the Pledge belies that fact. If I am now ever in a situation that includes reciting the Pledge, I will of course do so but without saying those two words. The Pledge should belong to all of us and with the words under God in it, I do not think it does. Respectfully submitted.\n",
      " The following arguments are present (1) or not present (0) in this comment:\n",
      " Argument 0: America is based on democracy and the pledge should reflect the belief of the American majority.\n",
      " Label: 1\n",
      "\n",
      "\n"
     ]
    },
    {
     "name": "stderr",
     "output_type": "stream",
     "text": [
      "Processing comments: 100%|██████████| 2094/2094 [16:50<00:00,  2.07comment/s]\n"
     ]
    }
   ],
   "source": [
    "ugip = pd.read_csv('/Users/guida/llm_argument_tasks/clean_data/UGIP_all_arguments_main.csv')\n",
    "topic = 'whether \"Under God\" should appear in the US Pledge of Allegiance'\n",
    "file_name = 'ugip'\n",
    "n = 1\n",
    "samples = prep_fewshot_samples('/Users/guida/llm_argument_tasks/clean_data/UGIP_structured_one_shot.csv', topic, n)\n",
    "\n",
    "process_dataframe_comments(ugip, topic, file_name, samples, n)"
   ]
  }
 ],
 "metadata": {
  "kernelspec": {
   "display_name": "Python 3",
   "language": "python",
   "name": "python3"
  },
  "language_info": {
   "codemirror_mode": {
    "name": "ipython",
    "version": 3
   },
   "file_extension": ".py",
   "mimetype": "text/x-python",
   "name": "python",
   "nbconvert_exporter": "python",
   "pygments_lexer": "ipython3",
   "version": "3.12.3"
  }
 },
 "nbformat": 4,
 "nbformat_minor": 2
}
