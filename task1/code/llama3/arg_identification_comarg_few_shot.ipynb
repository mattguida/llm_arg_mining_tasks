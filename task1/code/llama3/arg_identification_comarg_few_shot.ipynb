{
 "cells": [
  {
   "cell_type": "code",
   "execution_count": 11,
   "metadata": {},
   "outputs": [],
   "source": [
    "from openai import OpenAI\n",
    "import os\n",
    "import pandas as pd\n",
    "from pydantic import BaseModel, Field\n",
    "from tqdm import tqdm\n",
    "import json\n",
    "from random import sample\n",
    "import jsonlines as jsonl\n",
    "from openai import OpenAI\n",
    "\n",
    "\n",
    "from together import Together\n",
    "import time\n",
    "from tqdm import tqdm\n",
    "import accelerate\n",
    "from dotenv import load_dotenv\n",
    "\n",
    "load_dotenv()\n",
    "\n",
    "api_key = os.environ.get('TOGETHER_API_KEY')\n",
    "client = Together(api_key=api_key)\n"
   ]
  },
  {
   "cell_type": "code",
   "execution_count": 12,
   "metadata": {},
   "outputs": [],
   "source": [
    "class ArgumentClassification(BaseModel):\n",
    "    id: str = Field(description=\"The exact ID of the comment being analyzed\")\n",
    "    label: int = Field(description=\"The label associated with the argument (0 or 1)\")"
   ]
  },
  {
   "cell_type": "code",
   "execution_count": 13,
   "metadata": {},
   "outputs": [],
   "source": [
    "# Dictionary for label-to-argument mappings for each topic\n",
    "label_mapping = {1: 1, 2: 1, 3: 0, 4: 1, 5:1}"
   ]
  },
  {
   "cell_type": "code",
   "execution_count": 14,
   "metadata": {},
   "outputs": [],
   "source": [
    "def prep_fewshot_samples(samples_file, topic, n):\n",
    "    df = pd.read_csv(samples_file)\n",
    "    ids = df['id'].to_list()\n",
    "    sampled = sample(ids, n)\n",
    "    print(sampled)\n",
    "    df = df[df['id'].isin(sampled)]\n",
    "    comment = df.iloc[0]['comment_text']\n",
    "    output = f\"Comment: {comment}\\n The following arguments are present (1) or not present (0) in this comment:\\n\"\n",
    "    #print(output)\n",
    "    for i, row in df.iterrows():\n",
    "        argument = row['argument_text']\n",
    "        output = f\"{output} Argument {i}: {argument}\\n\"\n",
    "        label = label_mapping[row['label']]\n",
    "        output = f\"{output} Label: {label}\\n\\n\"\n",
    "    print(output)\n",
    "    return output\n"
   ]
  },
  {
   "cell_type": "code",
   "execution_count": 15,
   "metadata": {},
   "outputs": [],
   "source": [
    "def classify_text(id: str, comment_text: str, topic: str, argument: str, samples: str) -> dict:    \n",
    "    extract = client.chat.completions.create(\n",
    "        messages=[\n",
    "            {\"role\": \"user\", \"content\": f\"\"\"\n",
    "            Analyze the given comment in relation to a specific argument about {topic}. You need to:\n",
    "            Identify if the comment makes use of the given argument. If it does, assign the label 1. If it does not, assign the label 0.\n",
    "            Do NOT use any other label.\n",
    "            Do NOT include the comment or the argument in the response.\n",
    "            \n",
    "            The argument to analyze is: {argument}\n",
    "            \n",
    "            Provide your response in the following JSON format:\n",
    "            \n",
    "            {{\n",
    "                \"id\": \"{id}\",\n",
    "                \"label\": \"the label for the use of the argument in the comment\"\n",
    "            }}\n",
    "            \n",
    "            Some examples:\n",
    "\n",
    "            {samples}\n",
    "\n",
    "\n",
    "            Analyze the following comment in relation to the given argument:\n",
    "            \"\"\"},\n",
    "        {\"role\": \"user\", \"content\": comment_text},\n",
    "        ],\n",
    "        model=\"meta-llama/Meta-Llama-3.1-8B-Instruct-Turbo\",\n",
    "        temperature=0,\n",
    "        top_k=1,\n",
    "        top_p=1,\n",
    "        response_format={\n",
    "            \"type\": \"json_object\",\n",
    "            \"schema\": ArgumentClassification.model_json_schema(),\n",
    "        }\n",
    "    )\n",
    "    \n",
    "    return json.loads(extract.choices[0].message.content)"
   ]
  },
  {
   "cell_type": "code",
   "execution_count": 16,
   "metadata": {},
   "outputs": [],
   "source": [
    "def process_dataframe_comments(df: pd.DataFrame, topic: str, file_name: str, samples: str, n: int):\n",
    "    \n",
    "    with jsonl.open(f'comarg_{file_name}_identification_llama_{n}shot.jsonl', mode='w') as writer:\n",
    "        for idx, row in tqdm(df.iterrows(), desc=\"Processing comments\", unit=\"comment\", total=len(df)):\n",
    "            comment_id = row['id'] \n",
    "            comment_text = row['comment_text']  \n",
    "            argument = row['argument_text']  \n",
    "            try:\n",
    "                classification = classify_text(\n",
    "                    id=comment_id, \n",
    "                    comment_text=comment_text,  \n",
    "                    topic=topic,\n",
    "                    argument=argument,\n",
    "                    samples=samples\n",
    "                )\n",
    "                writer.write(classification)\n",
    "                #print(classification)\n",
    "            except json.JSONDecodeError as e:\n",
    "                print(f\"JSONDecodeError for comment: {comment_text[:50]}... - Error: {e}\")\n",
    "                error_entry = {\"id\": comment_id, \"label\": 0}\n",
    "                writer.write(error_entry)\n",
    "                continue\n",
    "            except Exception as e:\n",
    "                print(f\"An unexpected error occurred for comment: {comment_text[:50]}... - Error: {e}\")\n",
    "                error_entry = {\"id\": comment_id, \"label\": 0}\n",
    "                writer.write(error_entry)\n",
    "            continue\n",
    "        "
   ]
  },
  {
   "cell_type": "markdown",
   "metadata": {},
   "source": [
    "## Gay Marriage"
   ]
  },
  {
   "cell_type": "code",
   "execution_count": 17,
   "metadata": {},
   "outputs": [
    {
     "name": "stdout",
     "output_type": "stream",
     "text": [
      "['134arg6', '134arg5', '134arg4', '134arg7', '134arg1']\n",
      "Comment: Same sex marriages do in their most basic form, surmount to treasonous and sedicious behavior among a few member of society.  Participation therein does not produce an offspring of such that can shoulder defense of any state, our federalist republic form of government, constituent representation, taxation, or the ability to pay down the national debt.  In short, it is a drain on society that the social order of what makes states, states; nations, nations and governments, governments.  As such, we can not allow it to stand in anyrecognizable or protected form.\n",
      " The following arguments are present (1) or not present (0) in this comment:\n",
      " Argument 0: Gay couples can declare their union without resort to marriage\n",
      " Label: 0\n",
      "\n",
      " Argument 3: It is discriminatory to refuse gay couples the right to marry\n",
      " Label: 0\n",
      "\n",
      " Argument 4: Major world religions are against gay marriages\n",
      " Label: 0\n",
      "\n",
      " Argument 5: Marriage is about more than procreation, therefore gay couples should not be denied the right to marry due to their biology.\n",
      " Label: 1\n",
      "\n",
      " Argument 6: Marriage should be between a man and a woman\n",
      " Label: 0\n",
      "\n",
      "\n"
     ]
    },
    {
     "name": "stderr",
     "output_type": "stream",
     "text": [
      "Processing comments: 100%|██████████| 1379/1379 [26:49<00:00,  1.17s/comment] \n"
     ]
    }
   ],
   "source": [
    "ab = pd.read_csv('/Users/guida/llm_argument_tasks/clean_data/GM_all_arguments_main.csv')\n",
    "topic = 'gay marriage'\n",
    "file_name = 'gm'\n",
    "n = 5\n",
    "samples = prep_fewshot_samples('/Users/guida/llm_argument_tasks/clean_data/GM_all_arguments_shots.csv', topic, n)\n",
    "\n",
    "process_dataframe_comments(ab, topic, file_name, samples, n)"
   ]
  },
  {
   "cell_type": "code",
   "execution_count": 18,
   "metadata": {},
   "outputs": [
    {
     "name": "stdout",
     "output_type": "stream",
     "text": [
      "['414721704arg5', '414721704arg4', '414721704arg3', '414721704arg1', '414721704arg2']\n",
      "Comment: Saying under God does not have to refer to a Christian God, or even a strictly religious God. I find it uplifting to state that we are all united under a greater power, whether it be that of a deity of doctrine or a collective, spiritual sense of our country's connectedness. Under God can mean different things to different people, but it is a good thing to recognize a power and purpose that is greater than any one individual.\n",
      " The following arguments are present (1) or not present (0) in this comment:\n",
      " Argument 0: Separation of state and religion\n",
      " Label: 0\n",
      "\n",
      " Argument 1: Removing under god would promote religious tolerance\n",
      " Label: 0\n",
      "\n",
      " Argument 2: Under God  is part of American tradition and history\n",
      " Label: 0\n",
      "\n",
      " Argument 3: Likely to be seen as a state sanctioned condemnation of religion\n",
      " Label: 0\n",
      "\n",
      " Argument 4: Implies ultimate power on the part of the state\n",
      " Label: 0\n",
      "\n",
      "\n"
     ]
    },
    {
     "name": "stderr",
     "output_type": "stream",
     "text": [
      "Processing comments: 100%|██████████| 2094/2094 [44:12<00:00,  1.27s/comment]\n"
     ]
    }
   ],
   "source": [
    "ugip = pd.read_csv('/Users/guida/llm_argument_tasks/clean_data/UGIP_all_arguments_main.csv')\n",
    "topic = 'whether \"Under God\" should appear in the US Pledge of Allegiance'\n",
    "file_name = 'ugip'\n",
    "n = 5\n",
    "samples = prep_fewshot_samples('/Users/guida/llm_argument_tasks/clean_data/UGIP_all_arguments_shots.csv', topic, n)\n",
    "\n",
    "process_dataframe_comments(ugip, topic, file_name, samples, n)"
   ]
  },
  {
   "cell_type": "code",
   "execution_count": 19,
   "metadata": {},
   "outputs": [
    {
     "name": "stdout",
     "output_type": "stream",
     "text": [
      "['134arg2']\n",
      "Comment: Same sex marriages do in their most basic form, surmount to treasonous and sedicious behavior among a few member of society.  Participation therein does not produce an offspring of such that can shoulder defense of any state, our federalist republic form of government, constituent representation, taxation, or the ability to pay down the national debt.  In short, it is a drain on society that the social order of what makes states, states; nations, nations and governments, governments.  As such, we can not allow it to stand in anyrecognizable or protected form.\n",
      " The following arguments are present (1) or not present (0) in this comment:\n",
      " Argument 1: Gay couples should be able to take advantage of the fiscal and legal benefits of marriage\n",
      " Label: 1\n",
      "\n",
      "\n"
     ]
    },
    {
     "name": "stderr",
     "output_type": "stream",
     "text": [
      "Processing comments: 100%|██████████| 1379/1379 [28:31<00:00,  1.24s/comment] \n"
     ]
    }
   ],
   "source": [
    "ab = pd.read_csv('/Users/guida/llm_argument_tasks/clean_data/GM_all_arguments_main.csv')\n",
    "topic = 'gay marriage'\n",
    "file_name = 'gm'\n",
    "n = 1\n",
    "samples = prep_fewshot_samples('/Users/guida/llm_argument_tasks/clean_data/GM_all_arguments_shots.csv', topic, n)\n",
    "\n",
    "process_dataframe_comments(ab, topic, file_name, samples, n)"
   ]
  },
  {
   "cell_type": "code",
   "execution_count": 20,
   "metadata": {},
   "outputs": [
    {
     "name": "stdout",
     "output_type": "stream",
     "text": [
      "['414721704arg2']\n",
      "Comment: Saying under God does not have to refer to a Christian God, or even a strictly religious God. I find it uplifting to state that we are all united under a greater power, whether it be that of a deity of doctrine or a collective, spiritual sense of our country's connectedness. Under God can mean different things to different people, but it is a good thing to recognize a power and purpose that is greater than any one individual.\n",
      " The following arguments are present (1) or not present (0) in this comment:\n",
      " Argument 1: Removing under god would promote religious tolerance\n",
      " Label: 0\n",
      "\n",
      "\n"
     ]
    },
    {
     "name": "stderr",
     "output_type": "stream",
     "text": [
      "Processing comments: 100%|██████████| 2094/2094 [45:28<00:00,  1.30s/comment]\n"
     ]
    }
   ],
   "source": [
    "ugip = pd.read_csv('/Users/guida/llm_argument_tasks/clean_data/UGIP_all_arguments_main.csv')\n",
    "topic = 'whether \"Under God\" should appear in the US Pledge of Allegiance'\n",
    "file_name = 'ugip'\n",
    "n = 1\n",
    "samples = prep_fewshot_samples('/Users/guida/llm_argument_tasks/clean_data/UGIP_all_arguments_shots.csv', topic, n)\n",
    "\n",
    "process_dataframe_comments(ugip, topic, file_name, samples, n)"
   ]
  }
 ],
 "metadata": {
  "kernelspec": {
   "display_name": "Python 3",
   "language": "python",
   "name": "python3"
  },
  "language_info": {
   "codemirror_mode": {
    "name": "ipython",
    "version": 3
   },
   "file_extension": ".py",
   "mimetype": "text/x-python",
   "name": "python",
   "nbconvert_exporter": "python",
   "pygments_lexer": "ipython3",
   "version": "3.12.3"
  }
 },
 "nbformat": 4,
 "nbformat_minor": 2
}
