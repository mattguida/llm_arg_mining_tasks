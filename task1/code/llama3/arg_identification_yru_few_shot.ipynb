{
 "cells": [
  {
   "cell_type": "code",
   "execution_count": 2,
   "metadata": {},
   "outputs": [],
   "source": [
    "from openai import OpenAI\n",
    "import os\n",
    "import pandas as pd\n",
    "from pydantic import BaseModel, Field\n",
    "from typing import List\n",
    "from tqdm import tqdm\n",
    "import json\n",
    "from random import sample\n",
    "import jsonlines as jsonl\n",
    "from openai import OpenAI\n",
    "from dotenv import load_dotenv\n",
    "from together import Together\n",
    "\n",
    "\n",
    "load_dotenv('/Users/guida/llm_argument_tasks/.env')\n",
    "\n",
    "api_key = os.environ.get('TOGETHER_API_KEY')\n",
    "client = Together(api_key=api_key)"
   ]
  },
  {
   "cell_type": "code",
   "execution_count": 3,
   "metadata": {},
   "outputs": [],
   "source": [
    "class ArgumentClassification(BaseModel):\n",
    "    id: str = Field(description=\"The exact ID of the comment being analyzed\")\n",
    "    label: int = Field(description=\"The label associated with the argument (0 or 1)\")"
   ]
  },
  {
   "cell_type": "code",
   "execution_count": 4,
   "metadata": {},
   "outputs": [],
   "source": [
    "# Dictionary for label-to-argument mappings for each topic\n",
    "topic_label_to_argument = {\n",
    "    \"abortion\": {\n",
    "        \"p-right\": \"Abortion is a woman’s right.\",\n",
    "        \"p-rape\": \"Rape victims need it to be legal.\",\n",
    "        \"p-not_human\": \"A fetus is not a human yet, so it's okay to abort.\",\n",
    "        \"p-mother_danger\": \"Abortion should be allowed when a mother's life is in danger.\",\n",
    "        \"p-baby_ill_treatment\": \"Unwanted babies are ill-treated by parents and/or not always adopted.\",\n",
    "        \"p-birth_ctrl\": \"Birth control fails at times and abortion is one way to deal with it.\",\n",
    "        \"p-not_murder\": \"Abortion is not murder.\",\n",
    "        \"p-sick_mom\": \"Mother is not healthy/financially solvent.\",\n",
    "        \"p-other\": \"Others\",\n",
    "        \"c-adopt\": \"Put baby up for adoption.\",\n",
    "        \"c-kill\": \"Abortion kills a life.\",\n",
    "        \"c-baby_right\": \"An unborn baby is a human and has the right to live.\",\n",
    "        \"c-sex\": \"Be willing to have the baby if you have sex.\",\n",
    "        \"c-bad_4_mom\": \"Abortion is harmful for women.\",\n",
    "        \"c-other\": \"Others\"\n",
    "    },\n",
    "    \"gayRights\": {\n",
    "        \"p-normal\": \"Gay marriage is like any other marriage.\",\n",
    "        \"p-right_denied\": \"Gay people should have the same rights as straight people.\",\n",
    "        \"p-no_threat_for_child\": \"Gay parents can adopt and ensure a happy life for a baby.\",\n",
    "        \"p-born\": \"People are born gay.\",\n",
    "        \"p-religion\": \"Religion should not be used against gay rights.\",\n",
    "        \"p-Other\": \"Others\",\n",
    "        \"c-religion\": \"Religion does not permit gay marriages.\",\n",
    "        \"c-abnormal\": \"Gay marriages are not normal/against nature.\",\n",
    "        \"c-threat_to_child\": \"Gay parents cannot raise kids properly.\",\n",
    "        \"c-gay_problems\": \"Gay people have problems and create social issues.\",\n",
    "        \"c-Other\": \"Others\"\n",
    "    },\n",
    "    \"obama\": {\n",
    "        \"p-economy\": \"Fixed the economy.\",\n",
    "        \"p-War\": \"Ending the wars.\",\n",
    "        \"p-republicans\": \"Better than the republican candidates.\",\n",
    "        \"p-decision_policies\": \"Makes good decisions/policies.\",\n",
    "        \"p-quality\": \"Has qualities of a good leader.\",\n",
    "        \"p-health\": \"Ensured better healthcare.\",\n",
    "        \"p-foreign_policies\": \"Executed effective foreign policies.\",\n",
    "        \"p-job\": \"Created more jobs.\",\n",
    "        \"p-Other\": \"Others\",\n",
    "        \"c-economy\": \"Destroyed our economy.\",\n",
    "        \"c-War\": \"Wars are still on.\",\n",
    "        \"c-job\": \"Unemployment rate is high.\",\n",
    "        \"c-health\": \"Healthcare bill is a failure.\",\n",
    "        \"c-decision_policies\": \"Poor decision-maker.\",\n",
    "        \"c-republicans\": \"We have better republicans than Obama.\",\n",
    "        \"c-quality\": \"Not eligible as a leader.\",\n",
    "        \"c-foreign_policies\": \"Ineffective foreign policies.\",\n",
    "        \"c-Other\": \"Others\"\n",
    "    },\n",
    "    \"marijuana\": {\n",
    "        \"p-not_addictive\": \"Not addictive.\",\n",
    "        \"p-medicine\": \"Used as a medicine for its positive effects.\",\n",
    "        \"p-legal\": \"Legalized marijuana can be controlled and regulated by the government.\",\n",
    "        \"p-right\": \"Prohibition violates human rights.\",\n",
    "        \"p-no_damage\": \"Does not cause any damage to our bodies.\",\n",
    "        \"p-Other\": \"Others\",\n",
    "        \"c-health\": \"Damages our bodies.\",\n",
    "        \"c-mind\": \"Responsible for brain damage.\",\n",
    "        \"c-illegal\": \"If legalized, people will use marijuana and other drugs more.\",\n",
    "        \"c-crime\": \"Causes crime.\",\n",
    "        \"c-addiction\": \"Highly addictive.\",\n",
    "        \"c-Other\": \"Others\"\n",
    "    }\n",
    "}"
   ]
  },
  {
   "cell_type": "code",
   "execution_count": 5,
   "metadata": {},
   "outputs": [],
   "source": [
    "def prep_fewshot_samples(samples_file, topic):\n",
    "    df = pd.read_csv(samples_file)\n",
    "    output = ''\n",
    "    for i, row in df.iterrows():\n",
    "        comment = row['text']\n",
    "        output = f\"{output}\\n Comment: {comment}\\n The following arguments are present (1) or not present (0) in this comment:\\n\"\n",
    "        argument_type = row['label']\n",
    "        argument = topic_label_to_argument[topic][argument_type]\n",
    "        output = f\"{output} Argument {i}: {argument}\\n\"\n",
    "        label = row['present']\n",
    "        output = f\"{output} Label: {label}\\n\\n\"\n",
    "    return output"
   ]
  },
  {
   "cell_type": "code",
   "execution_count": 6,
   "metadata": {},
   "outputs": [],
   "source": [
    "def classify_text(id: str, comment_text: str, topic: str, argument: str, samples: str) -> dict:\n",
    "    extract = client.chat.completions.create(\n",
    "        messages=[\n",
    "            {\"role\": \"user\", \"content\": f\"\"\"\n",
    "            Analyze the given comment in relation to a specific argument about {topic}. You need to:\n",
    "            Identify if the comment makes use of the given argument. If it does, assign the label 1. If it does not, assign the label 0.\n",
    "            Do NOT use any other label.\n",
    "            Do NOT include the comment or the argument in the response.\n",
    "            \n",
    "            The argument to analyze is: {argument}\n",
    "            \n",
    "            Provide your response in the following JSON format:\n",
    "            \n",
    "            {{\n",
    "                \"id\": \"{id}\",\n",
    "                \"label\": \"the label for the use of the argument in the comment\"\n",
    "            }}\n",
    "            \n",
    "            Some examples:\n",
    "\n",
    "            {samples}\n",
    "\n",
    "\n",
    "            Analyze the following comment in relation to the given argument:\n",
    "            \"\"\"},\n",
    "        {\"role\": \"user\", \"content\": comment_text},\n",
    "        ],\n",
    "        model=\"meta-llama/Meta-Llama-3.1-8B-Instruct-Turbo\",\n",
    "        temperature=0,\n",
    "        top_k=1,\n",
    "        top_p=1,\n",
    "        response_format={\n",
    "            \"type\": \"json_object\",\n",
    "            \"schema\": ArgumentClassification.model_json_schema(),\n",
    "        }\n",
    "    )\n",
    "    \n",
    "    return json.loads(extract.choices[0].message.content)"
   ]
  },
  {
   "cell_type": "code",
   "execution_count": 7,
   "metadata": {},
   "outputs": [],
   "source": [
    "def process_dataframe_comments(df: pd.DataFrame, topic: str, samples: str, n: int):\n",
    "    label_to_argument = topic_label_to_argument.get(topic, {}) \n",
    "    with jsonl.open(f'yru_{topic}_identification_llama_{n}shot.jsonl', mode='w') as writer:\n",
    "        for idx, row in tqdm(df.iterrows(), desc=\"Processing comments\", unit=\"comment\", total=len(df)):\n",
    "            comment_id = row['uid'] \n",
    "            comment_text = row['text']  \n",
    "            comment_label = row['label']  \n",
    "\n",
    "            argument_text = label_to_argument.get(comment_label)\n",
    "            try:\n",
    "                classification = classify_text(\n",
    "                    id=comment_id, \n",
    "                    comment_text=comment_text,  \n",
    "                    topic=topic,\n",
    "                    argument=argument_text,\n",
    "                    samples=samples\n",
    "                )\n",
    "                writer.write(classification)\n",
    "                #print(classification)\n",
    "            except json.JSONDecodeError as e:\n",
    "                print(f\"JSONDecodeError for comment: {comment_text[:50]}... - Error: {e}\")\n",
    "                error_entry = {\"id\": comment_id, \"label\": 0}\n",
    "                writer.write(error_entry)\n",
    "                continue\n",
    "            except Exception as e:\n",
    "                print(f\"An unexpected error occurred for comment: {comment_text[:50]}... - Error: {e}\")\n",
    "                error_entry = {\"id\": comment_id, \"label\": 0}\n",
    "                writer.write(error_entry)\n",
    "            continue\n",
    "        "
   ]
  },
  {
   "cell_type": "markdown",
   "metadata": {},
   "source": [
    "## Abortion"
   ]
  },
  {
   "cell_type": "code",
   "execution_count": 10,
   "metadata": {},
   "outputs": [
    {
     "name": "stderr",
     "output_type": "stream",
     "text": [
      "Processing comments:   0%|          | 0/6685 [00:00<?, ?comment/s]"
     ]
    },
    {
     "name": "stderr",
     "output_type": "stream",
     "text": [
      "Processing comments: 100%|██████████| 6685/6685 [2:21:37<00:00,  1.27s/comment]  \n",
      "Processing comments:  87%|████████▋ | 5845/6685 [2:07:05<15:26,  1.10s/comment]  "
     ]
    },
    {
     "name": "stdout",
     "output_type": "stream",
     "text": [
      "An unexpected error occurred for comment: 1. To achieve wisdom and knowledge, to love, to fi... - Error: Error code: 400 - {\"message\": \"Input validation error\", \"type_\": \"invalid_request_error\"}\n"
     ]
    },
    {
     "name": "stderr",
     "output_type": "stream",
     "text": [
      "Processing comments: 100%|██████████| 6685/6685 [2:27:37<00:00,  1.33s/comment]  \n"
     ]
    }
   ],
   "source": [
    "topic = 'abortion'\n",
    "\n",
    "for n in [1, 5]:\n",
    "\n",
    "    df = pd.read_csv(f'/Users/guida/llm_argument_tasks/clean_data/yru_{topic}_with_negatives_main.csv')\n",
    "    \n",
    "    samples = prep_fewshot_samples(f'/Users/guida/llm_argument_tasks/clean_data/yru_{topic}_with_negatives_{n}shot.csv', topic)\n",
    "\n",
    "    process_dataframe_comments(df, topic, samples, n)"
   ]
  },
  {
   "cell_type": "markdown",
   "metadata": {},
   "source": [
    "## Marijuana"
   ]
  },
  {
   "cell_type": "code",
   "execution_count": 11,
   "metadata": {},
   "outputs": [
    {
     "name": "stderr",
     "output_type": "stream",
     "text": [
      "Processing comments: 100%|██████████| 5011/5011 [2:01:17<00:00,  1.45s/comment]  \n",
      "Processing comments: 100%|██████████| 5011/5011 [1:48:01<00:00,  1.29s/comment]  \n"
     ]
    }
   ],
   "source": [
    "topic = 'marijuana'\n",
    "\n",
    "for n in [1, 5]:\n",
    "\n",
    "    df = pd.read_csv(f'/Users/guida/llm_argument_tasks/clean_data/yru_{topic}_with_negatives_main.csv')\n",
    "    \n",
    "    samples = prep_fewshot_samples(f'/Users/guida/llm_argument_tasks/clean_data/yru_{topic}_with_negatives_{n}shot.csv', topic)\n",
    "\n",
    "    process_dataframe_comments(df, topic, samples, n)"
   ]
  },
  {
   "cell_type": "markdown",
   "metadata": {},
   "source": [
    "## Obama"
   ]
  },
  {
   "cell_type": "code",
   "execution_count": 13,
   "metadata": {},
   "outputs": [
    {
     "name": "stderr",
     "output_type": "stream",
     "text": [
      "Processing comments: 100%|██████████| 7915/7915 [2:40:51<00:00,  1.22s/comment]  \n",
      "Processing comments:   9%|▉         | 712/7915 [15:38<2:39:06,  1.33s/comment] "
     ]
    }
   ],
   "source": [
    "topic = 'obama'\n",
    "\n",
    "for n in [1, 5]:\n",
    "\n",
    "    df = pd.read_csv(f'/Users/guida/llm_argument_tasks/clean_data/yru_{topic}_with_negatives_main.csv')\n",
    "    \n",
    "    samples = prep_fewshot_samples(f'/Users/guida/llm_argument_tasks/clean_data/yru_{topic}_with_negatives_{n}shot.csv', topic)\n",
    "\n",
    "    process_dataframe_comments(df, topic, samples, n)"
   ]
  },
  {
   "cell_type": "markdown",
   "metadata": {},
   "source": [
    "## Gay Rights"
   ]
  },
  {
   "cell_type": "code",
   "execution_count": 8,
   "metadata": {},
   "outputs": [
    {
     "name": "stderr",
     "output_type": "stream",
     "text": [
      "Processing comments: 100%|██████████| 5847/5847 [2:08:03<00:00,  1.31s/comment]  \n"
     ]
    }
   ],
   "source": [
    "topic = 'gayRights'\n",
    "\n",
    "for n in [5]:\n",
    "\n",
    "    df = pd.read_csv(f'/Users/guida/llm_argument_tasks/clean_data/yru_{topic}_with_negatives_main.csv')\n",
    "    \n",
    "    samples = prep_fewshot_samples(f'/Users/guida/llm_argument_tasks/clean_data/yru_{topic}_with_negatives_{n}shot.csv', topic)\n",
    "\n",
    "    process_dataframe_comments(df, topic, samples, n)"
   ]
  }
 ],
 "metadata": {
  "kernelspec": {
   "display_name": "Python 3",
   "language": "python",
   "name": "python3"
  },
  "language_info": {
   "codemirror_mode": {
    "name": "ipython",
    "version": 3
   },
   "file_extension": ".py",
   "mimetype": "text/x-python",
   "name": "python",
   "nbconvert_exporter": "python",
   "pygments_lexer": "ipython3",
   "version": "3.12.3"
  }
 },
 "nbformat": 4,
 "nbformat_minor": 2
}
