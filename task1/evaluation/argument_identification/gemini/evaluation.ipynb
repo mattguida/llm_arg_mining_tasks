{
 "cells": [
  {
   "cell_type": "code",
   "execution_count": 19,
   "metadata": {},
   "outputs": [],
   "source": [
    "import pandas as pd\n",
    "from sklearn.metrics import accuracy_score, precision_score, recall_score, f1_score, precision_recall_fscore_support, classification_report\n",
    "from collections import Counter\n",
    "import json, jsonlines"
   ]
  },
  {
   "cell_type": "markdown",
   "metadata": {},
   "source": [
    "## ZERO SHOT"
   ]
  },
  {
   "cell_type": "markdown",
   "metadata": {},
   "source": [
    "## Evaluation GM"
   ]
  },
  {
   "cell_type": "code",
   "execution_count": 20,
   "metadata": {},
   "outputs": [],
   "source": [
    "def map_gold_labels(labels):\n",
    "    \"\"\"\n",
    "    Maps the original labels in golden data to binary labels for evaluation.\n",
    "    Labels 1, 2, 4, 5 are mapped to 1.\n",
    "    Label 3 is mapped to 0.\n",
    "    \"\"\"\n",
    "    mapping = {1: 1, 2: 1, 4: 1, 5: 1, 3: 0}\n",
    "    return labels.map(mapping)"
   ]
  },
  {
   "cell_type": "code",
   "execution_count": 21,
   "metadata": {},
   "outputs": [],
   "source": [
    "def evaluate_predictions_comarg(golden_csv_path: str, predictions_json_path: str):\n",
    "    \"\"\"\n",
    "    Evaluates predictions against the golden data.\n",
    "    \n",
    "    Parameters:\n",
    "    - golden_csv_path: Path to the CSV file containing golden data.\n",
    "    - predictions_json_path: Path to the JSON file containing predictions.\n",
    "    \n",
    "    Output:\n",
    "    - Classification report comparing the predictions with the mapped gold labels.\n",
    "    \"\"\"\n",
    "\n",
    "    golden_df = pd.read_csv(golden_csv_path)\n",
    "    golden_df['label'] = map_gold_labels(golden_df['label'])\n",
    "\n",
    "    predictions_df = pd.read_json(predictions_json_path, lines=True)\n",
    "\n",
    "    merged_df = pd.merge(golden_df[['id', 'label']], predictions_df[['id', 'label']], on='id', suffixes=('_gold', '_pred'))\n",
    "\n",
    "    ground_truth = merged_df['label_gold'].values\n",
    "    \n",
    "    predictions = merged_df['label_pred'].values\n",
    "\n",
    "    report = classification_report(ground_truth, predictions)\n",
    "    print(report)"
   ]
  },
  {
   "cell_type": "code",
   "execution_count": 22,
   "metadata": {},
   "outputs": [],
   "source": [
    "\n",
    "def evaluate_predictions_yru(golden_csv_path: str, predictions_json_path: str):\n",
    "    \"\"\"\n",
    "    Evaluates predictions against the golden data.\n",
    "    \n",
    "    Parameters:\n",
    "    - golden_csv_path: Path to the CSV file containing golden data.\n",
    "    - predictions_json_path: Path to the JSON file containing predictions.\n",
    "    \n",
    "    Output:\n",
    "    - Classification report comparing the predictions with the mapped gold labels.\n",
    "    \"\"\"\n",
    "    \n",
    "    golden_df = pd.read_csv(golden_csv_path)\n",
    "    \n",
    "    predictions_df = pd.read_json(predictions_json_path, lines=True)\n",
    "    \n",
    "    merged_df = pd.merge(\n",
    "        golden_df[['uid', 'present']], \n",
    "        predictions_df[['id', 'label']], \n",
    "        left_on='uid', \n",
    "        right_on='id', \n",
    "        how='inner', \n",
    "        suffixes=('_gold', '_pred')\n",
    ")\n",
    "    ground_truth = merged_df['present'].values\n",
    "    predictions = merged_df['label'].values\n",
    "\n",
    "    report = classification_report(ground_truth, predictions)\n",
    "    print(report)"
   ]
  },
  {
   "cell_type": "markdown",
   "metadata": {},
   "source": [
    "## GM"
   ]
  },
  {
   "cell_type": "code",
   "execution_count": 23,
   "metadata": {},
   "outputs": [
    {
     "name": "stdout",
     "output_type": "stream",
     "text": [
      "              precision    recall  f1-score   support\n",
      "\n",
      "           0       0.89      0.71      0.79       950\n",
      "           1       0.56      0.81      0.66       436\n",
      "\n",
      "    accuracy                           0.74      1386\n",
      "   macro avg       0.73      0.76      0.73      1386\n",
      "weighted avg       0.79      0.74      0.75      1386\n",
      "\n"
     ]
    }
   ],
   "source": [
    "golden_csv_path = '/Users/guida/llm_argument_tasks/clean_data/GM_all_arguments.csv'\n",
    "predictions_json_path = '/Users/guida/llm_argument_tasks/task1/output_files/gemini1.5/zero-shot/comarg_gm_argument_identification_gemini.jsonl'\n",
    "\n",
    "evaluate_predictions_comarg(golden_csv_path, predictions_json_path)"
   ]
  },
  {
   "cell_type": "markdown",
   "metadata": {},
   "source": [
    "## UGIP"
   ]
  },
  {
   "cell_type": "code",
   "execution_count": 25,
   "metadata": {},
   "outputs": [
    {
     "name": "stdout",
     "output_type": "stream",
     "text": [
      "              precision    recall  f1-score   support\n",
      "\n",
      "           0       0.94      0.51      0.66      1778\n",
      "           1       0.23      0.81      0.36       322\n",
      "\n",
      "    accuracy                           0.55      2100\n",
      "   macro avg       0.58      0.66      0.51      2100\n",
      "weighted avg       0.83      0.55      0.61      2100\n",
      "\n"
     ]
    }
   ],
   "source": [
    "golden_csv_path = '/Users/guida/llm_argument_tasks/clean_data/UGIP_all_arguments.csv'\n",
    "predictions_json_path = '/Users/guida/llm_argument_tasks/task1/output_files/gemini1.5/zero-shot/comarg_ugip_argument_identification_gemini.jsonl'\n",
    "\n",
    "evaluate_predictions_comarg(golden_csv_path, predictions_json_path)"
   ]
  },
  {
   "cell_type": "markdown",
   "metadata": {},
   "source": [
    "======= YRU ========="
   ]
  },
  {
   "cell_type": "markdown",
   "metadata": {},
   "source": [
    "## Abortion"
   ]
  },
  {
   "cell_type": "code",
   "execution_count": 54,
   "metadata": {},
   "outputs": [
    {
     "name": "stdout",
     "output_type": "stream",
     "text": [
      "              precision    recall  f1-score   support\n",
      "\n",
      "           0       0.98      0.72      0.83      5935\n",
      "           1       0.28      0.87      0.42       727\n",
      "\n",
      "    accuracy                           0.74      6662\n",
      "   macro avg       0.63      0.80      0.62      6662\n",
      "weighted avg       0.90      0.74      0.78      6662\n",
      "\n"
     ]
    }
   ],
   "source": [
    "golden_csv_path = '/Users/guida/llm_argument_tasks/clean_data/yru_abortion_with_negatives_main.csv'\n",
    "predictions_json_path = '/Users/guida/llm_argument_tasks/task1/output_files/gemini1.5/zero-shot/yru_abortion_identification_gemini_0s.jsonl'\n",
    "\n",
    "evaluate_predictions_yru(golden_csv_path, predictions_json_path)"
   ]
  },
  {
   "cell_type": "markdown",
   "metadata": {},
   "source": [
    "## Gay Rights"
   ]
  },
  {
   "cell_type": "code",
   "execution_count": 55,
   "metadata": {},
   "outputs": [
    {
     "name": "stdout",
     "output_type": "stream",
     "text": [
      "              precision    recall  f1-score   support\n",
      "\n",
      "           0       0.94      0.76      0.84      5080\n",
      "           1       0.30      0.68      0.41       761\n",
      "\n",
      "    accuracy                           0.75      5841\n",
      "   macro avg       0.62      0.72      0.63      5841\n",
      "weighted avg       0.86      0.75      0.78      5841\n",
      "\n"
     ]
    }
   ],
   "source": [
    "golden_csv_path = '/Users/guida/llm_argument_tasks/clean_data/yru_gayrights_with_negatives_main.csv'\n",
    "predictions_json_path = '/Users/guida/llm_argument_tasks/task1/output_files/gemini1.5/zero-shot/yru_gayRights_identification_gemini_0s.jsonl'\n",
    "\n",
    "evaluate_predictions_yru(golden_csv_path, predictions_json_path)"
   ]
  },
  {
   "cell_type": "markdown",
   "metadata": {},
   "source": [
    "## Marijuana"
   ]
  },
  {
   "cell_type": "code",
   "execution_count": 56,
   "metadata": {},
   "outputs": [
    {
     "name": "stdout",
     "output_type": "stream",
     "text": [
      "              precision    recall  f1-score   support\n",
      "\n",
      "           0       0.92      0.81      0.87      4317\n",
      "           1       0.33      0.57      0.42       687\n",
      "\n",
      "    accuracy                           0.78      5004\n",
      "   macro avg       0.63      0.69      0.64      5004\n",
      "weighted avg       0.84      0.78      0.80      5004\n",
      "\n"
     ]
    }
   ],
   "source": [
    "golden_csv_path = '/Users/guida/llm_argument_tasks/clean_data/yru_marijuana_with_negatives_main.csv'\n",
    "predictions_json_path = '/Users/guida/llm_argument_tasks/task1/output_files/gemini1.5/zero-shot/yru_marijuana_identification_gemini_0s.jsonl'\n",
    "\n",
    "evaluate_predictions_yru(golden_csv_path, predictions_json_path)"
   ]
  },
  {
   "cell_type": "markdown",
   "metadata": {},
   "source": [
    "## Obama"
   ]
  },
  {
   "cell_type": "code",
   "execution_count": 57,
   "metadata": {},
   "outputs": [
    {
     "name": "stdout",
     "output_type": "stream",
     "text": [
      "              precision    recall  f1-score   support\n",
      "\n",
      "           0       0.96      0.84      0.89      7261\n",
      "           1       0.25      0.61      0.35       641\n",
      "\n",
      "    accuracy                           0.82      7902\n",
      "   macro avg       0.60      0.72      0.62      7902\n",
      "weighted avg       0.90      0.82      0.85      7902\n",
      "\n"
     ]
    }
   ],
   "source": [
    "golden_csv_path = '/Users/guida/llm_argument_tasks/clean_data/yru_obama_with_negatives_main.csv'\n",
    "predictions_json_path = '/Users/guida/llm_argument_tasks/task1/output_files/gemini1.5/zero-shot/yru_obama_identification_gemini_0s.jsonl'\n",
    "\n",
    "evaluate_predictions_yru(golden_csv_path, predictions_json_path)"
   ]
  },
  {
   "cell_type": "markdown",
   "metadata": {},
   "source": [
    "## ONE-SHOT "
   ]
  },
  {
   "cell_type": "code",
   "execution_count": 58,
   "metadata": {},
   "outputs": [
    {
     "name": "stdout",
     "output_type": "stream",
     "text": [
      "              precision    recall  f1-score   support\n",
      "\n",
      "           0       0.89      0.47      0.62       943\n",
      "           1       0.43      0.87      0.58       432\n",
      "\n",
      "    accuracy                           0.60      1375\n",
      "   macro avg       0.66      0.67      0.60      1375\n",
      "weighted avg       0.75      0.60      0.61      1375\n",
      "\n"
     ]
    }
   ],
   "source": [
    "golden_csv_path = '/Users/guida/llm_argument_tasks/clean_data/GM_all_arguments.csv'\n",
    "predictions_json_path = '/Users/guida/llm_argument_tasks/task1/output_files/gemini1.5/one-shot/comarg_gm_identification_gemini_1shot.jsonl'\n",
    "\n",
    "evaluate_predictions_comarg(golden_csv_path, predictions_json_path)"
   ]
  },
  {
   "cell_type": "code",
   "execution_count": 59,
   "metadata": {},
   "outputs": [
    {
     "name": "stdout",
     "output_type": "stream",
     "text": [
      "              precision    recall  f1-score   support\n",
      "\n",
      "           0       0.98      0.36      0.52      1772\n",
      "           1       0.21      0.95      0.35       322\n",
      "\n",
      "    accuracy                           0.45      2094\n",
      "   macro avg       0.59      0.65      0.43      2094\n",
      "weighted avg       0.86      0.45      0.50      2094\n",
      "\n"
     ]
    }
   ],
   "source": [
    "golden_csv_path = '/Users/guida/llm_argument_tasks/clean_data/UGIP_all_arguments.csv'\n",
    "predictions_json_path = '/Users/guida/llm_argument_tasks/task1/output_files/gemini1.5/one-shot/comarg_ugip_identification_gemini_1shot.jsonl'\n",
    "\n",
    "evaluate_predictions_comarg(golden_csv_path, predictions_json_path)"
   ]
  },
  {
   "cell_type": "markdown",
   "metadata": {},
   "source": [
    "## Abortion"
   ]
  },
  {
   "cell_type": "code",
   "execution_count": 10,
   "metadata": {},
   "outputs": [
    {
     "name": "stdout",
     "output_type": "stream",
     "text": [
      "              precision    recall  f1-score   support\n",
      "\n",
      "           0       0.98      0.69      0.81      5747\n",
      "           1       0.27      0.89      0.41       709\n",
      "\n",
      "    accuracy                           0.72      6456\n",
      "   macro avg       0.62      0.79      0.61      6456\n",
      "weighted avg       0.90      0.72      0.77      6456\n",
      "\n"
     ]
    }
   ],
   "source": [
    "golden_csv_path = '/Users/guida/llm_argument_tasks/clean_data/yru_abortion_with_negatives_main.csv'\n",
    "predictions_json_path = '/Users/guida/llm_argument_tasks/task1/output_files/gemini1.5/one-shot/yru_abortion_identification_gemini_1shot.jsonl'\n",
    "\n",
    "evaluate_predictions_yru(golden_csv_path, predictions_json_path)"
   ]
  },
  {
   "cell_type": "markdown",
   "metadata": {},
   "source": [
    "## Gay Rights"
   ]
  },
  {
   "cell_type": "code",
   "execution_count": 11,
   "metadata": {},
   "outputs": [
    {
     "name": "stdout",
     "output_type": "stream",
     "text": [
      "              precision    recall  f1-score   support\n",
      "\n",
      "           0       0.95      0.76      0.85      5085\n",
      "           1       0.31      0.72      0.43       758\n",
      "\n",
      "    accuracy                           0.76      5843\n",
      "   macro avg       0.63      0.74      0.64      5843\n",
      "weighted avg       0.86      0.76      0.79      5843\n",
      "\n"
     ]
    }
   ],
   "source": [
    "golden_csv_path = '/Users/guida/llm_argument_tasks/clean_data/yru_gayRights_with_negatives_main.csv'\n",
    "predictions_json_path = '/Users/guida/llm_argument_tasks/task1/output_files/gemini1.5/one-shot/yru_gayRights_identification_gemini_1shot.jsonl'\n",
    "\n",
    "evaluate_predictions_yru(golden_csv_path, predictions_json_path)"
   ]
  },
  {
   "cell_type": "markdown",
   "metadata": {},
   "source": [
    "## Marijuana"
   ]
  },
  {
   "cell_type": "code",
   "execution_count": 12,
   "metadata": {},
   "outputs": [
    {
     "name": "stdout",
     "output_type": "stream",
     "text": [
      "              precision    recall  f1-score   support\n",
      "\n",
      "           0       0.92      0.71      0.80      4102\n",
      "           1       0.26      0.64      0.37       670\n",
      "\n",
      "    accuracy                           0.70      4772\n",
      "   macro avg       0.59      0.68      0.59      4772\n",
      "weighted avg       0.83      0.70      0.74      4772\n",
      "\n"
     ]
    }
   ],
   "source": [
    "golden_csv_path = '/Users/guida/llm_argument_tasks/clean_data/yru_marijuana_with_negatives_main.csv'\n",
    "predictions_json_path = '/Users/guida/llm_argument_tasks/task1/output_files/gemini1.5/one-shot/yru_marijuana_identification_gemini_1shot.jsonl'\n",
    "\n",
    "evaluate_predictions_yru(golden_csv_path, predictions_json_path)"
   ]
  },
  {
   "cell_type": "markdown",
   "metadata": {},
   "source": [
    "## Obama"
   ]
  },
  {
   "cell_type": "code",
   "execution_count": null,
   "metadata": {},
   "outputs": [
    {
     "name": "stdout",
     "output_type": "stream",
     "text": [
      "              precision    recall  f1-score   support\n",
      "\n",
      "           0       0.96      0.88      0.92      7244\n",
      "           1       0.29      0.54      0.38       640\n",
      "\n",
      "    accuracy                           0.85      7884\n",
      "   macro avg       0.62      0.71      0.65      7884\n",
      "weighted avg       0.90      0.85      0.87      7884\n",
      "\n"
     ]
    }
   ],
   "source": [
    "golden_csv_path = '/Users/guida/llm_argument_tasks/clean_data/yru_obama_with_negatives_main.csv'\n",
    "predictions_json_path = '/Users/guida/llm_argument_tasks/output_files/gpt4o-mini/one-shot/yru_obama_identification_GPT_1shot.jsonl'\n",
    "\n",
    "evaluate_predictions_yru(golden_csv_path, predictions_json_path)"
   ]
  },
  {
   "cell_type": "markdown",
   "metadata": {},
   "source": [
    "## K-SHOTS"
   ]
  },
  {
   "cell_type": "code",
   "execution_count": null,
   "metadata": {},
   "outputs": [
    {
     "name": "stdout",
     "output_type": "stream",
     "text": [
      "              precision    recall  f1-score   support\n",
      "\n",
      "           0       0.90      0.47      0.62       897\n",
      "           1       0.43      0.88      0.57       401\n",
      "\n",
      "    accuracy                           0.60      1298\n",
      "   macro avg       0.66      0.68      0.60      1298\n",
      "weighted avg       0.75      0.60      0.61      1298\n",
      "\n"
     ]
    }
   ],
   "source": [
    "golden_csv_path = '/Users/guida/llm_argument_tasks/clean_data/GM_all_arguments.csv'\n",
    "predictions_json_path = '/Users/guida/llm_argument_tasks/task1/output_files/gemini1.5/few-shot/comarg_gm_identification_gemini_5shot.jsonl'\n",
    "\n",
    "evaluate_predictions_comarg(golden_csv_path, predictions_json_path)"
   ]
  },
  {
   "cell_type": "code",
   "execution_count": null,
   "metadata": {},
   "outputs": [
    {
     "name": "stdout",
     "output_type": "stream",
     "text": [
      "              precision    recall  f1-score   support\n",
      "\n",
      "           0       0.98      0.53      0.69      1772\n",
      "           1       0.26      0.93      0.41       322\n",
      "\n",
      "    accuracy                           0.59      2094\n",
      "   macro avg       0.62      0.73      0.55      2094\n",
      "weighted avg       0.87      0.59      0.65      2094\n",
      "\n"
     ]
    }
   ],
   "source": [
    "golden_csv_path = '/Users/guida/llm_argument_tasks/clean_data/UGIP_all_arguments.csv'\n",
    "predictions_json_path = '/Users/guida/llm_argument_tasks/task1/output_files/gemini1.5/few-shot/comarg_ugip_identification_gemini_5shot.jsonl'\n",
    "\n",
    "evaluate_predictions_comarg(golden_csv_path, predictions_json_path)"
   ]
  },
  {
   "cell_type": "markdown",
   "metadata": {},
   "source": [
    "## Abortion"
   ]
  },
  {
   "cell_type": "code",
   "execution_count": 14,
   "metadata": {},
   "outputs": [
    {
     "name": "stdout",
     "output_type": "stream",
     "text": [
      "              precision    recall  f1-score   support\n",
      "\n",
      "           0       0.97      0.84      0.90      5380\n",
      "           1       0.38      0.82      0.52       661\n",
      "\n",
      "    accuracy                           0.83      6041\n",
      "   macro avg       0.68      0.83      0.71      6041\n",
      "weighted avg       0.91      0.83      0.86      6041\n",
      "\n"
     ]
    }
   ],
   "source": [
    "golden_csv_path = '/Users/guida/llm_argument_tasks/clean_data/yru_abortion_with_negatives_main.csv'\n",
    "predictions_json_path = '/Users/guida/llm_argument_tasks/task1/output_files/gemini1.5/few-shot/yru_abortion_identification_gemini_5shot.jsonl'\n",
    "\n",
    "evaluate_predictions_yru(golden_csv_path, predictions_json_path)"
   ]
  },
  {
   "cell_type": "markdown",
   "metadata": {},
   "source": [
    "## Gay Rights"
   ]
  },
  {
   "cell_type": "code",
   "execution_count": 15,
   "metadata": {},
   "outputs": [
    {
     "name": "stdout",
     "output_type": "stream",
     "text": [
      "              precision    recall  f1-score   support\n",
      "\n",
      "           0       0.94      0.79      0.86      5034\n",
      "           1       0.33      0.69      0.45       752\n",
      "\n",
      "    accuracy                           0.78      5786\n",
      "   macro avg       0.64      0.74      0.65      5786\n",
      "weighted avg       0.86      0.78      0.81      5786\n",
      "\n"
     ]
    }
   ],
   "source": [
    "golden_csv_path = '/Users/guida/llm_argument_tasks/clean_data/yru_gayrights_with_negatives_main.csv'\n",
    "predictions_json_path = '/Users/guida/llm_argument_tasks/task1/output_files/gemini1.5/few-shot/yru_gayRights_identification_gemini_5shot.jsonl'\n",
    "\n",
    "evaluate_predictions_yru(golden_csv_path, predictions_json_path)"
   ]
  },
  {
   "cell_type": "markdown",
   "metadata": {},
   "source": [
    "## Marijuana"
   ]
  },
  {
   "cell_type": "code",
   "execution_count": 16,
   "metadata": {},
   "outputs": [
    {
     "name": "stdout",
     "output_type": "stream",
     "text": [
      "              precision    recall  f1-score   support\n",
      "\n",
      "           0       0.95      0.63      0.75      4150\n",
      "           1       0.25      0.79      0.38       668\n",
      "\n",
      "    accuracy                           0.65      4818\n",
      "   macro avg       0.60      0.71      0.57      4818\n",
      "weighted avg       0.85      0.65      0.70      4818\n",
      "\n"
     ]
    }
   ],
   "source": [
    "golden_csv_path = '/Users/guida/llm_argument_tasks/clean_data/yru_marijuana_with_negatives_main.csv'\n",
    "predictions_json_path = '/Users/guida/llm_argument_tasks/task1/output_files/gemini1.5/few-shot/yru_marijuana_identification_gemini_5shot.jsonl'\n",
    "\n",
    "evaluate_predictions_yru(golden_csv_path, predictions_json_path)"
   ]
  },
  {
   "cell_type": "markdown",
   "metadata": {},
   "source": [
    "## Obama"
   ]
  },
  {
   "cell_type": "code",
   "execution_count": 17,
   "metadata": {},
   "outputs": [
    {
     "name": "stdout",
     "output_type": "stream",
     "text": [
      "              precision    recall  f1-score   support\n",
      "\n",
      "           0       0.96      0.84      0.90      7204\n",
      "           1       0.25      0.60      0.35       631\n",
      "\n",
      "    accuracy                           0.82      7835\n",
      "   macro avg       0.60      0.72      0.62      7835\n",
      "weighted avg       0.90      0.82      0.85      7835\n",
      "\n"
     ]
    }
   ],
   "source": [
    "golden_csv_path = '/Users/guida/llm_argument_tasks/clean_data/yru_obama_with_negatives_main.csv'\n",
    "predictions_json_path = '/Users/guida/llm_argument_tasks/task1/output_files/gemini1.5/few-shot/yru_obama_identification_gemini_5shot.jsonl'\n",
    "\n",
    "evaluate_predictions_yru(golden_csv_path, predictions_json_path)"
   ]
  }
 ],
 "metadata": {
  "kernelspec": {
   "display_name": "myenv",
   "language": "python",
   "name": "python3"
  },
  "language_info": {
   "codemirror_mode": {
    "name": "ipython",
    "version": 3
   },
   "file_extension": ".py",
   "mimetype": "text/x-python",
   "name": "python",
   "nbconvert_exporter": "python",
   "pygments_lexer": "ipython3",
   "version": "3.12.3"
  }
 },
 "nbformat": 4,
 "nbformat_minor": 2
}
