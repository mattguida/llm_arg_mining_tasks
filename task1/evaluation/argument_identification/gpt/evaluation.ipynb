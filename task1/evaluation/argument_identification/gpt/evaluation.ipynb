{
 "cells": [
  {
   "cell_type": "code",
   "execution_count": 1,
   "metadata": {},
   "outputs": [],
   "source": [
    "import pandas as pd\n",
    "from sklearn.metrics import accuracy_score, precision_score, recall_score, f1_score, precision_recall_fscore_support, classification_report\n",
    "from collections import Counter\n",
    "import json, jsonlines"
   ]
  },
  {
   "cell_type": "markdown",
   "metadata": {},
   "source": [
    "## ZERO SHOT"
   ]
  },
  {
   "cell_type": "markdown",
   "metadata": {},
   "source": [
    "## Evaluation GM"
   ]
  },
  {
   "cell_type": "code",
   "execution_count": 2,
   "metadata": {},
   "outputs": [],
   "source": [
    "def map_gold_labels(labels):\n",
    "    \"\"\"\n",
    "    Maps the original labels in golden data to binary labels for evaluation.\n",
    "    Labels 1, 2, 4, 5 are mapped to 1.\n",
    "    Label 3 is mapped to 0.\n",
    "    \"\"\"\n",
    "    mapping = {1: 1, 2: 1, 4: 1, 5: 1, 3: 0}\n",
    "    return labels.map(mapping)"
   ]
  },
  {
   "cell_type": "code",
   "execution_count": 45,
   "metadata": {},
   "outputs": [],
   "source": [
    "def evaluate_predictions_comarg(golden_csv_path: str, predictions_json_path: str):\n",
    "    \"\"\"\n",
    "    Evaluates predictions against the golden data.\n",
    "    \n",
    "    Parameters:\n",
    "    - golden_csv_path: Path to the CSV file containing golden data.\n",
    "    - predictions_json_path: Path to the JSON file containing predictions.\n",
    "    \n",
    "    Output:\n",
    "    - Classification report comparing the predictions with the mapped gold labels.\n",
    "    \"\"\"\n",
    "\n",
    "    golden_df = pd.read_csv(golden_csv_path)\n",
    "    golden_df['label'] = map_gold_labels(golden_df['label'])\n",
    "    \n",
    "    predictions_df = pd.read_json(predictions_json_path, lines=True)\n",
    "    \n",
    "    merged_df = pd.merge(golden_df[['id', 'label']], predictions_df[['id', 'label']], on='id', suffixes=('_gold', '_pred'))\n",
    "    ground_truth = merged_df['label_gold'].values\n",
    "\n",
    "    predictions = merged_df['label_pred'].values\n",
    "\n",
    "    report = classification_report(ground_truth, predictions)\n",
    "    print(report)"
   ]
  },
  {
   "cell_type": "code",
   "execution_count": 46,
   "metadata": {},
   "outputs": [],
   "source": [
    "\n",
    "def evaluate_predictions_yru(golden_csv_path: str, predictions_json_path: str):\n",
    "    \"\"\"\n",
    "    Evaluates predictions against the golden data.\n",
    "    \n",
    "    Parameters:\n",
    "    - golden_csv_path: Path to the CSV file containing golden data.\n",
    "    - predictions_json_path: Path to the JSON file containing predictions.\n",
    "    \n",
    "    Output:\n",
    "    - Classification report comparing the predictions with the mapped gold labels.\n",
    "    \"\"\"\n",
    "    \n",
    "    golden_df = pd.read_csv(golden_csv_path)\n",
    "\n",
    "    predictions_df = pd.read_json(predictions_json_path, lines=True)\n",
    "\n",
    "    merged_df = pd.merge(\n",
    "        golden_df[['uid', 'present']], \n",
    "        predictions_df[['id', 'label']], \n",
    "        left_on='uid', \n",
    "        right_on='id', \n",
    "        how='inner'\n",
    ")\n",
    "\n",
    "    ground_truth = merged_df['present'].values\n",
    "    predictions = merged_df['label'].values\n",
    "\n",
    "    report = classification_report(ground_truth, predictions)\n",
    "    print(report)"
   ]
  },
  {
   "cell_type": "markdown",
   "metadata": {},
   "source": [
    "# ZERO shot"
   ]
  },
  {
   "cell_type": "markdown",
   "metadata": {},
   "source": [
    "## GM"
   ]
  },
  {
   "cell_type": "code",
   "execution_count": 53,
   "metadata": {},
   "outputs": [
    {
     "name": "stdout",
     "output_type": "stream",
     "text": [
      "              precision    recall  f1-score   support\n",
      "\n",
      "           0       0.80      0.89      0.84       945\n",
      "           1       0.67      0.51      0.58       434\n",
      "\n",
      "    accuracy                           0.77      1379\n",
      "   macro avg       0.74      0.70      0.71      1379\n",
      "weighted avg       0.76      0.77      0.76      1379\n",
      "\n"
     ]
    }
   ],
   "source": [
    "golden_csv_path = '/Users/guida/llm_argument_tasks/clean_data/GM_all_arguments_main.csv'\n",
    "predictions_json_path = '/Users/guida/llm_argument_tasks/task1/output_files/gpt4o-mini/zero-shot/comarg_gm_argument_identification.jsonl'\n",
    "\n",
    "evaluate_predictions_comarg(golden_csv_path, predictions_json_path)"
   ]
  },
  {
   "cell_type": "markdown",
   "metadata": {},
   "source": [
    "## UGIP"
   ]
  },
  {
   "cell_type": "code",
   "execution_count": 68,
   "metadata": {},
   "outputs": [
    {
     "name": "stdout",
     "output_type": "stream",
     "text": [
      "              precision    recall  f1-score   support\n",
      "\n",
      "           0       0.90      0.70      0.79      1772\n",
      "           1       0.26      0.56      0.35       322\n",
      "\n",
      "    accuracy                           0.68      2094\n",
      "   macro avg       0.58      0.63      0.57      2094\n",
      "weighted avg       0.80      0.68      0.72      2094\n",
      "\n"
     ]
    }
   ],
   "source": [
    "golden_csv_path = '/Users/guida/llm_argument_tasks/clean_data/UGIP_all_arguments_main.csv'\n",
    "predictions_json_path = '/Users/guida/llm_argument_tasks/task1/output_files/gpt4o-mini/zero-shot/comarg_ugip_argument_identification.jsonl'\n",
    "\n",
    "evaluate_predictions_comarg(golden_csv_path, predictions_json_path)"
   ]
  },
  {
   "cell_type": "markdown",
   "metadata": {},
   "source": [
    "======= YRU ========= zero shot"
   ]
  },
  {
   "cell_type": "markdown",
   "metadata": {},
   "source": [
    "## Abortion"
   ]
  },
  {
   "cell_type": "code",
   "execution_count": 54,
   "metadata": {},
   "outputs": [
    {
     "name": "stdout",
     "output_type": "stream",
     "text": [
      "              precision    recall  f1-score   support\n",
      "\n",
      "           0       0.98      0.85      0.91      5932\n",
      "           1       0.40      0.83      0.54       723\n",
      "\n",
      "    accuracy                           0.85      6655\n",
      "   macro avg       0.69      0.84      0.72      6655\n",
      "weighted avg       0.91      0.85      0.87      6655\n",
      "\n"
     ]
    }
   ],
   "source": [
    "golden_csv_path = '/Users/guida/llm_argument_tasks/clean_data/yru_abortion_with_negatives_main.csv'\n",
    "predictions_json_path = '/Users/guida/llm_argument_tasks/task1/output_files/gpt4o-mini/zero-shot/yru_abortion_identification_GPT_negatives.jsonl'\n",
    "evaluate_predictions_yru(golden_csv_path, predictions_json_path)"
   ]
  },
  {
   "cell_type": "markdown",
   "metadata": {},
   "source": [
    "## Gay Rights"
   ]
  },
  {
   "cell_type": "code",
   "execution_count": 74,
   "metadata": {},
   "outputs": [
    {
     "name": "stdout",
     "output_type": "stream",
     "text": [
      "              precision    recall  f1-score   support\n",
      "\n",
      "           0       0.94      0.78      0.85      5078\n",
      "           1       0.31      0.68      0.43       758\n",
      "\n",
      "    accuracy                           0.77      5836\n",
      "   macro avg       0.63      0.73      0.64      5836\n",
      "weighted avg       0.86      0.77      0.80      5836\n",
      "\n"
     ]
    }
   ],
   "source": [
    "golden_csv_path = '/Users/guida/llm_argument_tasks/clean_data/yru_gayrights_with_negatives_main.csv'\n",
    "predictions_json_path = '/Users/guida/llm_argument_tasks/task1/output_files/gpt4o-mini/zero-shot/yru_gayRights_identification_GPT_negatives.jsonl'\n",
    "\n",
    "evaluate_predictions_yru(golden_csv_path, predictions_json_path)"
   ]
  },
  {
   "cell_type": "markdown",
   "metadata": {},
   "source": [
    "## Marijuana"
   ]
  },
  {
   "cell_type": "code",
   "execution_count": 73,
   "metadata": {},
   "outputs": [
    {
     "name": "stdout",
     "output_type": "stream",
     "text": [
      "              precision    recall  f1-score   support\n",
      "\n",
      "           0       0.93      0.82      0.87      4315\n",
      "           1       0.34      0.58      0.43       684\n",
      "\n",
      "    accuracy                           0.79      4999\n",
      "   macro avg       0.63      0.70      0.65      4999\n",
      "weighted avg       0.85      0.79      0.81      4999\n",
      "\n"
     ]
    }
   ],
   "source": [
    "golden_csv_path = '/Users/guida/llm_argument_tasks/clean_data/yru_marijuana_with_negatives_main.csv'\n",
    "predictions_json_path = '/Users/guida/llm_argument_tasks/task1/output_files/gpt4o-mini/zero-shot/yru_marijuana_identification_GPT_negatives.jsonl'\n",
    "\n",
    "evaluate_predictions_yru(golden_csv_path, predictions_json_path)"
   ]
  },
  {
   "cell_type": "markdown",
   "metadata": {},
   "source": [
    "## Obama"
   ]
  },
  {
   "cell_type": "code",
   "execution_count": 57,
   "metadata": {},
   "outputs": [
    {
     "name": "stdout",
     "output_type": "stream",
     "text": [
      "              precision    recall  f1-score   support\n",
      "\n",
      "           0       0.97      0.83      0.89      7259\n",
      "           1       0.26      0.67      0.37       638\n",
      "\n",
      "    accuracy                           0.81      7897\n",
      "   macro avg       0.61      0.75      0.63      7897\n",
      "weighted avg       0.91      0.81      0.85      7897\n",
      "\n"
     ]
    }
   ],
   "source": [
    "golden_csv_path = '/Users/guida/llm_argument_tasks/clean_data/yru_obama_with_negatives_main.csv'\n",
    "predictions_json_path = '/Users/guida/llm_argument_tasks/task1/output_files/gpt4o-mini/zero-shot/yru_obama_identification_GPT_negatives.jsonl'\n",
    "\n",
    "evaluate_predictions_yru(golden_csv_path, predictions_json_path)"
   ]
  },
  {
   "cell_type": "markdown",
   "metadata": {},
   "source": [
    "## ONE-SHOT"
   ]
  },
  {
   "cell_type": "code",
   "execution_count": 51,
   "metadata": {},
   "outputs": [
    {
     "name": "stdout",
     "output_type": "stream",
     "text": [
      "              precision    recall  f1-score   support\n",
      "\n",
      "           0       0.79      0.90      0.84       945\n",
      "           1       0.68      0.47      0.56       434\n",
      "\n",
      "    accuracy                           0.76      1379\n",
      "   macro avg       0.73      0.69      0.70      1379\n",
      "weighted avg       0.75      0.76      0.75      1379\n",
      "\n"
     ]
    }
   ],
   "source": [
    "golden_csv_path = '/Users/guida/llm_argument_tasks/clean_data/GM_all_arguments_main.csv'\n",
    "predictions_json_path = '/Users/guida/llm_argument_tasks/task1/output_files/gpt4o-mini/one-shot/comarg_gm_identification_GPT_1shot.jsonl'\n",
    "\n",
    "evaluate_predictions_comarg(golden_csv_path, predictions_json_path)"
   ]
  },
  {
   "cell_type": "markdown",
   "metadata": {},
   "source": [
    "## UGIP"
   ]
  },
  {
   "cell_type": "code",
   "execution_count": 79,
   "metadata": {},
   "outputs": [
    {
     "name": "stdout",
     "output_type": "stream",
     "text": [
      "              precision    recall  f1-score   support\n",
      "\n",
      "           0       0.89      0.67      0.76      1772\n",
      "           1       0.24      0.57      0.33       322\n",
      "\n",
      "    accuracy                           0.65      2094\n",
      "   macro avg       0.57      0.62      0.55      2094\n",
      "weighted avg       0.79      0.65      0.70      2094\n",
      "\n"
     ]
    }
   ],
   "source": [
    "golden_csv_path = '/Users/guida/llm_argument_tasks/clean_data/UGIP_all_arguments_main.csv'\n",
    "predictions_json_path = '/Users/guida/llm_argument_tasks/task1/output_files/gpt4o-mini/one-shot/comarg_ugip_identification_GPT_1shot.jsonl'\n",
    "\n",
    "evaluate_predictions_comarg(golden_csv_path, predictions_json_path)"
   ]
  },
  {
   "cell_type": "markdown",
   "metadata": {},
   "source": [
    "## Abortion"
   ]
  },
  {
   "cell_type": "code",
   "execution_count": 70,
   "metadata": {},
   "outputs": [
    {
     "name": "stdout",
     "output_type": "stream",
     "text": [
      "              precision    recall  f1-score   support\n",
      "\n",
      "           0       0.96      0.72      0.82      5976\n",
      "           1       0.24      0.77      0.37       707\n",
      "\n",
      "    accuracy                           0.72      6683\n",
      "   macro avg       0.60      0.74      0.60      6683\n",
      "weighted avg       0.89      0.72      0.77      6683\n",
      "\n"
     ]
    }
   ],
   "source": [
    "golden_csv_path = '/Users/guida/llm_argument_tasks/clean_data/yru_abortion_with_negatives_main.csv'\n",
    "predictions_json_path = '/Users/guida/llm_argument_tasks/task1/output_files/gpt4o-mini/one-shot/yru_abortion_identification_GPT_1shot.jsonl'\n",
    "\n",
    "evaluate_predictions_yru(golden_csv_path, predictions_json_path)"
   ]
  },
  {
   "cell_type": "markdown",
   "metadata": {},
   "source": [
    "## Gay Rights"
   ]
  },
  {
   "cell_type": "code",
   "execution_count": 59,
   "metadata": {},
   "outputs": [
    {
     "name": "stdout",
     "output_type": "stream",
     "text": [
      "              precision    recall  f1-score   support\n",
      "\n",
      "           0       0.94      0.81      0.87      5078\n",
      "           1       0.33      0.63      0.44       758\n",
      "\n",
      "    accuracy                           0.79      5836\n",
      "   macro avg       0.63      0.72      0.65      5836\n",
      "weighted avg       0.86      0.79      0.81      5836\n",
      "\n"
     ]
    }
   ],
   "source": [
    "golden_csv_path = '/Users/guida/llm_argument_tasks/clean_data/yru_gayrights_with_negatives_main.csv'\n",
    "predictions_json_path = '/Users/guida/llm_argument_tasks/task1/output_files/gpt4o-mini/one-shot/yru_gayRights_identification_GPT_1shot.jsonl'\n",
    "\n",
    "evaluate_predictions_yru(golden_csv_path, predictions_json_path)"
   ]
  },
  {
   "cell_type": "markdown",
   "metadata": {},
   "source": [
    "## Marijuana"
   ]
  },
  {
   "cell_type": "code",
   "execution_count": 71,
   "metadata": {},
   "outputs": [
    {
     "name": "stdout",
     "output_type": "stream",
     "text": [
      "              precision    recall  f1-score   support\n",
      "\n",
      "           0       0.92      0.67      0.77      4324\n",
      "           1       0.23      0.61      0.33       686\n",
      "\n",
      "    accuracy                           0.66      5010\n",
      "   macro avg       0.57      0.64      0.55      5010\n",
      "weighted avg       0.82      0.66      0.71      5010\n",
      "\n"
     ]
    }
   ],
   "source": [
    "golden_csv_path = '/Users/guida/llm_argument_tasks/clean_data/yru_marijuana_with_negatives_main.csv'\n",
    "predictions_json_path = '/Users/guida/llm_argument_tasks/task1/output_files/gpt4o-mini/one-shot/yru_marijuana_identification_GPT_1shot.jsonl'\n",
    "\n",
    "evaluate_predictions_yru(golden_csv_path, predictions_json_path)"
   ]
  },
  {
   "cell_type": "markdown",
   "metadata": {},
   "source": [
    "## Obama"
   ]
  },
  {
   "cell_type": "code",
   "execution_count": 61,
   "metadata": {},
   "outputs": [
    {
     "name": "stdout",
     "output_type": "stream",
     "text": [
      "              precision    recall  f1-score   support\n",
      "\n",
      "           0       0.96      0.88      0.92      7242\n",
      "           1       0.29      0.54      0.38       637\n",
      "\n",
      "    accuracy                           0.85      7879\n",
      "   macro avg       0.62      0.71      0.65      7879\n",
      "weighted avg       0.90      0.85      0.87      7879\n",
      "\n"
     ]
    }
   ],
   "source": [
    "golden_csv_path = '/Users/guida/llm_argument_tasks/clean_data/yru_obama_with_negatives_main.csv'\n",
    "predictions_json_path = '/Users/guida/llm_argument_tasks/task1/output_files/gpt4o-mini/one-shot/yru_obama_identification_GPT_1shot.jsonl'\n",
    "\n",
    "evaluate_predictions_yru(golden_csv_path, predictions_json_path)"
   ]
  },
  {
   "cell_type": "markdown",
   "metadata": {},
   "source": [
    "## K-SHOTS"
   ]
  },
  {
   "cell_type": "code",
   "execution_count": 62,
   "metadata": {},
   "outputs": [
    {
     "name": "stdout",
     "output_type": "stream",
     "text": [
      " === GM ===\n",
      "              precision    recall  f1-score   support\n",
      "\n",
      "           0       0.78      0.83      0.80       945\n",
      "           1       0.56      0.48      0.52       434\n",
      "\n",
      "    accuracy                           0.72      1379\n",
      "   macro avg       0.67      0.66      0.66      1379\n",
      "weighted avg       0.71      0.72      0.71      1379\n",
      "\n"
     ]
    }
   ],
   "source": [
    "golden_csv_path = '/Users/guida/llm_argument_tasks/clean_data/GM_all_arguments_main.csv'\n",
    "predictions_json_path = '/Users/guida/llm_argument_tasks/task1/output_files/gpt4o-mini/five-shot/comarg_gm_identification_GPT_5shot.jsonl'\n",
    "\n",
    "print(\" === GM ===\")\n",
    "evaluate_predictions_comarg(golden_csv_path, predictions_json_path)"
   ]
  },
  {
   "cell_type": "markdown",
   "metadata": {},
   "source": [
    "## UGIP"
   ]
  },
  {
   "cell_type": "code",
   "execution_count": 63,
   "metadata": {},
   "outputs": [
    {
     "name": "stdout",
     "output_type": "stream",
     "text": [
      " === GM ===\n",
      "              precision    recall  f1-score   support\n",
      "\n",
      "           0       0.90      0.71      0.79      1772\n",
      "           1       0.26      0.56      0.35       322\n",
      "\n",
      "    accuracy                           0.68      2094\n",
      "   macro avg       0.58      0.63      0.57      2094\n",
      "weighted avg       0.80      0.68      0.72      2094\n",
      "\n"
     ]
    }
   ],
   "source": [
    "golden_csv_path = '/Users/guida/llm_argument_tasks/clean_data/UGIP_all_arguments_main.csv'\n",
    "predictions_json_path = '/Users/guida/llm_argument_tasks/task1/output_files/gpt4o-mini/five-shot/comarg_ugip_identification_GPT_5shot.jsonl'\n",
    "\n",
    "print(\" === GM ===\")\n",
    "evaluate_predictions_comarg(golden_csv_path, predictions_json_path)"
   ]
  },
  {
   "cell_type": "markdown",
   "metadata": {},
   "source": [
    "## Abortion"
   ]
  },
  {
   "cell_type": "code",
   "execution_count": 64,
   "metadata": {},
   "outputs": [
    {
     "name": "stdout",
     "output_type": "stream",
     "text": [
      "              precision    recall  f1-score   support\n",
      "\n",
      "           0       0.97      0.85      0.91      5932\n",
      "           1       0.41      0.82      0.54       723\n",
      "\n",
      "    accuracy                           0.85      6655\n",
      "   macro avg       0.69      0.84      0.73      6655\n",
      "weighted avg       0.91      0.85      0.87      6655\n",
      "\n"
     ]
    }
   ],
   "source": [
    "golden_csv_path = '/Users/guida/llm_argument_tasks/clean_data/yru_abortion_with_negatives_main.csv'\n",
    "predictions_json_path = '/Users/guida/llm_argument_tasks/task1/output_files/gpt4o-mini/five-shot/yru_abortion_identification_GPT_5shot.jsonl'\n",
    "\n",
    "evaluate_predictions_yru(golden_csv_path, predictions_json_path)"
   ]
  },
  {
   "cell_type": "markdown",
   "metadata": {},
   "source": [
    "## Gay Rights"
   ]
  },
  {
   "cell_type": "code",
   "execution_count": 65,
   "metadata": {},
   "outputs": [
    {
     "name": "stdout",
     "output_type": "stream",
     "text": [
      "              precision    recall  f1-score   support\n",
      "\n",
      "           0       0.94      0.82      0.87      5078\n",
      "           1       0.34      0.64      0.45       758\n",
      "\n",
      "    accuracy                           0.79      5836\n",
      "   macro avg       0.64      0.73      0.66      5836\n",
      "weighted avg       0.86      0.79      0.82      5836\n",
      "\n"
     ]
    }
   ],
   "source": [
    "golden_csv_path = '/Users/guida/llm_argument_tasks/clean_data/yru_gayrights_with_negatives_main.csv'\n",
    "predictions_json_path = '/Users/guida/llm_argument_tasks/task1/output_files/gpt4o-mini/five-shot/yru_gayRights_identification_GPT_5shot.jsonl'\n",
    "\n",
    "evaluate_predictions_yru(golden_csv_path, predictions_json_path)"
   ]
  },
  {
   "cell_type": "markdown",
   "metadata": {},
   "source": [
    "## Marijuana"
   ]
  },
  {
   "cell_type": "code",
   "execution_count": 66,
   "metadata": {},
   "outputs": [
    {
     "name": "stdout",
     "output_type": "stream",
     "text": [
      "              precision    recall  f1-score   support\n",
      "\n",
      "           0       0.92      0.85      0.88      4315\n",
      "           1       0.36      0.54      0.43       684\n",
      "\n",
      "    accuracy                           0.80      4999\n",
      "   macro avg       0.64      0.69      0.66      4999\n",
      "weighted avg       0.84      0.80      0.82      4999\n",
      "\n"
     ]
    }
   ],
   "source": [
    "golden_csv_path = '/Users/guida/llm_argument_tasks/clean_data/yru_marijuana_with_negatives_main.csv'\n",
    "predictions_json_path = '/Users/guida/llm_argument_tasks/task1/output_files/gpt4o-mini/five-shot/yru_marijuana_identification_GPT_5shot.jsonl'\n",
    "\n",
    "evaluate_predictions_yru(golden_csv_path, predictions_json_path)"
   ]
  },
  {
   "cell_type": "markdown",
   "metadata": {},
   "source": [
    "## Obama"
   ]
  },
  {
   "cell_type": "code",
   "execution_count": 67,
   "metadata": {},
   "outputs": [
    {
     "name": "stdout",
     "output_type": "stream",
     "text": [
      "              precision    recall  f1-score   support\n",
      "\n",
      "           0       0.96      0.88      0.92      7242\n",
      "           1       0.29      0.56      0.39       637\n",
      "\n",
      "    accuracy                           0.86      7879\n",
      "   macro avg       0.63      0.72      0.65      7879\n",
      "weighted avg       0.90      0.86      0.87      7879\n",
      "\n"
     ]
    }
   ],
   "source": [
    "golden_csv_path = '/Users/guida/llm_argument_tasks/clean_data/yru_obama_with_negatives_main.csv'\n",
    "predictions_json_path = '/Users/guida/llm_argument_tasks/task1/output_files/gpt4o-mini/five-shot/yru_obama_identification_GPT_5shot.jsonl'\n",
    "\n",
    "evaluate_predictions_yru(golden_csv_path, predictions_json_path)"
   ]
  }
 ],
 "metadata": {
  "kernelspec": {
   "display_name": "myenv",
   "language": "python",
   "name": "python3"
  },
  "language_info": {
   "codemirror_mode": {
    "name": "ipython",
    "version": 3
   },
   "file_extension": ".py",
   "mimetype": "text/x-python",
   "name": "python",
   "nbconvert_exporter": "python",
   "pygments_lexer": "ipython3",
   "version": "3.12.3"
  }
 },
 "nbformat": 4,
 "nbformat_minor": 2
}
