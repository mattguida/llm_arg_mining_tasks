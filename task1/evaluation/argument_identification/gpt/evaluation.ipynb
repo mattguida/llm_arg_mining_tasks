{
 "cells": [
  {
   "cell_type": "code",
   "execution_count": 1,
   "metadata": {},
   "outputs": [],
   "source": [
    "import pandas as pd\n",
    "from sklearn.metrics import accuracy_score, precision_score, recall_score, f1_score, precision_recall_fscore_support, classification_report\n",
    "from collections import Counter\n",
    "import json, jsonlines"
   ]
  },
  {
   "cell_type": "markdown",
   "metadata": {},
   "source": [
    "## ZERO SHOT"
   ]
  },
  {
   "cell_type": "markdown",
   "metadata": {},
   "source": [
    "## Evaluation GM"
   ]
  },
  {
   "cell_type": "code",
   "execution_count": 2,
   "metadata": {},
   "outputs": [],
   "source": [
    "def map_gold_labels(labels):\n",
    "    \"\"\"\n",
    "    Maps the original labels in golden data to binary labels for evaluation.\n",
    "    Labels 1, 2, 4, 5 are mapped to 1.\n",
    "    Label 3 is mapped to 0.\n",
    "    \"\"\"\n",
    "    mapping = {1: 1, 2: 1, 4: 1, 5: 1, 3: 0}\n",
    "    return labels.map(mapping)"
   ]
  },
  {
   "cell_type": "code",
   "execution_count": 5,
   "metadata": {},
   "outputs": [],
   "source": [
    "def evaluate_predictions_comarg(golden_csv_path: str, predictions_json_path: str):\n",
    "    \"\"\"\n",
    "    Evaluates predictions against the golden data.\n",
    "    \n",
    "    Parameters:\n",
    "    - golden_csv_path: Path to the CSV file containing golden data.\n",
    "    - predictions_json_path: Path to the JSON file containing predictions.\n",
    "    \n",
    "    Output:\n",
    "    - Classification report comparing the predictions with the mapped gold labels.\n",
    "    \"\"\"\n",
    "\n",
    "    golden_df = pd.read_csv(golden_csv_path)\n",
    "    golden_df['label'] = map_gold_labels(golden_df['label'])\n",
    "\n",
    "    predictions_df = pd.read_json(predictions_json_path, lines=True)\n",
    "    \n",
    "    merged_df = pd.merge(golden_df[['id', 'label']], predictions_df[['id', 'label']], on='id', suffixes=('_gold', '_pred'))\n",
    "    ground_truth = merged_df['label_gold'].values\n",
    "    \n",
    "    predictions = merged_df['label_pred'].values\n",
    "\n",
    "    report = classification_report(ground_truth, predictions)\n",
    "    print(report)"
   ]
  },
  {
   "cell_type": "code",
   "execution_count": 49,
   "metadata": {},
   "outputs": [],
   "source": [
    "\n",
    "def evaluate_predictions_yru(golden_csv_path: str, predictions_json_path: str):\n",
    "    \"\"\"\n",
    "    Evaluates predictions against the golden data.\n",
    "    \n",
    "    Parameters:\n",
    "    - golden_csv_path: Path to the CSV file containing golden data.\n",
    "    - predictions_json_path: Path to the JSON file containing predictions.\n",
    "    \n",
    "    Output:\n",
    "    - Classification report comparing the predictions with the mapped gold labels.\n",
    "    \"\"\"\n",
    "    \n",
    "    golden_df = pd.read_csv(golden_csv_path)\n",
    "    \n",
    "    predictions_df = pd.read_json(predictions_json_path, lines=True)\n",
    "    \n",
    "    merged_df = pd.merge(\n",
    "        golden_df[['uid', 'present']], \n",
    "        predictions_df[['id', 'label']], \n",
    "        left_on='uid', \n",
    "        right_on='id', \n",
    "        how='inner', \n",
    "        suffixes=('_gold', '_pred')\n",
    ")\n",
    "    print(merged_df)\n",
    "    ground_truth = merged_df['present'].values\n",
    "    predictions = merged_df['label'].values\n",
    "\n",
    "    report = classification_report(ground_truth, predictions)\n",
    "    print(report)"
   ]
  },
  {
   "cell_type": "markdown",
   "metadata": {},
   "source": [
    "## GM"
   ]
  },
  {
   "cell_type": "code",
   "execution_count": 52,
   "metadata": {},
   "outputs": [
    {
     "name": "stdout",
     "output_type": "stream",
     "text": [
      "           id  label_gold  label_pred\n",
      "0     100arg1           0           0\n",
      "1     100arg2           0           0\n",
      "2     100arg3           0           0\n",
      "3     100arg4           1           1\n",
      "4     100arg5           1           0\n",
      "...       ...         ...         ...\n",
      "1381    9arg3           0           0\n",
      "1382    9arg4           0           1\n",
      "1383    9arg5           1           0\n",
      "1384    9arg6           1           1\n",
      "1385    9arg7           0           0\n",
      "\n",
      "[1386 rows x 3 columns]\n",
      "              precision    recall  f1-score   support\n",
      "\n",
      "           0       0.80      0.89      0.84       950\n",
      "           1       0.67      0.50      0.58       436\n",
      "\n",
      "    accuracy                           0.77      1386\n",
      "   macro avg       0.73      0.70      0.71      1386\n",
      "weighted avg       0.76      0.77      0.76      1386\n",
      "\n"
     ]
    }
   ],
   "source": [
    "golden_csv_path = '/Users/guida/llm_argument_tasks/clean_data/GM_all_arguments.csv'\n",
    "predictions_json_path = '/Users/guida/llm_argument_tasks/output_files/gpt4o-mini/zero-shot/comarg_gm_argument_identification.jsonl'\n",
    "\n",
    "evaluate_predictions_comarg(golden_csv_path, predictions_json_path)"
   ]
  },
  {
   "cell_type": "markdown",
   "metadata": {},
   "source": [
    "## UGIP"
   ]
  },
  {
   "cell_type": "code",
   "execution_count": 48,
   "metadata": {},
   "outputs": [
    {
     "name": "stdout",
     "output_type": "stream",
     "text": [
      "              precision    recall  f1-score   support\n",
      "\n",
      "           0       0.90      0.71      0.79      1778\n",
      "           1       0.26      0.56      0.35       322\n",
      "\n",
      "    accuracy                           0.68      2100\n",
      "   macro avg       0.58      0.63      0.57      2100\n",
      "weighted avg       0.80      0.68      0.72      2100\n",
      "\n"
     ]
    }
   ],
   "source": [
    "golden_csv_path = '/Users/guida/llm_argument_tasks/clean_data/UGIP_all_arguments.csv'\n",
    "predictions_json_path = '/Users/guida/llm_argument_tasks/output_files/gpt4o-mini/zero-shot/comarg_ugip_argument_identification.jsonl'\n",
    "\n",
    "evaluate_predictions_comarg(golden_csv_path, predictions_json_path)"
   ]
  },
  {
   "cell_type": "markdown",
   "metadata": {},
   "source": [
    "======= YRU ========="
   ]
  },
  {
   "cell_type": "markdown",
   "metadata": {},
   "source": [
    "## Abortion"
   ]
  },
  {
   "cell_type": "code",
   "execution_count": 27,
   "metadata": {},
   "outputs": [
    {
     "name": "stdout",
     "output_type": "stream",
     "text": [
      "              precision    recall  f1-score   support\n",
      "\n",
      "           0       0.98      0.85      0.91      5934\n",
      "           1       0.40      0.83      0.54       726\n",
      "\n",
      "    accuracy                           0.85      6660\n",
      "   macro avg       0.69      0.84      0.72      6660\n",
      "weighted avg       0.91      0.85      0.87      6660\n",
      "\n"
     ]
    }
   ],
   "source": [
    "golden_csv_path = '/Users/guida/llm_argument_tasks/clean_data/yru_abortion_with_negatives_main.csv'\n",
    "predictions_json_path = '/Users/guida/llm_argument_tasks/output_files/gpt4o-mini/yru_abortion_identification_GPT_negatives.jsonl'\n",
    "\n",
    "evaluate_predictions_yru(golden_csv_path, predictions_json_path)"
   ]
  },
  {
   "cell_type": "markdown",
   "metadata": {},
   "source": [
    "## Gay Rights"
   ]
  },
  {
   "cell_type": "code",
   "execution_count": 28,
   "metadata": {},
   "outputs": [
    {
     "name": "stdout",
     "output_type": "stream",
     "text": [
      "              precision    recall  f1-score   support\n",
      "\n",
      "           0       0.94      0.78      0.85      5080\n",
      "           1       0.31      0.68      0.43       761\n",
      "\n",
      "    accuracy                           0.77      5841\n",
      "   macro avg       0.63      0.73      0.64      5841\n",
      "weighted avg       0.86      0.77      0.80      5841\n",
      "\n"
     ]
    }
   ],
   "source": [
    "golden_csv_path = '/Users/guida/llm_argument_tasks/clean_data/yru_gayrights_with_negatives_main.csv'\n",
    "predictions_json_path = '/Users/guida/llm_argument_tasks/output_files/gpt4o-mini/yru_gayRights_identification_GPT_negatives.jsonl'\n",
    "\n",
    "evaluate_predictions_yru(golden_csv_path, predictions_json_path)"
   ]
  },
  {
   "cell_type": "markdown",
   "metadata": {},
   "source": [
    "## Marijuana"
   ]
  },
  {
   "cell_type": "code",
   "execution_count": 29,
   "metadata": {},
   "outputs": [
    {
     "name": "stdout",
     "output_type": "stream",
     "text": [
      "              precision    recall  f1-score   support\n",
      "\n",
      "           0       0.92      0.82      0.87      4317\n",
      "           1       0.34      0.58      0.43       687\n",
      "\n",
      "    accuracy                           0.79      5004\n",
      "   macro avg       0.63      0.70      0.65      5004\n",
      "weighted avg       0.84      0.79      0.81      5004\n",
      "\n"
     ]
    }
   ],
   "source": [
    "golden_csv_path = '/Users/guida/llm_argument_tasks/clean_data/yru_marijuana_with_negatives_main.csv'\n",
    "predictions_json_path = '/Users/guida/llm_argument_tasks/output_files/gpt4o-mini/yru_marijuana_identification_GPT_negatives.jsonl'\n",
    "\n",
    "evaluate_predictions_yru(golden_csv_path, predictions_json_path)"
   ]
  },
  {
   "cell_type": "markdown",
   "metadata": {},
   "source": [
    "## Obama"
   ]
  },
  {
   "cell_type": "code",
   "execution_count": 30,
   "metadata": {},
   "outputs": [
    {
     "name": "stdout",
     "output_type": "stream",
     "text": [
      "              precision    recall  f1-score   support\n",
      "\n",
      "           0       0.97      0.83      0.89      7261\n",
      "           1       0.26      0.67      0.37       641\n",
      "\n",
      "    accuracy                           0.81      7902\n",
      "   macro avg       0.61      0.75      0.63      7902\n",
      "weighted avg       0.91      0.81      0.85      7902\n",
      "\n"
     ]
    }
   ],
   "source": [
    "golden_csv_path = '/Users/guida/llm_argument_tasks/clean_data/yru_obama_with_negatives_main.csv'\n",
    "predictions_json_path = '/Users/guida/llm_argument_tasks/output_files/gpt4o-mini/yru_obama_identification_GPT_negatives.jsonl'\n",
    "\n",
    "evaluate_predictions_yru(golden_csv_path, predictions_json_path)"
   ]
  },
  {
   "cell_type": "markdown",
   "metadata": {},
   "source": [
    "## ONE-SHOT"
   ]
  },
  {
   "cell_type": "code",
   "execution_count": 6,
   "metadata": {},
   "outputs": [
    {
     "name": "stdout",
     "output_type": "stream",
     "text": [
      " === GM === \n",
      "              precision    recall  f1-score   support\n",
      "\n",
      "           0       0.79      0.90      0.84       945\n",
      "           1       0.68      0.47      0.56       434\n",
      "\n",
      "    accuracy                           0.76      1379\n",
      "   macro avg       0.73      0.69      0.70      1379\n",
      "weighted avg       0.75      0.76      0.75      1379\n",
      "\n"
     ]
    }
   ],
   "source": [
    "golden_csv_path = '/Users/guida/llm_argument_tasks/clean_data/GM_all_arguments.csv'\n",
    "predictions_json_path = '/Users/guida/llm_argument_tasks/task1/output_files/gpt4o-mini/one-shot/comarg_gm_identification_GPT_1shot.jsonl'\n",
    "\n",
    "print(\" === GM === \")\n",
    "evaluate_predictions_comarg(golden_csv_path, predictions_json_path)"
   ]
  },
  {
   "cell_type": "code",
   "execution_count": 10,
   "metadata": {},
   "outputs": [
    {
     "name": "stdout",
     "output_type": "stream",
     "text": [
      " === UGIP === \n",
      "              precision    recall  f1-score   support\n",
      "\n",
      "           0       0.89      0.67      0.76      1772\n",
      "           1       0.24      0.57      0.33       322\n",
      "\n",
      "    accuracy                           0.65      2094\n",
      "   macro avg       0.57      0.62      0.55      2094\n",
      "weighted avg       0.79      0.65      0.70      2094\n",
      "\n"
     ]
    }
   ],
   "source": [
    "golden_csv_path = '/Users/guida/llm_argument_tasks/clean_data/UGIP_all_arguments.csv'\n",
    "predictions_json_path = '/Users/guida/llm_argument_tasks/task1/output_files/gpt4o-mini/one-shot/comarg_ugip_identification_GPT_1shot.jsonl'\n",
    "\n",
    "print(\" === UGIP === \")\n",
    "evaluate_predictions_comarg(golden_csv_path, predictions_json_path)"
   ]
  },
  {
   "cell_type": "markdown",
   "metadata": {},
   "source": [
    "## UGIP"
   ]
  },
  {
   "cell_type": "code",
   "execution_count": null,
   "metadata": {},
   "outputs": [
    {
     "name": "stdout",
     "output_type": "stream",
     "text": [
      "              precision    recall  f1-score   support\n",
      "\n",
      "           0       0.90      0.71      0.79      1778\n",
      "           1       0.26      0.56      0.35       322\n",
      "\n",
      "    accuracy                           0.68      2100\n",
      "   macro avg       0.58      0.63      0.57      2100\n",
      "weighted avg       0.80      0.68      0.72      2100\n",
      "\n"
     ]
    }
   ],
   "source": [
    "golden_csv_path = '/Users/guida/llm_argument_tasks/clean_data/UGIP_all_arguments.csv'\n",
    "predictions_json_path = '/Users/guida/llm_argument_tasks/output_files/gpt4o-mini/zero-shot/comarg_ugip_argument_identification.jsonl'\n",
    "\n",
    "evaluate_predictions_comarg(golden_csv_path, predictions_json_path)"
   ]
  },
  {
   "cell_type": "markdown",
   "metadata": {},
   "source": [
    "## Abortion"
   ]
  },
  {
   "cell_type": "code",
   "execution_count": 31,
   "metadata": {},
   "outputs": [
    {
     "name": "stdout",
     "output_type": "stream",
     "text": [
      "              precision    recall  f1-score   support\n",
      "\n",
      "           0       0.96      0.88      0.92      7244\n",
      "           1       0.29      0.54      0.38       640\n",
      "\n",
      "    accuracy                           0.85      7884\n",
      "   macro avg       0.62      0.71      0.65      7884\n",
      "weighted avg       0.90      0.85      0.87      7884\n",
      "\n"
     ]
    }
   ],
   "source": [
    "golden_csv_path = '/Users/guida/llm_argument_tasks/clean_data/yru_obama_with_negatives_main.csv'\n",
    "predictions_json_path = '/Users/guida/llm_argument_tasks/output_files/gpt4o-mini/one-shot/yru_obama_identification_GPT_1shot.jsonl'\n",
    "\n",
    "evaluate_predictions_yru(golden_csv_path, predictions_json_path)"
   ]
  },
  {
   "cell_type": "markdown",
   "metadata": {},
   "source": [
    "## Gay Rights"
   ]
  },
  {
   "cell_type": "code",
   "execution_count": 32,
   "metadata": {},
   "outputs": [
    {
     "name": "stdout",
     "output_type": "stream",
     "text": [
      "              precision    recall  f1-score   support\n",
      "\n",
      "           0       0.94      0.81      0.87      5080\n",
      "           1       0.33      0.63      0.44       761\n",
      "\n",
      "    accuracy                           0.79      5841\n",
      "   macro avg       0.64      0.72      0.65      5841\n",
      "weighted avg       0.86      0.79      0.81      5841\n",
      "\n"
     ]
    }
   ],
   "source": [
    "golden_csv_path = '/Users/guida/llm_argument_tasks/clean_data/yru_gayrights_with_negatives_main.csv'\n",
    "predictions_json_path = '/Users/guida/llm_argument_tasks/output_files/gpt4o-mini/one-shot/yru_gayrights_identification_GPT_1shot.jsonl'\n",
    "\n",
    "evaluate_predictions_yru(golden_csv_path, predictions_json_path)"
   ]
  },
  {
   "cell_type": "markdown",
   "metadata": {},
   "source": [
    "## Marijuana"
   ]
  },
  {
   "cell_type": "code",
   "execution_count": 33,
   "metadata": {},
   "outputs": [
    {
     "name": "stdout",
     "output_type": "stream",
     "text": [
      "              precision    recall  f1-score   support\n",
      "\n",
      "           0       0.92      0.87      0.89      4317\n",
      "           1       0.38      0.51      0.43       687\n",
      "\n",
      "    accuracy                           0.82      5004\n",
      "   macro avg       0.65      0.69      0.66      5004\n",
      "weighted avg       0.84      0.82      0.83      5004\n",
      "\n"
     ]
    }
   ],
   "source": [
    "golden_csv_path = '/Users/guida/llm_argument_tasks/clean_data/yru_marijuana_with_negatives_main.csv'\n",
    "predictions_json_path = '/Users/guida/llm_argument_tasks/output_files/gpt4o-mini/one-shot/yru_marijuana_identification_GPT_1shot.jsonl'\n",
    "\n",
    "evaluate_predictions_yru(golden_csv_path, predictions_json_path)"
   ]
  },
  {
   "cell_type": "markdown",
   "metadata": {},
   "source": [
    "## Obama"
   ]
  },
  {
   "cell_type": "code",
   "execution_count": 34,
   "metadata": {},
   "outputs": [
    {
     "name": "stdout",
     "output_type": "stream",
     "text": [
      "              precision    recall  f1-score   support\n",
      "\n",
      "           0       0.96      0.88      0.92      7244\n",
      "           1       0.29      0.54      0.38       640\n",
      "\n",
      "    accuracy                           0.85      7884\n",
      "   macro avg       0.62      0.71      0.65      7884\n",
      "weighted avg       0.90      0.85      0.87      7884\n",
      "\n"
     ]
    }
   ],
   "source": [
    "golden_csv_path = '/Users/guida/llm_argument_tasks/clean_data/yru_obama_with_negatives_main.csv'\n",
    "predictions_json_path = '/Users/guida/llm_argument_tasks/output_files/gpt4o-mini/one-shot/yru_obama_identification_GPT_1shot.jsonl'\n",
    "\n",
    "evaluate_predictions_yru(golden_csv_path, predictions_json_path)"
   ]
  },
  {
   "cell_type": "markdown",
   "metadata": {},
   "source": [
    "## K-SHOTS"
   ]
  },
  {
   "cell_type": "code",
   "execution_count": 8,
   "metadata": {},
   "outputs": [
    {
     "name": "stdout",
     "output_type": "stream",
     "text": [
      " === GM ===\n",
      "              precision    recall  f1-score   support\n",
      "\n",
      "           0       0.78      0.83      0.80       945\n",
      "           1       0.56      0.48      0.52       434\n",
      "\n",
      "    accuracy                           0.72      1379\n",
      "   macro avg       0.67      0.66      0.66      1379\n",
      "weighted avg       0.71      0.72      0.71      1379\n",
      "\n"
     ]
    }
   ],
   "source": [
    "golden_csv_path = '/Users/guida/llm_argument_tasks/clean_data/GM_all_arguments.csv'\n",
    "predictions_json_path = '/Users/guida/llm_argument_tasks/task1/output_files/gpt4o-mini/five-shot/comarg_gm_identification_GPT_5shot.jsonl'\n",
    "\n",
    "print(\" === GM ===\")\n",
    "evaluate_predictions_comarg(golden_csv_path, predictions_json_path)"
   ]
  },
  {
   "cell_type": "markdown",
   "metadata": {},
   "source": [
    "## UGIP"
   ]
  },
  {
   "cell_type": "code",
   "execution_count": 9,
   "metadata": {},
   "outputs": [
    {
     "name": "stdout",
     "output_type": "stream",
     "text": [
      "              precision    recall  f1-score   support\n",
      "\n",
      "           0       0.90      0.71      0.79      1772\n",
      "           1       0.26      0.56      0.35       322\n",
      "\n",
      "    accuracy                           0.68      2094\n",
      "   macro avg       0.58      0.63      0.57      2094\n",
      "weighted avg       0.80      0.68      0.72      2094\n",
      "\n"
     ]
    }
   ],
   "source": [
    "golden_csv_path = '/Users/guida/llm_argument_tasks/clean_data/UGIP_all_arguments.csv'\n",
    "predictions_json_path = '/Users/guida/llm_argument_tasks/task1/output_files/gpt4o-mini/five-shot/comarg_ugip_identification_GPT_5shot.jsonl'\n",
    "\n",
    "evaluate_predictions_comarg(golden_csv_path, predictions_json_path)"
   ]
  },
  {
   "cell_type": "markdown",
   "metadata": {},
   "source": [
    "## Abortion"
   ]
  },
  {
   "cell_type": "code",
   "execution_count": 36,
   "metadata": {},
   "outputs": [
    {
     "name": "stdout",
     "output_type": "stream",
     "text": [
      "              precision    recall  f1-score   support\n",
      "\n",
      "           0       0.96      0.88      0.92      7244\n",
      "           1       0.29      0.56      0.39       640\n",
      "\n",
      "    accuracy                           0.86      7884\n",
      "   macro avg       0.63      0.72      0.65      7884\n",
      "weighted avg       0.90      0.86      0.87      7884\n",
      "\n"
     ]
    }
   ],
   "source": [
    "golden_csv_path = '/Users/guida/llm_argument_tasks/clean_data/yru_obama_with_negatives_main.csv'\n",
    "predictions_json_path = '/Users/guida/llm_argument_tasks/output_files/gpt4o-mini/k-shots/yru_obama_identification_GPT_5shot.jsonl'\n",
    "\n",
    "evaluate_predictions_yru(golden_csv_path, predictions_json_path)"
   ]
  },
  {
   "cell_type": "markdown",
   "metadata": {},
   "source": [
    "## Gay Rights"
   ]
  },
  {
   "cell_type": "code",
   "execution_count": 37,
   "metadata": {},
   "outputs": [
    {
     "name": "stdout",
     "output_type": "stream",
     "text": [
      "              precision    recall  f1-score   support\n",
      "\n",
      "           0       0.94      0.82      0.87      5080\n",
      "           1       0.34      0.64      0.45       761\n",
      "\n",
      "    accuracy                           0.79      5841\n",
      "   macro avg       0.64      0.73      0.66      5841\n",
      "weighted avg       0.86      0.79      0.82      5841\n",
      "\n"
     ]
    }
   ],
   "source": [
    "golden_csv_path = '/Users/guida/llm_argument_tasks/clean_data/yru_gayrights_with_negatives_main.csv'\n",
    "predictions_json_path = '/Users/guida/llm_argument_tasks/output_files/gpt4o-mini/k-shots/yru_gayrights_identification_GPT_5shot.jsonl'\n",
    "\n",
    "evaluate_predictions_yru(golden_csv_path, predictions_json_path)"
   ]
  },
  {
   "cell_type": "markdown",
   "metadata": {},
   "source": [
    "## Marijuana"
   ]
  },
  {
   "cell_type": "code",
   "execution_count": 38,
   "metadata": {},
   "outputs": [
    {
     "name": "stdout",
     "output_type": "stream",
     "text": [
      "              precision    recall  f1-score   support\n",
      "\n",
      "           0       0.92      0.85      0.88      4317\n",
      "           1       0.36      0.54      0.43       687\n",
      "\n",
      "    accuracy                           0.80      5004\n",
      "   macro avg       0.64      0.69      0.66      5004\n",
      "weighted avg       0.84      0.80      0.82      5004\n",
      "\n"
     ]
    }
   ],
   "source": [
    "golden_csv_path = '/Users/guida/llm_argument_tasks/clean_data/yru_marijuana_with_negatives_main.csv'\n",
    "predictions_json_path = '/Users/guida/llm_argument_tasks/output_files/gpt4o-mini/k-shots/yru_marijuana_identification_GPT_5shot.jsonl'\n",
    "\n",
    "evaluate_predictions_yru(golden_csv_path, predictions_json_path)"
   ]
  },
  {
   "cell_type": "markdown",
   "metadata": {},
   "source": [
    "## Obama"
   ]
  },
  {
   "cell_type": "code",
   "execution_count": 39,
   "metadata": {},
   "outputs": [
    {
     "name": "stdout",
     "output_type": "stream",
     "text": [
      "              precision    recall  f1-score   support\n",
      "\n",
      "           0       0.96      0.88      0.92      7244\n",
      "           1       0.29      0.56      0.39       640\n",
      "\n",
      "    accuracy                           0.86      7884\n",
      "   macro avg       0.63      0.72      0.65      7884\n",
      "weighted avg       0.90      0.86      0.87      7884\n",
      "\n"
     ]
    }
   ],
   "source": [
    "golden_csv_path = '/Users/guida/llm_argument_tasks/clean_data/yru_obama_with_negatives_main.csv'\n",
    "predictions_json_path = '/Users/guida/llm_argument_tasks/output_files/gpt4o-mini/k-shots/yru_obama_identification_GPT_5shot.jsonl'\n",
    "\n",
    "evaluate_predictions_yru(golden_csv_path, predictions_json_path)"
   ]
  }
 ],
 "metadata": {
  "kernelspec": {
   "display_name": "myenv",
   "language": "python",
   "name": "python3"
  },
  "language_info": {
   "codemirror_mode": {
    "name": "ipython",
    "version": 3
   },
   "file_extension": ".py",
   "mimetype": "text/x-python",
   "name": "python",
   "nbconvert_exporter": "python",
   "pygments_lexer": "ipython3",
   "version": "3.12.3"
  }
 },
 "nbformat": 4,
 "nbformat_minor": 2
}
