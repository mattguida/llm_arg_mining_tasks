{
 "cells": [
  {
   "cell_type": "code",
   "execution_count": 19,
   "metadata": {},
   "outputs": [],
   "source": [
    "import pandas as pd\n",
    "from sklearn.metrics import accuracy_score, precision_score, recall_score, f1_score, precision_recall_fscore_support, classification_report, confusion_matrix, ConfusionMatrixDisplay\n",
    "from collections import Counter, defaultdict\n",
    "import json, csv\n",
    "import numpy as np\n",
    "import matplotlib.pyplot as plt"
   ]
  },
  {
   "cell_type": "code",
   "execution_count": 20,
   "metadata": {},
   "outputs": [],
   "source": [
    "def map_gold_labels(labels):\n",
    "    \"\"\"\n",
    "    Maps the original labels in golden data to binary labels for evaluation.\n",
    "    Labels 1, 2, 4, 5 are mapped to 1.\n",
    "    Label 3 is mapped to 0.\n",
    "    \"\"\"\n",
    "    mapping = {1: 1, 2: 1, 4: 1, 5: 1, 3: 0}\n",
    "    return labels.map(mapping)"
   ]
  },
  {
   "cell_type": "code",
   "execution_count": 21,
   "metadata": {},
   "outputs": [],
   "source": [
    "def evaluate_predictions(golden_csv_path: str, predictions_json_path: str):\n",
    "    \"\"\"\n",
    "    Evaluates predictions against the golden data.\n",
    "    \n",
    "    Parameters:\n",
    "    - golden_csv_path: Path to the CSV file containing golden data.\n",
    "    - predictions_json_path: Path to the JSON file containing predictions.\n",
    "    \n",
    "    Output:\n",
    "    - Classification report comparing the predictions with the mapped gold labels.\n",
    "    \"\"\"\n",
    "\n",
    "    golden_df = pd.read_csv(golden_csv_path)\n",
    "\n",
    "    golden_df['label'] = map_gold_labels(golden_df['label'])\n",
    "\n",
    "    predictions_df = pd.read_json(predictions_json_path, lines=True)\n",
    "\n",
    "    merged_df = pd.merge(golden_df[['id', 'label']], predictions_df[['id', 'label']], on='id', how='inner', suffixes=('_gold', '_pred'))\n",
    "\n",
    "    ground_truth = merged_df['label_gold'].values\n",
    "    predictions = merged_df['label_pred'].values\n",
    "\n",
    "    report = classification_report(ground_truth, predictions)\n",
    "    print(report)"
   ]
  },
  {
   "cell_type": "code",
   "execution_count": 22,
   "metadata": {},
   "outputs": [],
   "source": [
    "\n",
    "def evaluate_predictions_yru(golden_csv_path: str, predictions_json_path: str):\n",
    "    \"\"\"\n",
    "    Evaluates predictions against the golden data.\n",
    "    \n",
    "    Parameters:\n",
    "    - golden_csv_path: Path to the CSV file containing golden data.\n",
    "    - predictions_json_path: Path to the JSON file containing predictions.\n",
    "    \n",
    "    Output:\n",
    "    - Classification report comparing the predictions with the mapped gold labels.\n",
    "    \"\"\"\n",
    "    \n",
    "    golden_df = pd.read_csv(golden_csv_path)\n",
    "    \n",
    "    predictions_df = pd.read_json(predictions_json_path, lines=True)\n",
    "    \n",
    "    merged_df = pd.merge(\n",
    "        golden_df[['uid', 'present']], \n",
    "        predictions_df[['id', 'label']], \n",
    "        left_on='uid', \n",
    "        right_on='id', \n",
    "        how='inner', \n",
    "        suffixes=('_gold', '_pred')\n",
    ")\n",
    "    ground_truth = merged_df['present'].values\n",
    "    predictions = merged_df['label'].values\n",
    "\n",
    "    report = classification_report(ground_truth, predictions)\n",
    "    print(report)"
   ]
  },
  {
   "cell_type": "markdown",
   "metadata": {},
   "source": [
    "## Evaluation GM"
   ]
  },
  {
   "cell_type": "code",
   "execution_count": 23,
   "metadata": {},
   "outputs": [
    {
     "name": "stdout",
     "output_type": "stream",
     "text": [
      "              precision    recall  f1-score   support\n",
      "\n",
      "           0       0.78      0.84      0.81       944\n",
      "           1       0.58      0.50      0.54       434\n",
      "\n",
      "    accuracy                           0.73      1378\n",
      "   macro avg       0.68      0.67      0.67      1378\n",
      "weighted avg       0.72      0.73      0.72      1378\n",
      "\n"
     ]
    }
   ],
   "source": [
    "golden_csv_path = '/Users/guida/llm_argument_tasks/clean_data/GM_all_arguments_main.csv'\n",
    "predictions_json_path = '/Users/guida/llm_argument_tasks/task1/output_files/llama3/zero-shot/comarg_gm_argument_identification.jsonl'\n",
    " \n",
    "evaluate_predictions(golden_csv_path, predictions_json_path)"
   ]
  },
  {
   "cell_type": "markdown",
   "metadata": {},
   "source": [
    "## Evaluation UGIP"
   ]
  },
  {
   "cell_type": "code",
   "execution_count": 25,
   "metadata": {},
   "outputs": [
    {
     "name": "stdout",
     "output_type": "stream",
     "text": [
      "              precision    recall  f1-score   support\n",
      "\n",
      "           0       0.90      0.61      0.73      1769\n",
      "           1       0.23      0.63      0.34       322\n",
      "\n",
      "    accuracy                           0.62      2091\n",
      "   macro avg       0.57      0.62      0.53      2091\n",
      "weighted avg       0.80      0.62      0.67      2091\n",
      "\n"
     ]
    }
   ],
   "source": [
    "golden_data_path = '/Users/guida/llm_argument_tasks/clean_data/UGIP_all_arguments_main.csv'\n",
    "model_output_path = '/Users/guida/llm_argument_tasks/task1/output_files/llama3/zero-shot/comarg_ugip_argument_identification.jsonl'\n",
    "\n",
    "evaluate_predictions(golden_data_path, model_output_path)"
   ]
  },
  {
   "cell_type": "markdown",
   "metadata": {},
   "source": [
    "====== YRU Dataset ======="
   ]
  },
  {
   "cell_type": "markdown",
   "metadata": {},
   "source": [
    "## Abortion"
   ]
  },
  {
   "cell_type": "code",
   "execution_count": 27,
   "metadata": {},
   "outputs": [
    {
     "name": "stdout",
     "output_type": "stream",
     "text": [
      "              precision    recall  f1-score   support\n",
      "\n",
      "           0       0.95      0.84      0.89      5971\n",
      "           1       0.31      0.63      0.41       699\n",
      "\n",
      "    accuracy                           0.81      6670\n",
      "   macro avg       0.63      0.73      0.65      6670\n",
      "weighted avg       0.88      0.81      0.84      6670\n",
      "\n"
     ]
    }
   ],
   "source": [
    "golden_data_path = '/Users/guida/llm_argument_tasks/clean_data/yru_abortion_with_negatives_main.csv'\n",
    "model_output_path = '/Users/guida/llm_argument_tasks/task1/output_files/llama3/zero-shot/yru_abortion_identification_with_negatives.jsonl'\n",
    "\n",
    "evaluate_predictions_yru(golden_data_path, model_output_path)"
   ]
  },
  {
   "cell_type": "markdown",
   "metadata": {},
   "source": [
    "## Gay Rights"
   ]
  },
  {
   "cell_type": "code",
   "execution_count": 28,
   "metadata": {},
   "outputs": [
    {
     "name": "stdout",
     "output_type": "stream",
     "text": [
      "              precision    recall  f1-score   support\n",
      "\n",
      "           0       0.93      0.82      0.87      5057\n",
      "           1       0.34      0.60      0.44       779\n",
      "\n",
      "    accuracy                           0.79      5836\n",
      "   macro avg       0.64      0.71      0.66      5836\n",
      "weighted avg       0.85      0.79      0.82      5836\n",
      "\n"
     ]
    }
   ],
   "source": [
    "golden_data_path = '/Users/guida/llm_argument_tasks/clean_data/yru_gayrights_with_negatives_main.csv'\n",
    "model_output_path = '/Users/guida/llm_argument_tasks/task1/output_files/llama3/zero-shot/yru_gayRights_identification_with_negatives.jsonl'\n",
    "\n",
    "evaluate_predictions_yru(golden_data_path, model_output_path)"
   ]
  },
  {
   "cell_type": "markdown",
   "metadata": {},
   "source": [
    "## Marijuana"
   ]
  },
  {
   "cell_type": "code",
   "execution_count": 29,
   "metadata": {},
   "outputs": [
    {
     "name": "stdout",
     "output_type": "stream",
     "text": [
      "              precision    recall  f1-score   support\n",
      "\n",
      "           0       0.92      0.82      0.87      4316\n",
      "           1       0.32      0.52      0.39       682\n",
      "\n",
      "    accuracy                           0.78      4998\n",
      "   macro avg       0.62      0.67      0.63      4998\n",
      "weighted avg       0.83      0.78      0.80      4998\n",
      "\n"
     ]
    }
   ],
   "source": [
    "golden_data_path = '/Users/guida/llm_argument_tasks/clean_data/yru_marijuana_with_negatives_main.csv'\n",
    "model_output_path = '/Users/guida/llm_argument_tasks/task1/output_files/llama3/zero-shot/yru_marijuana_identification_with_negatives.jsonl'\n",
    "\n",
    "evaluate_predictions_yru(golden_data_path, model_output_path)"
   ]
  },
  {
   "cell_type": "markdown",
   "metadata": {},
   "source": [
    "## Obama"
   ]
  },
  {
   "cell_type": "code",
   "execution_count": 30,
   "metadata": {},
   "outputs": [
    {
     "name": "stdout",
     "output_type": "stream",
     "text": [
      "              precision    recall  f1-score   support\n",
      "\n",
      "           0       0.96      0.84      0.89      7268\n",
      "           1       0.23      0.55      0.32       629\n",
      "\n",
      "    accuracy                           0.82      7897\n",
      "   macro avg       0.59      0.69      0.61      7897\n",
      "weighted avg       0.90      0.82      0.85      7897\n",
      "\n"
     ]
    }
   ],
   "source": [
    "golden_data_path = '/Users/guida/llm_argument_tasks/clean_data/yru_obama_with_negatives_main.csv'\n",
    "model_output_path = '/Users/guida/llm_argument_tasks/task1/output_files/llama3/zero-shot/yru_obama_identification_with_negatives.jsonl'\n",
    "\n",
    "evaluate_predictions_yru(golden_data_path, model_output_path)"
   ]
  },
  {
   "cell_type": "markdown",
   "metadata": {},
   "source": [
    "## One shot"
   ]
  },
  {
   "cell_type": "code",
   "execution_count": null,
   "metadata": {},
   "outputs": [],
   "source": [
    "golden_csv_path = '/Users/guida/llm_argument_tasks/clean_data/GM_all_arguments.csv'\n",
    "predictions_json_path = '/Users/guida/llm_argument_tasks/output_files/llama3/zero-shot/comarg_gm_argument_identification.jsonl'\n",
    "\n",
    "evaluate_predictions(golden_csv_path, predictions_json_path)"
   ]
  },
  {
   "cell_type": "code",
   "execution_count": null,
   "metadata": {},
   "outputs": [
    {
     "name": "stdout",
     "output_type": "stream",
     "text": [
      "              precision    recall  f1-score   support\n",
      "\n",
      "           0       0.95      0.84      0.89      5971\n",
      "           1       0.31      0.63      0.41       699\n",
      "\n",
      "    accuracy                           0.81      6670\n",
      "   macro avg       0.63      0.73      0.65      6670\n",
      "weighted avg       0.88      0.81      0.84      6670\n",
      "\n"
     ]
    }
   ],
   "source": [
    "golden_data_path = '/Users/guida/llm_argument_tasks/clean_data/yru_abortion_with_negatives_main.csv'\n",
    "model_output_path = '/Users/guida/llm_argument_tasks/task1/output_files/llama3/zero-shot/yru_abortion_identification_with_negatives.jsonl'\n",
    "\n",
    "evaluate_predictions_yru(golden_data_path, model_output_path)"
   ]
  },
  {
   "cell_type": "markdown",
   "metadata": {},
   "source": [
    "## Gay Rights"
   ]
  },
  {
   "cell_type": "code",
   "execution_count": null,
   "metadata": {},
   "outputs": [
    {
     "name": "stdout",
     "output_type": "stream",
     "text": [
      "              precision    recall  f1-score   support\n",
      "\n",
      "           0       0.93      0.82      0.87      5057\n",
      "           1       0.34      0.60      0.44       779\n",
      "\n",
      "    accuracy                           0.79      5836\n",
      "   macro avg       0.64      0.71      0.66      5836\n",
      "weighted avg       0.85      0.79      0.82      5836\n",
      "\n"
     ]
    }
   ],
   "source": [
    "golden_data_path = '/Users/guida/llm_argument_tasks/clean_data/yru_gayrights_with_negatives_main.csv'\n",
    "model_output_path = '/Users/guida/llm_argument_tasks/task1/output_files/llama3/zero-shot/yru_gayRights_identification_with_negatives.jsonl'\n",
    "\n",
    "evaluate_predictions_yru(golden_data_path, model_output_path)"
   ]
  },
  {
   "cell_type": "markdown",
   "metadata": {},
   "source": [
    "## Marijuana"
   ]
  },
  {
   "cell_type": "code",
   "execution_count": null,
   "metadata": {},
   "outputs": [
    {
     "name": "stdout",
     "output_type": "stream",
     "text": [
      "              precision    recall  f1-score   support\n",
      "\n",
      "           0       0.92      0.82      0.87      4316\n",
      "           1       0.32      0.52      0.39       682\n",
      "\n",
      "    accuracy                           0.78      4998\n",
      "   macro avg       0.62      0.67      0.63      4998\n",
      "weighted avg       0.83      0.78      0.80      4998\n",
      "\n"
     ]
    }
   ],
   "source": [
    "golden_data_path = '/Users/guida/llm_argument_tasks/clean_data/yru_marijuana_with_negatives_main.csv'\n",
    "model_output_path = '/Users/guida/llm_argument_tasks/task1/output_files/llama3/zero-shot/yru_marijuana_identification_with_negatives.jsonl'\n",
    "\n",
    "evaluate_predictions_yru(golden_data_path, model_output_path)"
   ]
  },
  {
   "cell_type": "markdown",
   "metadata": {},
   "source": [
    "## Obama"
   ]
  },
  {
   "cell_type": "code",
   "execution_count": null,
   "metadata": {},
   "outputs": [
    {
     "name": "stdout",
     "output_type": "stream",
     "text": [
      "              precision    recall  f1-score   support\n",
      "\n",
      "           0       0.96      0.84      0.89      7268\n",
      "           1       0.23      0.55      0.32       629\n",
      "\n",
      "    accuracy                           0.82      7897\n",
      "   macro avg       0.59      0.69      0.61      7897\n",
      "weighted avg       0.90      0.82      0.85      7897\n",
      "\n"
     ]
    }
   ],
   "source": [
    "golden_data_path = '/Users/guida/llm_argument_tasks/clean_data/yru_obama_with_negatives_main.csv'\n",
    "model_output_path = '/Users/guida/llm_argument_tasks/task1/output_files/llama3/zero-shot/yru_obama_identification_with_negatives.jsonl'\n",
    "\n",
    "evaluate_predictions_yru(golden_data_path, model_output_path)"
   ]
  },
  {
   "cell_type": "markdown",
   "metadata": {},
   "source": [
    "## Few shot"
   ]
  },
  {
   "cell_type": "code",
   "execution_count": null,
   "metadata": {},
   "outputs": [],
   "source": []
  },
  {
   "cell_type": "markdown",
   "metadata": {},
   "source": [
    "## Abortion"
   ]
  },
  {
   "cell_type": "code",
   "execution_count": 31,
   "metadata": {},
   "outputs": [
    {
     "name": "stdout",
     "output_type": "stream",
     "text": [
      "              precision    recall  f1-score   support\n",
      "\n",
      "           0       0.96      0.52      0.67      5987\n",
      "           1       0.16      0.82      0.27       677\n",
      "\n",
      "    accuracy                           0.55      6664\n",
      "   macro avg       0.56      0.67      0.47      6664\n",
      "weighted avg       0.88      0.55      0.63      6664\n",
      "\n"
     ]
    }
   ],
   "source": [
    "golden_data_path = '/Users/guida/llm_argument_tasks/clean_data/yru_abortion_with_negatives_main.csv'\n",
    "model_output_path = '/Users/guida/llm_argument_tasks/task1/output_files/llama3/k-shots/yru_abortion_identification_llama_5shot.jsonl'\n",
    "\n",
    "evaluate_predictions_yru(golden_data_path, model_output_path)"
   ]
  },
  {
   "cell_type": "markdown",
   "metadata": {},
   "source": [
    "## Gay Rights"
   ]
  },
  {
   "cell_type": "code",
   "execution_count": null,
   "metadata": {},
   "outputs": [
    {
     "name": "stdout",
     "output_type": "stream",
     "text": [
      "              precision    recall  f1-score   support\n",
      "\n",
      "           0       0.93      0.82      0.87      5057\n",
      "           1       0.34      0.60      0.44       779\n",
      "\n",
      "    accuracy                           0.79      5836\n",
      "   macro avg       0.64      0.71      0.66      5836\n",
      "weighted avg       0.85      0.79      0.82      5836\n",
      "\n"
     ]
    }
   ],
   "source": [
    "golden_data_path = '/Users/guida/llm_argument_tasks/clean_data/yru_gayrights_with_negatives_main.csv'\n",
    "model_output_path = '/Users/guida/llm_argument_tasks/task1/output_files/llama3/zero-shot/yru_gayRights_identification_with_negatives.jsonl'\n",
    "\n",
    "evaluate_predictions_yru(golden_data_path, model_output_path)"
   ]
  },
  {
   "cell_type": "markdown",
   "metadata": {},
   "source": [
    "## Marijuana"
   ]
  },
  {
   "cell_type": "code",
   "execution_count": 32,
   "metadata": {},
   "outputs": [
    {
     "name": "stdout",
     "output_type": "stream",
     "text": [
      "              precision    recall  f1-score   support\n",
      "\n",
      "           0       0.95      0.60      0.74      4329\n",
      "           1       0.24      0.78      0.36       682\n",
      "\n",
      "    accuracy                           0.63      5011\n",
      "   macro avg       0.59      0.69      0.55      5011\n",
      "weighted avg       0.85      0.63      0.69      5011\n",
      "\n"
     ]
    }
   ],
   "source": [
    "golden_data_path = '/Users/guida/llm_argument_tasks/clean_data/yru_marijuana_with_negatives_main.csv'\n",
    "model_output_path = '/Users/guida/llm_argument_tasks/task1/output_files/llama3/k-shots/yru_marijuana_identification_llama_5shot.jsonl'\n",
    "\n",
    "evaluate_predictions_yru(golden_data_path, model_output_path)"
   ]
  },
  {
   "cell_type": "markdown",
   "metadata": {},
   "source": [
    "## Obama"
   ]
  },
  {
   "cell_type": "code",
   "execution_count": null,
   "metadata": {},
   "outputs": [
    {
     "name": "stdout",
     "output_type": "stream",
     "text": [
      "              precision    recall  f1-score   support\n",
      "\n",
      "           0       0.96      0.84      0.89      7268\n",
      "           1       0.23      0.55      0.32       629\n",
      "\n",
      "    accuracy                           0.82      7897\n",
      "   macro avg       0.59      0.69      0.61      7897\n",
      "weighted avg       0.90      0.82      0.85      7897\n",
      "\n"
     ]
    }
   ],
   "source": [
    "golden_data_path = '/Users/guida/llm_argument_tasks/clean_data/yru_obama_with_negatives_main.csv'\n",
    "model_output_path = '/Users/guida/llm_argument_tasks/task1/output_files/llama3/zero-shot/yru_obama_identification_with_negatives.jsonl'\n",
    "\n",
    "evaluate_predictions_yru(golden_data_path, model_output_path)"
   ]
  }
 ],
 "metadata": {
  "kernelspec": {
   "display_name": "myenv",
   "language": "python",
   "name": "python3"
  },
  "language_info": {
   "codemirror_mode": {
    "name": "ipython",
    "version": 3
   },
   "file_extension": ".py",
   "mimetype": "text/x-python",
   "name": "python",
   "nbconvert_exporter": "python",
   "pygments_lexer": "ipython3",
   "version": "3.12.3"
  }
 },
 "nbformat": 4,
 "nbformat_minor": 2
}
