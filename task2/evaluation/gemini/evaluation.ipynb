{
 "cells": [
  {
   "cell_type": "code",
   "execution_count": 1,
   "metadata": {},
   "outputs": [],
   "source": [
    "import pandas as pd\n",
    "from sklearn.metrics import accuracy_score, precision_score, recall_score, f1_score, precision_recall_fscore_support, classification_report, confusion_matrix, ConfusionMatrixDisplay\n",
    "from collections import Counter, defaultdict\n",
    "import json, csv\n",
    "import numpy as np\n",
    "import matplotlib.pyplot as plt"
   ]
  },
  {
   "cell_type": "code",
   "execution_count": 2,
   "metadata": {},
   "outputs": [],
   "source": [
    "def map_gold_labels(labels):\n",
    "    \"\"\"\n",
    "    Maps the original labels in golden data to binary labels for evaluation.\n",
    "    Labels 1, 2 are mapped to 1.\n",
    "    Label 4, 5 are mapped to 5.\n",
    "    \"\"\"\n",
    "    mapping = {1: 1, 2: 1, 4: 5, 5: 5}\n",
    "    return labels.map(mapping)"
   ]
  },
  {
   "cell_type": "code",
   "execution_count": 3,
   "metadata": {},
   "outputs": [],
   "source": [
    "def evaluate_predictions(golden_csv_path: str, predictions_json_path: str):\n",
    "    golden_df = pd.read_csv(golden_csv_path)\n",
    "    \n",
    "    golden_df['label'] = map_gold_labels(golden_df['label'])\n",
    "\n",
    "    predictions_df = pd.read_json(predictions_json_path, lines=True) \n",
    "\n",
    "    merged_df = pd.merge(golden_df[['id', 'label']], predictions_df[['id', 'label']], \n",
    "                        on='id', how='inner', suffixes=('_gold', '_pred'))\n",
    "\n",
    "    ground_truth = merged_df['label_gold'].astype(int)\n",
    "\n",
    "    predictions = merged_df['label_pred'].astype(int)\n",
    "\n",
    "    report = classification_report(ground_truth, predictions)\n",
    "    print(report)"
   ]
  },
  {
   "cell_type": "code",
   "execution_count": 4,
   "metadata": {},
   "outputs": [],
   "source": [
    "def evaluate_predictions_polarity(golden_csv_path: str, predictions_json_path: str):\n",
    "\n",
    "    golden_df = pd.read_csv(golden_csv_path)\n",
    "    \n",
    "    predictions_df = pd.read_json(predictions_json_path, lines=True) \n",
    " \n",
    "    merged_df = pd.merge(golden_df[['id', 'label']], predictions_df[['id', 'label']], \n",
    "                        on='id', how='inner', suffixes=('_gold', '_pred'))\n",
    "\n",
    "    ground_truth = merged_df['label_gold'].astype(int)\n",
    "\n",
    "    predictions = merged_df['label_pred'].astype(int)\n",
    "\n",
    "    report = classification_report(ground_truth, predictions)\n",
    "    print(report)"
   ]
  },
  {
   "cell_type": "markdown",
   "metadata": {},
   "source": [
    "## Evaluation ZERO SHOT"
   ]
  },
  {
   "cell_type": "code",
   "execution_count": 4,
   "metadata": {},
   "outputs": [],
   "source": [
    "# No polarity"
   ]
  },
  {
   "cell_type": "code",
   "execution_count": 5,
   "metadata": {},
   "outputs": [
    {
     "name": "stdout",
     "output_type": "stream",
     "text": [
      "=== GM ====\n",
      "              precision    recall  f1-score   support\n",
      "\n",
      "           1       0.63      1.00      0.77       160\n",
      "           5       1.00      0.66      0.79       271\n",
      "\n",
      "    accuracy                           0.78       431\n",
      "   macro avg       0.82      0.83      0.78       431\n",
      "weighted avg       0.86      0.78      0.79       431\n",
      "\n"
     ]
    }
   ],
   "source": [
    "golden_csv_path = '/Users/guida/llm_argument_tasks/clean_data/GM_structured_main.csv'\n",
    "predictions_json_path = '/Users/guida/llm_argument_tasks/task2/output_files/gemini/zero-shot/comarg_gm_relation_identification_nopol_without3_gemini.jsonl'\n",
    "\n",
    "print(\"=== GM ====\")\n",
    "evaluate_predictions(golden_csv_path, predictions_json_path)"
   ]
  },
  {
   "cell_type": "code",
   "execution_count": null,
   "metadata": {},
   "outputs": [],
   "source": []
  },
  {
   "cell_type": "code",
   "execution_count": 6,
   "metadata": {},
   "outputs": [
    {
     "name": "stdout",
     "output_type": "stream",
     "text": [
      "=== UGIP ====\n",
      "              precision    recall  f1-score   support\n",
      "\n",
      "           1       0.80      0.92      0.86       132\n",
      "           5       0.94      0.84      0.89       185\n",
      "\n",
      "    accuracy                           0.87       317\n",
      "   macro avg       0.87      0.88      0.87       317\n",
      "weighted avg       0.88      0.87      0.87       317\n",
      "\n"
     ]
    }
   ],
   "source": [
    "golden_csv_path = '/Users/guida/llm_argument_tasks/clean_data/UGIP_structured_main.csv'\n",
    "predictions_json_path = '/Users/guida/llm_argument_tasks/task2/output_files/gemini/zero-shot/comarg_ugip_relation_identification_nopol_without3_gemini.jsonl'\n",
    "\n",
    "print(\"=== UGIP ====\")\n",
    "evaluate_predictions(golden_csv_path, predictions_json_path)"
   ]
  },
  {
   "cell_type": "markdown",
   "metadata": {},
   "source": [
    "## Polarity"
   ]
  },
  {
   "cell_type": "code",
   "execution_count": 7,
   "metadata": {},
   "outputs": [
    {
     "name": "stdout",
     "output_type": "stream",
     "text": [
      "=== GM ====\n",
      "              precision    recall  f1-score   support\n",
      "\n",
      "           1       0.34      0.93      0.50        88\n",
      "           2       0.39      0.12      0.19        72\n",
      "           4       0.44      0.07      0.12        96\n",
      "           5       0.68      0.59      0.63       175\n",
      "\n",
      "    accuracy                           0.47       431\n",
      "   macro avg       0.46      0.43      0.36       431\n",
      "weighted avg       0.51      0.47      0.42       431\n",
      "\n"
     ]
    }
   ],
   "source": [
    "golden_csv_path = '/Users/guida/llm_argument_tasks/clean_data/GM_structured_main.csv'\n",
    "predictions_json_path = '/Users/guida/llm_argument_tasks/task2/output_files/gemini/zero-shot/comarg_gm_relation_identification_pol_without3_gemini.jsonl'\n",
    "\n",
    "print(\"=== GM ====\")\n",
    "evaluate_predictions_polarity(golden_csv_path, predictions_json_path)"
   ]
  },
  {
   "cell_type": "code",
   "execution_count": 8,
   "metadata": {},
   "outputs": [
    {
     "name": "stdout",
     "output_type": "stream",
     "text": [
      "=== UGIP ====\n",
      "              precision    recall  f1-score   support\n",
      "\n",
      "           1       0.27      0.89      0.42        47\n",
      "           2       0.27      0.05      0.08        85\n",
      "           4       0.25      0.02      0.03        57\n",
      "           5       0.66      0.74      0.70       128\n",
      "\n",
      "    accuracy                           0.45       317\n",
      "   macro avg       0.36      0.43      0.31       317\n",
      "weighted avg       0.42      0.45      0.37       317\n",
      "\n"
     ]
    }
   ],
   "source": [
    "golden_csv_path = '/Users/guida/llm_argument_tasks/clean_data/UGIP_structured_main.csv'\n",
    "predictions_json_path = '/Users/guida/llm_argument_tasks/task2/output_files/gemini/zero-shot/comarg_ugip_relation_identification_pol_without3_gemini.jsonl'\n",
    "\n",
    "print(\"=== UGIP ====\")\n",
    "evaluate_predictions_polarity(golden_csv_path, predictions_json_path)"
   ]
  },
  {
   "cell_type": "markdown",
   "metadata": {},
   "source": [
    "## ONE shot"
   ]
  },
  {
   "cell_type": "markdown",
   "metadata": {},
   "source": [
    "# NO polarity"
   ]
  },
  {
   "cell_type": "code",
   "execution_count": 9,
   "metadata": {},
   "outputs": [
    {
     "name": "stdout",
     "output_type": "stream",
     "text": [
      "=== GM ====\n",
      "              precision    recall  f1-score   support\n",
      "\n",
      "           1       0.49      0.99      0.66       160\n",
      "           5       0.98      0.39      0.56       271\n",
      "\n",
      "    accuracy                           0.61       431\n",
      "   macro avg       0.74      0.69      0.61       431\n",
      "weighted avg       0.80      0.61      0.60       431\n",
      "\n"
     ]
    }
   ],
   "source": [
    "golden_csv_path = '/Users/guida/llm_argument_tasks/clean_data/GM_structured_main.csv'\n",
    "predictions_json_path = '/Users/guida/llm_argument_tasks/task2/output_files/gemini/one-shot/comarg_gm_relation_identification2ways_gemini_1shot.jsonl'\n",
    "\n",
    "print(\"=== GM ====\")\n",
    "evaluate_predictions(golden_csv_path, predictions_json_path)"
   ]
  },
  {
   "cell_type": "code",
   "execution_count": 19,
   "metadata": {},
   "outputs": [
    {
     "name": "stdout",
     "output_type": "stream",
     "text": [
      "=== UGIP ====\n",
      "              precision    recall  f1-score   support\n",
      "\n",
      "           1       0.56      0.92      0.70       132\n",
      "           5       0.90      0.48      0.62       185\n",
      "\n",
      "    accuracy                           0.66       317\n",
      "   macro avg       0.73      0.70      0.66       317\n",
      "weighted avg       0.76      0.66      0.65       317\n",
      "\n"
     ]
    }
   ],
   "source": [
    "golden_csv_path = '/Users/guida/llm_argument_tasks/clean_data/UGIP_structured_main.csv'\n",
    "predictions_json_path = '/Users/guida/llm_argument_tasks/task2/output_files/gemini/one-shot/comarg_ugip_relation_identification2ways_gemini_1shot.jsonl'\n",
    "\n",
    "print(\"=== UGIP ====\")\n",
    "evaluate_predictions(golden_csv_path, predictions_json_path)"
   ]
  },
  {
   "cell_type": "markdown",
   "metadata": {},
   "source": [
    "## Polarity"
   ]
  },
  {
   "cell_type": "code",
   "execution_count": null,
   "metadata": {},
   "outputs": [
    {
     "name": "stdout",
     "output_type": "stream",
     "text": [
      "=== GM ====\n",
      "              precision    recall  f1-score   support\n",
      "\n",
      "           1       0.34      0.93      0.50        89\n",
      "           2       0.39      0.12      0.19        73\n",
      "           4       0.44      0.07      0.12        98\n",
      "           5       0.68      0.59      0.63       176\n",
      "\n",
      "    accuracy                           0.47       436\n",
      "   macro avg       0.46      0.43      0.36       436\n",
      "weighted avg       0.51      0.47      0.42       436\n",
      "\n"
     ]
    }
   ],
   "source": [
    "golden_csv_path = '/Users/guida/llm_argument_tasks/clean_data/GM_structured_no_3.csv'\n",
    "predictions_json_path = '/Users/guida/llm_argument_tasks/task2/output_files/gemini/zero-shot/comarg_gm_relation_identification_pol_without3_gemini.jsonl'\n",
    "\n",
    "print(\"=== GM ====\")\n",
    "evaluate_predictions_polarity(golden_csv_path, predictions_json_path)"
   ]
  },
  {
   "cell_type": "code",
   "execution_count": null,
   "metadata": {},
   "outputs": [
    {
     "name": "stdout",
     "output_type": "stream",
     "text": [
      "=== UGIP ====\n",
      "              precision    recall  f1-score   support\n",
      "\n",
      "           1       0.27      0.90      0.42        48\n",
      "           2       0.27      0.05      0.08        86\n",
      "           4       0.25      0.02      0.03        58\n",
      "           5       0.67      0.75      0.71       130\n",
      "\n",
      "    accuracy                           0.45       322\n",
      "   macro avg       0.36      0.43      0.31       322\n",
      "weighted avg       0.43      0.45      0.37       322\n",
      "\n"
     ]
    }
   ],
   "source": [
    "golden_csv_path = '/Users/guida/llm_argument_tasks/clean_data/UGIP_structured_no_3.csv'\n",
    "predictions_json_path = '/Users/guida/llm_argument_tasks/task2/output_files/gemini/zero-shot/comarg_ugip_relation_identification_pol_without3_gemini.jsonl'\n",
    "\n",
    "print(\"=== UGIP ====\")\n",
    "evaluate_predictions_polarity(golden_csv_path, predictions_json_path)"
   ]
  },
  {
   "cell_type": "markdown",
   "metadata": {},
   "source": [
    "# Polarity"
   ]
  },
  {
   "cell_type": "code",
   "execution_count": 12,
   "metadata": {},
   "outputs": [
    {
     "name": "stdout",
     "output_type": "stream",
     "text": [
      "=== UGIP ====\n",
      "              precision    recall  f1-score   support\n",
      "\n",
      "           1       0.21      0.96      0.35        47\n",
      "           2       0.36      0.06      0.10        85\n",
      "           4       0.33      0.02      0.03        57\n",
      "           5       0.78      0.55      0.64       128\n",
      "\n",
      "    accuracy                           0.38       317\n",
      "   macro avg       0.42      0.40      0.28       317\n",
      "weighted avg       0.50      0.38      0.34       317\n",
      "\n"
     ]
    }
   ],
   "source": [
    "golden_csv_path = '/Users/guida/llm_argument_tasks/clean_data/UGIP_structured_no_3.csv'\n",
    "predictions_json_path = '/Users/guida/llm_argument_tasks/task2/output_files/gemini/one-shot/comarg_ugip_relation_identification5ways_gemini_1shot.jsonl'\n",
    "\n",
    "print(\"=== UGIP ====\")\n",
    "evaluate_predictions_polarity(golden_csv_path, predictions_json_path)"
   ]
  },
  {
   "cell_type": "code",
   "execution_count": 13,
   "metadata": {},
   "outputs": [
    {
     "name": "stdout",
     "output_type": "stream",
     "text": [
      "=== GM ====\n",
      "              precision    recall  f1-score   support\n",
      "\n",
      "           1       0.33      0.84      0.48       177\n",
      "           2       0.36      0.10      0.16       144\n",
      "           3       0.00      0.00      0.00         0\n",
      "           4       0.34      0.06      0.10       194\n",
      "           5       0.65      0.57      0.61       350\n",
      "\n",
      "    accuracy                           0.43       865\n",
      "   macro avg       0.34      0.31      0.27       865\n",
      "weighted avg       0.47      0.43      0.39       865\n",
      "\n"
     ]
    },
    {
     "name": "stderr",
     "output_type": "stream",
     "text": [
      "/Users/guida/llm_argument_tasks/myenv/lib/python3.12/site-packages/sklearn/metrics/_classification.py:1517: UndefinedMetricWarning: Recall is ill-defined and being set to 0.0 in labels with no true samples. Use `zero_division` parameter to control this behavior.\n",
      "  _warn_prf(average, modifier, f\"{metric.capitalize()} is\", len(result))\n",
      "/Users/guida/llm_argument_tasks/myenv/lib/python3.12/site-packages/sklearn/metrics/_classification.py:1517: UndefinedMetricWarning: Recall is ill-defined and being set to 0.0 in labels with no true samples. Use `zero_division` parameter to control this behavior.\n",
      "  _warn_prf(average, modifier, f\"{metric.capitalize()} is\", len(result))\n",
      "/Users/guida/llm_argument_tasks/myenv/lib/python3.12/site-packages/sklearn/metrics/_classification.py:1517: UndefinedMetricWarning: Recall is ill-defined and being set to 0.0 in labels with no true samples. Use `zero_division` parameter to control this behavior.\n",
      "  _warn_prf(average, modifier, f\"{metric.capitalize()} is\", len(result))\n"
     ]
    }
   ],
   "source": [
    "golden_csv_path = '/Users/guida/llm_argument_tasks/clean_data/GM_structured_no_3.csv'\n",
    "predictions_json_path = '/Users/guida/llm_argument_tasks/task2/output_files/gemini/one-shot/comarg_gm_relation_identification5ways_gemini_1shot.jsonl'\n",
    "\n",
    "print(\"=== GM ====\")\n",
    "evaluate_predictions_polarity(golden_csv_path, predictions_json_path)"
   ]
  },
  {
   "cell_type": "markdown",
   "metadata": {},
   "source": [
    "## FEW shot"
   ]
  },
  {
   "cell_type": "markdown",
   "metadata": {},
   "source": [
    "# NO Polarity"
   ]
  },
  {
   "cell_type": "code",
   "execution_count": 14,
   "metadata": {},
   "outputs": [
    {
     "name": "stdout",
     "output_type": "stream",
     "text": [
      "=== GM ====\n",
      "              precision    recall  f1-score   support\n",
      "\n",
      "           1       0.31      0.84      0.46       101\n",
      "           2       0.34      0.22      0.27        87\n",
      "           4       0.28      0.10      0.15       107\n",
      "           5       0.71      0.46      0.56       204\n",
      "\n",
      "    accuracy                           0.42       499\n",
      "   macro avg       0.41      0.41      0.36       499\n",
      "weighted avg       0.47      0.42      0.40       499\n",
      "\n"
     ]
    }
   ],
   "source": [
    "golden_csv_path = '/Users/guida/llm_argument_tasks/clean_data/GM_structured_main.csv'\n",
    "predictions_json_path = '/Users/guida/llm_argument_tasks/task2/output_files/gemini/five-shot/comarg_gm_relation_identification2ways_gemini_5shot.jsonl'\n",
    "\n",
    "print(\"=== GM ====\")\n",
    "evaluate_predictions_polarity(golden_csv_path, predictions_json_path)"
   ]
  },
  {
   "cell_type": "code",
   "execution_count": 15,
   "metadata": {},
   "outputs": [
    {
     "name": "stdout",
     "output_type": "stream",
     "text": [
      "=== UGIP ====\n",
      "              precision    recall  f1-score   support\n",
      "\n",
      "           1       0.20      0.98      0.33        47\n",
      "           2       0.40      0.02      0.04        85\n",
      "           4       0.33      0.02      0.03        57\n",
      "           5       0.76      0.46      0.57       128\n",
      "\n",
      "    accuracy                           0.34       317\n",
      "   macro avg       0.42      0.37      0.25       317\n",
      "weighted avg       0.50      0.34      0.30       317\n",
      "\n"
     ]
    }
   ],
   "source": [
    "golden_csv_path = '/Users/guida/llm_argument_tasks/clean_data/UGIP_structured_main.csv'\n",
    "predictions_json_path = '/Users/guida/llm_argument_tasks/task2/output_files/gemini/five-shot/comarg_ugip_relation_identification2ways_gemini_5shot.jsonl'\n",
    "\n",
    "print(\"=== UGIP ====\")\n",
    "evaluate_predictions_polarity(golden_csv_path, predictions_json_path)"
   ]
  },
  {
   "cell_type": "markdown",
   "metadata": {},
   "source": [
    "# Polarity "
   ]
  },
  {
   "cell_type": "code",
   "execution_count": 20,
   "metadata": {},
   "outputs": [
    {
     "name": "stdout",
     "output_type": "stream",
     "text": [
      "=== GM ====\n",
      "              precision    recall  f1-score   support\n",
      "\n",
      "           1       0.39      0.81      0.53        88\n",
      "           2       0.30      0.15      0.20        72\n",
      "           4       0.17      0.06      0.09        96\n",
      "           5       0.69      0.70      0.69       175\n",
      "\n",
      "    accuracy                           0.49       431\n",
      "   macro avg       0.39      0.43      0.38       431\n",
      "weighted avg       0.45      0.49      0.44       431\n",
      "\n"
     ]
    }
   ],
   "source": [
    "golden_csv_path = '/Users/guida/llm_argument_tasks/clean_data/GM_structured_main.csv'\n",
    "predictions_json_path = '/Users/guida/llm_argument_tasks/task2/output_files/gemini/five-shot/comarg_gm_relation_identification5ways_gemini_5shot.jsonl'\n",
    "\n",
    "print(\"=== GM ====\")\n",
    "evaluate_predictions_polarity(golden_csv_path, predictions_json_path)"
   ]
  },
  {
   "cell_type": "code",
   "execution_count": 21,
   "metadata": {},
   "outputs": [
    {
     "name": "stdout",
     "output_type": "stream",
     "text": [
      "=== UGIP ====\n",
      "              precision    recall  f1-score   support\n",
      "\n",
      "           1       0.19      0.96      0.32        47\n",
      "           2       0.60      0.04      0.07        85\n",
      "           4       0.00      0.00      0.00        59\n",
      "           5       0.76      0.44      0.55       128\n",
      "\n",
      "    accuracy                           0.33       319\n",
      "   macro avg       0.39      0.36      0.23       319\n",
      "weighted avg       0.49      0.33      0.29       319\n",
      "\n"
     ]
    }
   ],
   "source": [
    "golden_csv_path = '/Users/guida/llm_argument_tasks/clean_data/UGIP_structured_main.csv'\n",
    "predictions_json_path = '/Users/guida/llm_argument_tasks/task2/output_files/gemini/five-shot/comarg_ugip_relation_identification5ways_gemini_5shot.jsonl'\n",
    "\n",
    "print(\"=== UGIP ====\")\n",
    "evaluate_predictions_polarity(golden_csv_path, predictions_json_path)"
   ]
  },
  {
   "cell_type": "markdown",
   "metadata": {},
   "source": []
  }
 ],
 "metadata": {
  "kernelspec": {
   "display_name": "myenv",
   "language": "python",
   "name": "python3"
  },
  "language_info": {
   "codemirror_mode": {
    "name": "ipython",
    "version": 3
   },
   "file_extension": ".py",
   "mimetype": "text/x-python",
   "name": "python",
   "nbconvert_exporter": "python",
   "pygments_lexer": "ipython3",
   "version": "3.12.3"
  }
 },
 "nbformat": 4,
 "nbformat_minor": 2
}
