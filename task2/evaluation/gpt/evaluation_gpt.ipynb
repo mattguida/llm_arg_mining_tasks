{
 "cells": [
  {
   "cell_type": "code",
   "execution_count": 3,
   "metadata": {},
   "outputs": [],
   "source": [
    "import pandas as pd\n",
    "from sklearn.metrics import accuracy_score, precision_score, recall_score, f1_score, precision_recall_fscore_support, classification_report\n",
    "from collections import Counter, defaultdict\n",
    "import json, csv\n",
    "import numpy as np"
   ]
  },
  {
   "cell_type": "code",
   "execution_count": 4,
   "metadata": {},
   "outputs": [],
   "source": [
    "def map_gold_labels(labels):\n",
    "    \"\"\"\n",
    "    Maps the original labels in golden data to binary labels for evaluation.\n",
    "    Labels 1, 2 are mapped to 1.\n",
    "    Label 3 remains 3.\n",
    "    Label 4, 5 are mapped to 5.\n",
    "    \"\"\"\n",
    "    mapping = {1: 1, 2: 1, 3: 3, 4: 5, 5: 5}\n",
    "    return labels.map(mapping)"
   ]
  },
  {
   "cell_type": "code",
   "execution_count": 30,
   "metadata": {},
   "outputs": [],
   "source": [
    "def evaluate_predictions(golden_csv_path: str, predictions_json_path: str):\n",
    "\n",
    "    golden_df = pd.read_csv(golden_csv_path)\n",
    "    \n",
    "    golden_df['label'] = map_gold_labels(golden_df['label'])\n",
    "\n",
    "    predictions_df = pd.read_json(predictions_json_path, lines=True) \n",
    "\n",
    "    merged_df = pd.merge(golden_df[['id', 'label']], predictions_df[['id', 'label']], \n",
    "                        on='id', how='inner', suffixes=('_gold', '_pred'))\n",
    "\n",
    "    ground_truth = merged_df['label_gold'].astype(int)\n",
    "\n",
    "    predictions = merged_df['label_pred'].astype(int)\n",
    "\n",
    "    report = classification_report(ground_truth, predictions)\n",
    "    print(report)"
   ]
  },
  {
   "cell_type": "markdown",
   "metadata": {},
   "source": [
    "## Evaluation ZERO SHOT"
   ]
  },
  {
   "cell_type": "code",
   "execution_count": 31,
   "metadata": {},
   "outputs": [
    {
     "name": "stdout",
     "output_type": "stream",
     "text": [
      "=== GM ====\n",
      "              precision    recall  f1-score   support\n",
      "\n",
      "           1       0.15      0.58      0.24       159\n",
      "           3       0.93      0.23      0.37       856\n",
      "           5       0.34      0.57      0.43       269\n",
      "\n",
      "    accuracy                           0.35      1284\n",
      "   macro avg       0.47      0.46      0.35      1284\n",
      "weighted avg       0.71      0.35      0.37      1284\n",
      "\n"
     ]
    }
   ],
   "source": [
    "golden_csv_path = '/Users/guida/llm_argument_tasks/clean_data/GM_structured.csv'\n",
    "predictions_json_path = '/Users/guida/llm_argument_tasks/task2/output_files/gpt/comarg_gm_relation_identification_3_gpt.jsonl'\n",
    "\n",
    "print(\"=== GM ====\")\n",
    "evaluate_predictions(golden_csv_path, predictions_json_path)"
   ]
  },
  {
   "cell_type": "code",
   "execution_count": 32,
   "metadata": {},
   "outputs": [
    {
     "name": "stdout",
     "output_type": "stream",
     "text": [
      "=== UGIP ====\n",
      "              precision    recall  f1-score   support\n",
      "\n",
      "           1       0.22      0.89      0.35       132\n",
      "           3       0.93      0.18      0.30       692\n",
      "           5       0.41      0.73      0.53       188\n",
      "\n",
      "    accuracy                           0.38      1012\n",
      "   macro avg       0.52      0.60      0.39      1012\n",
      "weighted avg       0.74      0.38      0.35      1012\n",
      "\n"
     ]
    }
   ],
   "source": [
    "golden_csv_path = '/Users/guida/llm_argument_tasks/clean_data/UGIP_structured.csv'\n",
    "predictions_json_path = '/Users/guida/llm_argument_tasks/task2/output_files/gpt/comarg_ugip_relation_identification_3_gpt.jsonl'\n",
    "\n",
    "print(\"=== UGIP ====\")\n",
    "evaluate_predictions(golden_csv_path, predictions_json_path)"
   ]
  }
 ],
 "metadata": {
  "kernelspec": {
   "display_name": "myenv",
   "language": "python",
   "name": "python3"
  },
  "language_info": {
   "codemirror_mode": {
    "name": "ipython",
    "version": 3
   },
   "file_extension": ".py",
   "mimetype": "text/x-python",
   "name": "python",
   "nbconvert_exporter": "python",
   "pygments_lexer": "ipython3",
   "version": "3.12.3"
  }
 },
 "nbformat": 4,
 "nbformat_minor": 2
}
