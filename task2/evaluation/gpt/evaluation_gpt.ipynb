{
 "cells": [
  {
   "cell_type": "code",
   "execution_count": 4,
   "metadata": {},
   "outputs": [],
   "source": [
    "import pandas as pd\n",
    "from sklearn.metrics import accuracy_score, precision_score, recall_score, f1_score, precision_recall_fscore_support, classification_report\n",
    "from collections import Counter, defaultdict\n",
    "import json, csv\n",
    "import numpy as np"
   ]
  },
  {
   "cell_type": "code",
   "execution_count": 5,
   "metadata": {},
   "outputs": [],
   "source": [
    "def map_gold_labels(labels):\n",
    "    \"\"\"\n",
    "    Maps the original labels in golden data to binary labels for evaluation.\n",
    "    Labels 1, 2 are mapped to 1.\n",
    "    Label 4, 5 are mapped to 5.\n",
    "    \"\"\"\n",
    "    mapping = {1: 1, 2: 1, 4: 5, 5: 5}\n",
    "    return labels.map(mapping)"
   ]
  },
  {
   "cell_type": "code",
   "execution_count": 6,
   "metadata": {},
   "outputs": [],
   "source": [
    "def evaluate_predictions(golden_csv_path: str, predictions_json_path: str):\n",
    "\n",
    "    golden_df = pd.read_csv(golden_csv_path)\n",
    "    \n",
    "    golden_df['label'] = map_gold_labels(golden_df['label'])\n",
    "\n",
    "    predictions_df = pd.read_json(predictions_json_path, lines=True) \n",
    "\n",
    "    merged_df = pd.merge(golden_df[['id', 'label']], predictions_df[['id', 'label']], \n",
    "                        on='id', how='inner', suffixes=('_gold', '_pred'))\n",
    "\n",
    "    ground_truth = merged_df['label_gold'].astype(int)\n",
    "\n",
    "    predictions = merged_df['label_pred'].astype(int)\n",
    "\n",
    "    report = classification_report(ground_truth, predictions)\n",
    "    print(report)"
   ]
  },
  {
   "cell_type": "code",
   "execution_count": 7,
   "metadata": {},
   "outputs": [],
   "source": [
    "def evaluate_predictions_polarity(golden_csv_path: str, predictions_json_path: str):\n",
    "\n",
    "    golden_df = pd.read_csv(golden_csv_path)\n",
    "    \n",
    "    predictions_df = pd.read_json(predictions_json_path, lines=True) \n",
    "\n",
    "    merged_df = pd.merge(golden_df[['id', 'label']], predictions_df[['id', 'label']], \n",
    "                        on='id', how='inner', suffixes=('_gold', '_pred'))\n",
    "\n",
    "    ground_truth = merged_df['label_gold'].astype(int)\n",
    "\n",
    "    predictions = merged_df['label_pred'].astype(int)\n",
    "\n",
    "    report = classification_report(ground_truth, predictions)\n",
    "    print(report)"
   ]
  },
  {
   "cell_type": "markdown",
   "metadata": {},
   "source": [
    "## Evaluation ZERO SHOT"
   ]
  },
  {
   "cell_type": "markdown",
   "metadata": {},
   "source": [
    "# NO polarity"
   ]
  },
  {
   "cell_type": "code",
   "execution_count": 78,
   "metadata": {},
   "outputs": [
    {
     "name": "stdout",
     "output_type": "stream",
     "text": [
      "=== GM ====\n",
      "              precision    recall  f1-score   support\n",
      "\n",
      "           1       0.37      0.64      0.47       162\n",
      "           5       0.63      0.36      0.46       274\n",
      "\n",
      "    accuracy                           0.47       436\n",
      "   macro avg       0.50      0.50      0.47       436\n",
      "weighted avg       0.53      0.47      0.46       436\n",
      "\n"
     ]
    }
   ],
   "source": [
    "golden_csv_path = '/Users/guida/llm_argument_tasks/clean_data/GM_structured_no_3.csv'\n",
    "predictions_json_path = '/Users/guida/llm_argument_tasks/task2/output_files/gpt/zero-shot/comarg_gm_relation_identification_nopol_without3_gpt.jsonl'\n",
    "\n",
    "print(\"=== GM ====\")\n",
    "evaluate_predictions(golden_csv_path, predictions_json_path)"
   ]
  },
  {
   "cell_type": "code",
   "execution_count": 79,
   "metadata": {},
   "outputs": [
    {
     "name": "stdout",
     "output_type": "stream",
     "text": [
      "=== UGIP ====\n",
      "              precision    recall  f1-score   support\n",
      "\n",
      "           1       0.66      0.90      0.76       134\n",
      "           5       0.90      0.68      0.77       188\n",
      "\n",
      "    accuracy                           0.77       322\n",
      "   macro avg       0.78      0.79      0.77       322\n",
      "weighted avg       0.80      0.77      0.77       322\n",
      "\n"
     ]
    }
   ],
   "source": [
    "golden_csv_path = '/Users/guida/llm_argument_tasks/clean_data/UGIP_structured_no_3.csv'\n",
    "predictions_json_path = '/Users/guida/llm_argument_tasks/task2/output_files/gpt/zero-shot/comarg_ugip_relation_identification_nopol_without3_gpt.jsonl'\n",
    "\n",
    "print(\"=== UGIP ====\")\n",
    "evaluate_predictions(golden_csv_path, predictions_json_path)"
   ]
  },
  {
   "cell_type": "markdown",
   "metadata": {},
   "source": [
    "# Polarity"
   ]
  },
  {
   "cell_type": "code",
   "execution_count": 81,
   "metadata": {},
   "outputs": [
    {
     "name": "stdout",
     "output_type": "stream",
     "text": [
      "=== GM ====\n",
      "              precision    recall  f1-score   support\n",
      "\n",
      "           1       0.19      0.49      0.27        90\n",
      "           2       0.07      0.01      0.02        73\n",
      "           4       0.36      0.08      0.14        96\n",
      "           5       0.38      0.35      0.37       172\n",
      "\n",
      "    accuracy                           0.26       431\n",
      "   macro avg       0.25      0.24      0.20       431\n",
      "weighted avg       0.28      0.26      0.24       431\n",
      "\n"
     ]
    }
   ],
   "source": [
    "golden_csv_path = '/Users/guida/llm_argument_tasks/clean_data/GM_structured_no_3.csv'\n",
    "predictions_json_path = '/Users/guida/llm_argument_tasks/task2/output_files/gpt/zero-shot/comarg_gm_relation_identification_polarity_without3_gpt.jsonl'\n",
    "\n",
    "print(\"=== GM ====\")\n",
    "evaluate_predictions_polarity(golden_csv_path, predictions_json_path)"
   ]
  },
  {
   "cell_type": "code",
   "execution_count": 82,
   "metadata": {},
   "outputs": [
    {
     "name": "stdout",
     "output_type": "stream",
     "text": [
      "=== UGIP ====\n",
      "              precision    recall  f1-score   support\n",
      "\n",
      "           1       0.26      0.91      0.41        46\n",
      "           2       0.00      0.00      0.00        86\n",
      "           3       0.00      0.00      0.00         0\n",
      "           4       0.00      0.00      0.00        57\n",
      "           5       0.67      0.79      0.73       126\n",
      "\n",
      "    accuracy                           0.45       315\n",
      "   macro avg       0.19      0.34      0.23       315\n",
      "weighted avg       0.31      0.45      0.35       315\n",
      "\n"
     ]
    },
    {
     "name": "stderr",
     "output_type": "stream",
     "text": [
      "/Users/guida/llm_argument_tasks/myenv/lib/python3.12/site-packages/sklearn/metrics/_classification.py:1517: UndefinedMetricWarning: Precision is ill-defined and being set to 0.0 in labels with no predicted samples. Use `zero_division` parameter to control this behavior.\n",
      "  _warn_prf(average, modifier, f\"{metric.capitalize()} is\", len(result))\n",
      "/Users/guida/llm_argument_tasks/myenv/lib/python3.12/site-packages/sklearn/metrics/_classification.py:1517: UndefinedMetricWarning: Recall is ill-defined and being set to 0.0 in labels with no true samples. Use `zero_division` parameter to control this behavior.\n",
      "  _warn_prf(average, modifier, f\"{metric.capitalize()} is\", len(result))\n",
      "/Users/guida/llm_argument_tasks/myenv/lib/python3.12/site-packages/sklearn/metrics/_classification.py:1517: UndefinedMetricWarning: Precision is ill-defined and being set to 0.0 in labels with no predicted samples. Use `zero_division` parameter to control this behavior.\n",
      "  _warn_prf(average, modifier, f\"{metric.capitalize()} is\", len(result))\n",
      "/Users/guida/llm_argument_tasks/myenv/lib/python3.12/site-packages/sklearn/metrics/_classification.py:1517: UndefinedMetricWarning: Recall is ill-defined and being set to 0.0 in labels with no true samples. Use `zero_division` parameter to control this behavior.\n",
      "  _warn_prf(average, modifier, f\"{metric.capitalize()} is\", len(result))\n",
      "/Users/guida/llm_argument_tasks/myenv/lib/python3.12/site-packages/sklearn/metrics/_classification.py:1517: UndefinedMetricWarning: Precision is ill-defined and being set to 0.0 in labels with no predicted samples. Use `zero_division` parameter to control this behavior.\n",
      "  _warn_prf(average, modifier, f\"{metric.capitalize()} is\", len(result))\n",
      "/Users/guida/llm_argument_tasks/myenv/lib/python3.12/site-packages/sklearn/metrics/_classification.py:1517: UndefinedMetricWarning: Recall is ill-defined and being set to 0.0 in labels with no true samples. Use `zero_division` parameter to control this behavior.\n",
      "  _warn_prf(average, modifier, f\"{metric.capitalize()} is\", len(result))\n"
     ]
    }
   ],
   "source": [
    "golden_csv_path = '/Users/guida/llm_argument_tasks/clean_data/UGIP_structured_no_3.csv'\n",
    "predictions_json_path = '/Users/guida/llm_argument_tasks/task2/output_files/gpt/zero-shot/comarg_ugip_relation_identification_polarity_without3_gpt.jsonl'\n",
    "\n",
    "print(\"=== UGIP ====\")\n",
    "evaluate_predictions_polarity(golden_csv_path, predictions_json_path)"
   ]
  },
  {
   "cell_type": "markdown",
   "metadata": {},
   "source": [
    "## Evaluation ONE SHOT"
   ]
  },
  {
   "cell_type": "markdown",
   "metadata": {},
   "source": [
    "# NO polarity"
   ]
  },
  {
   "cell_type": "code",
   "execution_count": 8,
   "metadata": {},
   "outputs": [
    {
     "name": "stdout",
     "output_type": "stream",
     "text": [
      "=== GM ====\n",
      "              precision    recall  f1-score   support\n",
      "\n",
      "           1       0.36      0.59      0.45       160\n",
      "           3       0.00      0.00      0.00         0\n",
      "           5       0.61      0.38      0.47       271\n",
      "\n",
      "    accuracy                           0.46       431\n",
      "   macro avg       0.33      0.32      0.31       431\n",
      "weighted avg       0.52      0.46      0.46       431\n",
      "\n"
     ]
    },
    {
     "name": "stderr",
     "output_type": "stream",
     "text": [
      "/Users/guida/llm_argument_tasks/myenv/lib/python3.12/site-packages/sklearn/metrics/_classification.py:1517: UndefinedMetricWarning: Recall is ill-defined and being set to 0.0 in labels with no true samples. Use `zero_division` parameter to control this behavior.\n",
      "  _warn_prf(average, modifier, f\"{metric.capitalize()} is\", len(result))\n",
      "/Users/guida/llm_argument_tasks/myenv/lib/python3.12/site-packages/sklearn/metrics/_classification.py:1517: UndefinedMetricWarning: Recall is ill-defined and being set to 0.0 in labels with no true samples. Use `zero_division` parameter to control this behavior.\n",
      "  _warn_prf(average, modifier, f\"{metric.capitalize()} is\", len(result))\n",
      "/Users/guida/llm_argument_tasks/myenv/lib/python3.12/site-packages/sklearn/metrics/_classification.py:1517: UndefinedMetricWarning: Recall is ill-defined and being set to 0.0 in labels with no true samples. Use `zero_division` parameter to control this behavior.\n",
      "  _warn_prf(average, modifier, f\"{metric.capitalize()} is\", len(result))\n"
     ]
    }
   ],
   "source": [
    "golden_csv_path = '/Users/guida/llm_argument_tasks/clean_data/GM_structured_main.csv'\n",
    "predictions_json_path = '/Users/guida/llm_argument_tasks/task2/output_files/gpt/one-shot/comarg_gm_relation_identification2ways_gpt_1shot (1).jsonl'\n",
    "\n",
    "print(\"=== GM ====\")\n",
    "evaluate_predictions(golden_csv_path, predictions_json_path)"
   ]
  },
  {
   "cell_type": "code",
   "execution_count": 9,
   "metadata": {},
   "outputs": [
    {
     "name": "stdout",
     "output_type": "stream",
     "text": [
      "=== UGIP ====\n",
      "              precision    recall  f1-score   support\n",
      "\n",
      "           1       0.74      0.96      0.84       132\n",
      "           3       0.00      0.00      0.00         0\n",
      "           5       0.97      0.75      0.84       185\n",
      "\n",
      "    accuracy                           0.84       317\n",
      "   macro avg       0.57      0.57      0.56       317\n",
      "weighted avg       0.87      0.84      0.84       317\n",
      "\n"
     ]
    },
    {
     "name": "stderr",
     "output_type": "stream",
     "text": [
      "/Users/guida/llm_argument_tasks/myenv/lib/python3.12/site-packages/sklearn/metrics/_classification.py:1517: UndefinedMetricWarning: Recall is ill-defined and being set to 0.0 in labels with no true samples. Use `zero_division` parameter to control this behavior.\n",
      "  _warn_prf(average, modifier, f\"{metric.capitalize()} is\", len(result))\n",
      "/Users/guida/llm_argument_tasks/myenv/lib/python3.12/site-packages/sklearn/metrics/_classification.py:1517: UndefinedMetricWarning: Recall is ill-defined and being set to 0.0 in labels with no true samples. Use `zero_division` parameter to control this behavior.\n",
      "  _warn_prf(average, modifier, f\"{metric.capitalize()} is\", len(result))\n",
      "/Users/guida/llm_argument_tasks/myenv/lib/python3.12/site-packages/sklearn/metrics/_classification.py:1517: UndefinedMetricWarning: Recall is ill-defined and being set to 0.0 in labels with no true samples. Use `zero_division` parameter to control this behavior.\n",
      "  _warn_prf(average, modifier, f\"{metric.capitalize()} is\", len(result))\n"
     ]
    }
   ],
   "source": [
    "golden_csv_path = '/Users/guida/llm_argument_tasks/clean_data/UGIP_structured_main.csv'\n",
    "predictions_json_path = '/Users/guida/llm_argument_tasks/task2/output_files/gpt/one-shot/comarg_ugip_relation_identification2way_gpt_1shot (1).jsonl'\n",
    "\n",
    "print(\"=== UGIP ====\")\n",
    "evaluate_predictions(golden_csv_path, predictions_json_path)"
   ]
  },
  {
   "cell_type": "markdown",
   "metadata": {},
   "source": [
    "# Polarity"
   ]
  },
  {
   "cell_type": "code",
   "execution_count": 10,
   "metadata": {},
   "outputs": [
    {
     "name": "stdout",
     "output_type": "stream",
     "text": [
      "=== GM ====\n",
      "              precision    recall  f1-score   support\n",
      "\n",
      "           1       0.19      0.51      0.28        88\n",
      "           2       0.10      0.01      0.02        72\n",
      "           3       0.00      0.00      0.00         0\n",
      "           4       0.14      0.03      0.05        96\n",
      "           5       0.39      0.37      0.38       175\n",
      "\n",
      "    accuracy                           0.26       431\n",
      "   macro avg       0.17      0.19      0.15       431\n",
      "weighted avg       0.25      0.26      0.23       431\n",
      "\n"
     ]
    },
    {
     "name": "stderr",
     "output_type": "stream",
     "text": [
      "/Users/guida/llm_argument_tasks/myenv/lib/python3.12/site-packages/sklearn/metrics/_classification.py:1517: UndefinedMetricWarning: Recall is ill-defined and being set to 0.0 in labels with no true samples. Use `zero_division` parameter to control this behavior.\n",
      "  _warn_prf(average, modifier, f\"{metric.capitalize()} is\", len(result))\n",
      "/Users/guida/llm_argument_tasks/myenv/lib/python3.12/site-packages/sklearn/metrics/_classification.py:1517: UndefinedMetricWarning: Recall is ill-defined and being set to 0.0 in labels with no true samples. Use `zero_division` parameter to control this behavior.\n",
      "  _warn_prf(average, modifier, f\"{metric.capitalize()} is\", len(result))\n",
      "/Users/guida/llm_argument_tasks/myenv/lib/python3.12/site-packages/sklearn/metrics/_classification.py:1517: UndefinedMetricWarning: Recall is ill-defined and being set to 0.0 in labels with no true samples. Use `zero_division` parameter to control this behavior.\n",
      "  _warn_prf(average, modifier, f\"{metric.capitalize()} is\", len(result))\n"
     ]
    }
   ],
   "source": [
    "golden_csv_path = '/Users/guida/llm_argument_tasks/clean_data/GM_structured_main.csv'\n",
    "predictions_json_path = '/Users/guida/llm_argument_tasks/task2/output_files/gpt/one-shot/comarg_gm_relation_identification4ways_gpt_1shot (1).jsonl'\n",
    "\n",
    "print(\"=== GM ====\")\n",
    "evaluate_predictions_polarity(golden_csv_path, predictions_json_path)"
   ]
  },
  {
   "cell_type": "code",
   "execution_count": 12,
   "metadata": {},
   "outputs": [
    {
     "name": "stdout",
     "output_type": "stream",
     "text": [
      "=== UGIP ====\n",
      "              precision    recall  f1-score   support\n",
      "\n",
      "           1       0.26      0.96      0.41        47\n",
      "           2       0.45      0.06      0.10        85\n",
      "           3       0.00      0.00      0.00         0\n",
      "           4       0.50      0.07      0.12        57\n",
      "           5       0.56      0.54      0.55       128\n",
      "\n",
      "    accuracy                           0.39       317\n",
      "   macro avg       0.35      0.33      0.24       317\n",
      "weighted avg       0.48      0.39      0.33       317\n",
      "\n"
     ]
    },
    {
     "name": "stderr",
     "output_type": "stream",
     "text": [
      "/Users/guida/llm_argument_tasks/myenv/lib/python3.12/site-packages/sklearn/metrics/_classification.py:1517: UndefinedMetricWarning: Recall is ill-defined and being set to 0.0 in labels with no true samples. Use `zero_division` parameter to control this behavior.\n",
      "  _warn_prf(average, modifier, f\"{metric.capitalize()} is\", len(result))\n",
      "/Users/guida/llm_argument_tasks/myenv/lib/python3.12/site-packages/sklearn/metrics/_classification.py:1517: UndefinedMetricWarning: Recall is ill-defined and being set to 0.0 in labels with no true samples. Use `zero_division` parameter to control this behavior.\n",
      "  _warn_prf(average, modifier, f\"{metric.capitalize()} is\", len(result))\n",
      "/Users/guida/llm_argument_tasks/myenv/lib/python3.12/site-packages/sklearn/metrics/_classification.py:1517: UndefinedMetricWarning: Recall is ill-defined and being set to 0.0 in labels with no true samples. Use `zero_division` parameter to control this behavior.\n",
      "  _warn_prf(average, modifier, f\"{metric.capitalize()} is\", len(result))\n"
     ]
    }
   ],
   "source": [
    "golden_csv_path = '/Users/guida/llm_argument_tasks/clean_data/UGIP_structured_main.csv'\n",
    "predictions_json_path = '/Users/guida/llm_argument_tasks/task2/output_files/gpt/one-shot/comarg_ugip_relation_identification4way_gpt_1shot.jsonl'\n",
    "\n",
    "print(\"=== UGIP ====\")\n",
    "evaluate_predictions_polarity(golden_csv_path, predictions_json_path)"
   ]
  },
  {
   "cell_type": "markdown",
   "metadata": {},
   "source": [
    "## Few shot"
   ]
  },
  {
   "cell_type": "markdown",
   "metadata": {},
   "source": [
    "# NO polarity"
   ]
  },
  {
   "cell_type": "code",
   "execution_count": 13,
   "metadata": {},
   "outputs": [
    {
     "name": "stdout",
     "output_type": "stream",
     "text": [
      "=== GM ====\n",
      "              precision    recall  f1-score   support\n",
      "\n",
      "           1       0.35      0.51      0.41       159\n",
      "           5       0.60      0.43      0.50       269\n",
      "\n",
      "    accuracy                           0.46       428\n",
      "   macro avg       0.47      0.47      0.46       428\n",
      "weighted avg       0.50      0.46      0.47       428\n",
      "\n"
     ]
    }
   ],
   "source": [
    "golden_csv_path = '/Users/guida/llm_argument_tasks/clean_data/GM_structured_main.csv'\n",
    "predictions_json_path = '/Users/guida/llm_argument_tasks/task2/output_files/gpt/five-shots/comarg_gm_relation_identification2ways_gpt_5shot (1).jsonl'\n",
    "\n",
    "print(\"=== GM ====\")\n",
    "evaluate_predictions(golden_csv_path, predictions_json_path)"
   ]
  },
  {
   "cell_type": "code",
   "execution_count": 14,
   "metadata": {},
   "outputs": [
    {
     "name": "stdout",
     "output_type": "stream",
     "text": [
      "=== UGIP ====\n",
      "              precision    recall  f1-score   support\n",
      "\n",
      "           1       0.52      0.89      0.66       132\n",
      "           5       0.85      0.42      0.56       185\n",
      "\n",
      "    accuracy                           0.62       317\n",
      "   macro avg       0.68      0.66      0.61       317\n",
      "weighted avg       0.71      0.62      0.60       317\n",
      "\n"
     ]
    }
   ],
   "source": [
    "golden_csv_path = '/Users/guida/llm_argument_tasks/clean_data/UGIP_structured.csv'\n",
    "predictions_json_path = '/Users/guida/llm_argument_tasks/task2/output_files/gpt/five-shots/comarg_ugip_relation_identification2way_gpt_5shot (1).jsonl'\n",
    "\n",
    "print(\"=== UGIP ====\")\n",
    "evaluate_predictions(golden_csv_path, predictions_json_path)"
   ]
  },
  {
   "cell_type": "markdown",
   "metadata": {},
   "source": [
    "## Polarity"
   ]
  },
  {
   "cell_type": "code",
   "execution_count": 15,
   "metadata": {},
   "outputs": [
    {
     "name": "stdout",
     "output_type": "stream",
     "text": [
      "=== GM ====\n",
      "              precision    recall  f1-score   support\n",
      "\n",
      "           1       0.17      0.34      0.22        88\n",
      "           2       0.17      0.12      0.15        72\n",
      "           4       0.16      0.03      0.05        96\n",
      "           5       0.35      0.36      0.36       174\n",
      "\n",
      "    accuracy                           0.24       430\n",
      "   macro avg       0.21      0.21      0.19       430\n",
      "weighted avg       0.24      0.24      0.23       430\n",
      "\n"
     ]
    }
   ],
   "source": [
    "golden_csv_path = '/Users/guida/llm_argument_tasks/clean_data/GM_structured_main.csv'\n",
    "predictions_json_path = '/Users/guida/llm_argument_tasks/task2/output_files/gpt/five-shots/comarg_gm_relation_identification4ways_gpt_5shot (1).jsonl'\n",
    "\n",
    "print(\"=== GM ====\")\n",
    "evaluate_predictions_polarity(golden_csv_path, predictions_json_path)"
   ]
  },
  {
   "cell_type": "code",
   "execution_count": 16,
   "metadata": {},
   "outputs": [
    {
     "name": "stdout",
     "output_type": "stream",
     "text": [
      "=== UGIP ====\n",
      "              precision    recall  f1-score   support\n",
      "\n",
      "           1       0.22      0.66      0.33        47\n",
      "           2       0.36      0.31      0.33        85\n",
      "           4       0.00      0.00      0.00        57\n",
      "           5       0.54      0.42      0.47       128\n",
      "\n",
      "    accuracy                           0.35       317\n",
      "   macro avg       0.28      0.35      0.28       317\n",
      "weighted avg       0.35      0.35      0.33       317\n",
      "\n"
     ]
    }
   ],
   "source": [
    "golden_csv_path = '/Users/guida/llm_argument_tasks/clean_data/UGIP_structured.csv'\n",
    "predictions_json_path = '/Users/guida/llm_argument_tasks/task2/output_files/gpt/five-shots/comarg_ugip_relation_identification4way_gpt_5shot (1).jsonl'\n",
    "print(\"=== UGIP ====\")\n",
    "evaluate_predictions_polarity(golden_csv_path, predictions_json_path)"
   ]
  }
 ],
 "metadata": {
  "kernelspec": {
   "display_name": "myenv",
   "language": "python",
   "name": "python3"
  },
  "language_info": {
   "codemirror_mode": {
    "name": "ipython",
    "version": 3
   },
   "file_extension": ".py",
   "mimetype": "text/x-python",
   "name": "python",
   "nbconvert_exporter": "python",
   "pygments_lexer": "ipython3",
   "version": "3.12.3"
  }
 },
 "nbformat": 4,
 "nbformat_minor": 2
}
