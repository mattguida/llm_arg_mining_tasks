{
 "cells": [
  {
   "cell_type": "code",
   "execution_count": 1,
   "metadata": {},
   "outputs": [],
   "source": [
    "import pandas as pd\n",
    "from sklearn.metrics import accuracy_score, precision_score, recall_score, f1_score, precision_recall_fscore_support, classification_report\n",
    "from collections import Counter, defaultdict\n",
    "import json, csv\n",
    "import numpy as np"
   ]
  },
  {
   "cell_type": "code",
   "execution_count": 2,
   "metadata": {},
   "outputs": [],
   "source": [
    "def map_gold_labels(labels):\n",
    "    \"\"\"\n",
    "    Maps the original labels in golden data to binary labels for evaluation.\n",
    "    Labels 1, 2 are mapped to 1.\n",
    "    Label 3 remains 3.\n",
    "    Label 4, 5 are mapped to 5.\n",
    "    \"\"\"\n",
    "    mapping = {1: 1, 2: 1, 3: 3, 4: 5, 5: 5}\n",
    "    return labels.map(mapping)"
   ]
  },
  {
   "cell_type": "code",
   "execution_count": 3,
   "metadata": {},
   "outputs": [],
   "source": [
    "def evaluate_predictions(golden_csv_path: str, predictions_json_path: str):\n",
    "\n",
    "    golden_df = pd.read_csv(golden_csv_path)\n",
    "    \n",
    "    golden_df['label'] = map_gold_labels(golden_df['label'])\n",
    "\n",
    "    predictions_df = pd.read_json(predictions_json_path, lines=True) \n",
    "\n",
    "    merged_df = pd.merge(golden_df[['id', 'label']], predictions_df[['id', 'label']], \n",
    "                        on='id', how='inner', suffixes=('_gold', '_pred'))\n",
    "\n",
    "    ground_truth = merged_df['label_gold'].astype(int)\n",
    "\n",
    "    predictions = merged_df['label_pred'].astype(int)\n",
    "\n",
    "    report = classification_report(ground_truth, predictions)\n",
    "    print(report)"
   ]
  },
  {
   "cell_type": "code",
   "execution_count": 24,
   "metadata": {},
   "outputs": [],
   "source": [
    "def evaluate_predictions_polarity(golden_csv_path: str, predictions_json_path: str):\n",
    "\n",
    "    golden_df = pd.read_csv(golden_csv_path)\n",
    "    \n",
    "    predictions_df = pd.read_json(predictions_json_path, lines=True) \n",
    "\n",
    "    merged_df = pd.merge(golden_df[['id', 'label']], predictions_df[['id', 'label']], \n",
    "                        on='id', how='inner', suffixes=('_gold', '_pred'))\n",
    "    print(merged_df)\n",
    "    ground_truth = merged_df['label_gold'].astype(int)\n",
    "    print(ground_truth)\n",
    "    predictions = merged_df['label_pred'].astype(int)\n",
    "    print(predictions)\n",
    "    report = classification_report(ground_truth, predictions)\n",
    "    print(report)"
   ]
  },
  {
   "cell_type": "markdown",
   "metadata": {},
   "source": [
    "## Evaluation ZERO SHOT"
   ]
  },
  {
   "cell_type": "markdown",
   "metadata": {},
   "source": [
    "# NO polarity"
   ]
  },
  {
   "cell_type": "code",
   "execution_count": 4,
   "metadata": {},
   "outputs": [
    {
     "name": "stdout",
     "output_type": "stream",
     "text": [
      "=== GM ====\n",
      "              precision    recall  f1-score   support\n",
      "\n",
      "           1       0.15      0.58      0.24       159\n",
      "           3       0.93      0.23      0.37       856\n",
      "           5       0.34      0.57      0.43       269\n",
      "\n",
      "    accuracy                           0.35      1284\n",
      "   macro avg       0.47      0.46      0.35      1284\n",
      "weighted avg       0.71      0.35      0.37      1284\n",
      "\n"
     ]
    }
   ],
   "source": [
    "golden_csv_path = '/Users/guida/llm_argument_tasks/clean_data/GM_structured.csv'\n",
    "predictions_json_path = '/Users/guida/llm_argument_tasks/task2/output_files/gpt/comarg_gm_relation_identification_3_gpt.jsonl'\n",
    "\n",
    "print(\"=== GM ====\")\n",
    "evaluate_predictions(golden_csv_path, predictions_json_path)"
   ]
  },
  {
   "cell_type": "code",
   "execution_count": 5,
   "metadata": {},
   "outputs": [
    {
     "name": "stdout",
     "output_type": "stream",
     "text": [
      "=== UGIP ====\n",
      "              precision    recall  f1-score   support\n",
      "\n",
      "           1       0.22      0.89      0.35       132\n",
      "           3       0.93      0.18      0.30       692\n",
      "           5       0.41      0.73      0.53       188\n",
      "\n",
      "    accuracy                           0.38      1012\n",
      "   macro avg       0.52      0.60      0.39      1012\n",
      "weighted avg       0.74      0.38      0.35      1012\n",
      "\n"
     ]
    }
   ],
   "source": [
    "golden_csv_path = '/Users/guida/llm_argument_tasks/clean_data/UGIP_structured.csv'\n",
    "predictions_json_path = '/Users/guida/llm_argument_tasks/task2/output_files/gpt/comarg_ugip_relation_identification_3_gpt.jsonl'\n",
    "\n",
    "print(\"=== UGIP ====\")\n",
    "evaluate_predictions(golden_csv_path, predictions_json_path)"
   ]
  },
  {
   "cell_type": "markdown",
   "metadata": {},
   "source": [
    "# Polarity"
   ]
  },
  {
   "cell_type": "code",
   "execution_count": 25,
   "metadata": {},
   "outputs": [
    {
     "name": "stdout",
     "output_type": "stream",
     "text": [
      "=== GM ====\n",
      "           id  label_gold  label_pred\n",
      "0       1arg1           3           5\n",
      "1       1arg2           3           5\n",
      "2       1arg3           3           5\n",
      "3       1arg5           3           5\n",
      "4       1arg5           3           5\n",
      "...       ...         ...         ...\n",
      "1279  198arg3           3           1\n",
      "1280  198arg4           3           1\n",
      "1281  198arg5           4           1\n",
      "1282  198arg6           3           1\n",
      "1283  198arg7           4           1\n",
      "\n",
      "[1284 rows x 3 columns]\n",
      "0       3\n",
      "1       3\n",
      "2       3\n",
      "3       3\n",
      "4       3\n",
      "       ..\n",
      "1279    3\n",
      "1280    3\n",
      "1281    4\n",
      "1282    3\n",
      "1283    4\n",
      "Name: label_gold, Length: 1284, dtype: int64\n",
      "0       5\n",
      "1       5\n",
      "2       5\n",
      "3       5\n",
      "4       5\n",
      "       ..\n",
      "1279    1\n",
      "1280    1\n",
      "1281    1\n",
      "1282    1\n",
      "1283    1\n",
      "Name: label_pred, Length: 1284, dtype: int64\n",
      "              precision    recall  f1-score   support\n",
      "\n",
      "           1       0.07      0.51      0.13        90\n",
      "           2       0.00      0.00      0.00        73\n",
      "           3       0.91      0.13      0.23       850\n",
      "           4       0.07      0.07      0.07        98\n",
      "           5       0.14      0.35      0.20       173\n",
      "\n",
      "    accuracy                           0.18      1284\n",
      "   macro avg       0.24      0.21      0.13      1284\n",
      "weighted avg       0.63      0.18      0.20      1284\n",
      "\n"
     ]
    }
   ],
   "source": [
    "golden_csv_path = '/Users/guida/llm_argument_tasks/clean_data/GM_structured.csv'\n",
    "predictions_json_path = '/Users/guida/llm_argument_tasks/task2/output_files/gpt/comarg_gm_relation_identification_5_gpt.jsonl'\n",
    "\n",
    "print(\"=== GM ====\")\n",
    "evaluate_predictions_polarity(golden_csv_path, predictions_json_path)"
   ]
  },
  {
   "cell_type": "code",
   "execution_count": 10,
   "metadata": {},
   "outputs": [
    {
     "name": "stdout",
     "output_type": "stream",
     "text": [
      "=== UGIP ====\n",
      "              precision    recall  f1-score   support\n",
      "\n",
      "           1       0.08      0.93      0.15        46\n",
      "           2       0.00      0.00      0.00        86\n",
      "           3       0.93      0.18      0.30       692\n",
      "           4       0.00      0.00      0.00        58\n",
      "           5       0.31      0.80      0.45       130\n",
      "\n",
      "    accuracy                           0.27      1012\n",
      "   macro avg       0.26      0.38      0.18      1012\n",
      "weighted avg       0.68      0.27      0.27      1012\n",
      "\n"
     ]
    },
    {
     "name": "stderr",
     "output_type": "stream",
     "text": [
      "/Users/guida/llm_argument_tasks/myenv/lib/python3.12/site-packages/sklearn/metrics/_classification.py:1517: UndefinedMetricWarning: Precision is ill-defined and being set to 0.0 in labels with no predicted samples. Use `zero_division` parameter to control this behavior.\n",
      "  _warn_prf(average, modifier, f\"{metric.capitalize()} is\", len(result))\n",
      "/Users/guida/llm_argument_tasks/myenv/lib/python3.12/site-packages/sklearn/metrics/_classification.py:1517: UndefinedMetricWarning: Precision is ill-defined and being set to 0.0 in labels with no predicted samples. Use `zero_division` parameter to control this behavior.\n",
      "  _warn_prf(average, modifier, f\"{metric.capitalize()} is\", len(result))\n",
      "/Users/guida/llm_argument_tasks/myenv/lib/python3.12/site-packages/sklearn/metrics/_classification.py:1517: UndefinedMetricWarning: Precision is ill-defined and being set to 0.0 in labels with no predicted samples. Use `zero_division` parameter to control this behavior.\n",
      "  _warn_prf(average, modifier, f\"{metric.capitalize()} is\", len(result))\n"
     ]
    }
   ],
   "source": [
    "golden_csv_path = '/Users/guida/llm_argument_tasks/clean_data/UGIP_structured.csv'\n",
    "predictions_json_path = '/Users/guida/llm_argument_tasks/task2/output_files/gpt/comarg_ugip_relation_identification_3_gpt.jsonl'\n",
    "\n",
    "print(\"=== UGIP ====\")\n",
    "evaluate_predictions_polarity(golden_csv_path, predictions_json_path)"
   ]
  }
 ],
 "metadata": {
  "kernelspec": {
   "display_name": "myenv",
   "language": "python",
   "name": "python3"
  },
  "language_info": {
   "codemirror_mode": {
    "name": "ipython",
    "version": 3
   },
   "file_extension": ".py",
   "mimetype": "text/x-python",
   "name": "python",
   "nbconvert_exporter": "python",
   "pygments_lexer": "ipython3",
   "version": "3.12.3"
  }
 },
 "nbformat": 4,
 "nbformat_minor": 2
}
