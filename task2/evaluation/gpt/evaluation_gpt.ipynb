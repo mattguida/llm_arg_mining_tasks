{
 "cells": [
  {
   "cell_type": "code",
   "execution_count": 26,
   "metadata": {},
   "outputs": [],
   "source": [
    "import pandas as pd\n",
    "from sklearn.metrics import accuracy_score, precision_score, recall_score, f1_score, precision_recall_fscore_support, classification_report\n",
    "from collections import Counter, defaultdict\n",
    "import json, csv\n",
    "import numpy as np"
   ]
  },
  {
   "cell_type": "code",
   "execution_count": 27,
   "metadata": {},
   "outputs": [],
   "source": [
    "def map_gold_labels(labels):\n",
    "    \"\"\"\n",
    "    Maps the original labels in golden data to binary labels for evaluation.\n",
    "    Labels 1, 2 are mapped to 1.\n",
    "    Label 3 remains 3.\n",
    "    Label 4, 5 are mapped to 5.\n",
    "    \"\"\"\n",
    "    mapping = {1: 1, 2: 1, 3: 3, 4: 5, 5: 5}\n",
    "    return labels.map(mapping)"
   ]
  },
  {
   "cell_type": "code",
   "execution_count": 28,
   "metadata": {},
   "outputs": [],
   "source": [
    "def evaluate_predictions(golden_csv_path: str, predictions_json_path: str):\n",
    "\n",
    "    golden_df = pd.read_csv(golden_csv_path)\n",
    "    \n",
    "    golden_df['label'] = map_gold_labels(golden_df['label'])\n",
    "\n",
    "    predictions_df = pd.read_json(predictions_json_path, lines=True) \n",
    "\n",
    "    merged_df = pd.merge(golden_df[['id', 'label']], predictions_df[['id', 'label']], \n",
    "                        on='id', how='inner', suffixes=('_gold', '_pred'))\n",
    "\n",
    "    ground_truth = merged_df['label_gold'].astype(int)\n",
    "\n",
    "    predictions = merged_df['label_pred'].astype(int)\n",
    "\n",
    "    report = classification_report(ground_truth, predictions)\n",
    "    print(report)"
   ]
  },
  {
   "cell_type": "code",
   "execution_count": 35,
   "metadata": {},
   "outputs": [],
   "source": [
    "def evaluate_predictions_polarity(golden_csv_path: str, predictions_json_path: str):\n",
    "\n",
    "    golden_df = pd.read_csv(golden_csv_path)\n",
    "    \n",
    "    predictions_df = pd.read_json(predictions_json_path, lines=True) \n",
    "\n",
    "    merged_df = pd.merge(golden_df[['id', 'label']], predictions_df[['id', 'label']], \n",
    "                        on='id', how='inner', suffixes=('_gold', '_pred'))\n",
    "\n",
    "    ground_truth = merged_df['label_gold'].astype(int)\n",
    "\n",
    "    predictions = merged_df['label_pred'].astype(int)\n",
    "\n",
    "    report = classification_report(ground_truth, predictions)\n",
    "    print(report)"
   ]
  },
  {
   "cell_type": "markdown",
   "metadata": {},
   "source": [
    "## Evaluation ZERO SHOT"
   ]
  },
  {
   "cell_type": "markdown",
   "metadata": {},
   "source": [
    "# NO polarity"
   ]
  },
  {
   "cell_type": "code",
   "execution_count": 31,
   "metadata": {},
   "outputs": [
    {
     "name": "stdout",
     "output_type": "stream",
     "text": [
      "=== GM ====\n",
      "              precision    recall  f1-score   support\n",
      "\n",
      "           1       0.15      0.58      0.24       159\n",
      "           3       0.93      0.23      0.37       856\n",
      "           5       0.34      0.57      0.43       269\n",
      "\n",
      "    accuracy                           0.35      1284\n",
      "   macro avg       0.47      0.46      0.35      1284\n",
      "weighted avg       0.71      0.35      0.37      1284\n",
      "\n"
     ]
    }
   ],
   "source": [
    "golden_csv_path = '/Users/guida/llm_argument_tasks/clean_data/GM_structured.csv'\n",
    "predictions_json_path = '/Users/guida/llm_argument_tasks/task2/output_files/gpt/zero-shot/comarg_gm_relation_identification_3_gpt.jsonl'\n",
    "\n",
    "print(\"=== GM ====\")\n",
    "evaluate_predictions(golden_csv_path, predictions_json_path)"
   ]
  },
  {
   "cell_type": "code",
   "execution_count": 33,
   "metadata": {},
   "outputs": [
    {
     "name": "stdout",
     "output_type": "stream",
     "text": [
      "=== UGIP ====\n",
      "              precision    recall  f1-score   support\n",
      "\n",
      "           1       0.22      0.89      0.35       132\n",
      "           3       0.93      0.18      0.30       692\n",
      "           5       0.41      0.73      0.53       188\n",
      "\n",
      "    accuracy                           0.38      1012\n",
      "   macro avg       0.52      0.60      0.39      1012\n",
      "weighted avg       0.74      0.38      0.35      1012\n",
      "\n"
     ]
    }
   ],
   "source": [
    "golden_csv_path = '/Users/guida/llm_argument_tasks/clean_data/UGIP_structured.csv'\n",
    "predictions_json_path = '/Users/guida/llm_argument_tasks/task2/output_files/gpt/zero-shot/comarg_ugip_relation_identification_3_gpt.jsonl'\n",
    "\n",
    "print(\"=== UGIP ====\")\n",
    "evaluate_predictions(golden_csv_path, predictions_json_path)"
   ]
  },
  {
   "cell_type": "markdown",
   "metadata": {},
   "source": [
    "# Polarity"
   ]
  },
  {
   "cell_type": "code",
   "execution_count": 36,
   "metadata": {},
   "outputs": [
    {
     "name": "stdout",
     "output_type": "stream",
     "text": [
      "=== GM ====\n",
      "              precision    recall  f1-score   support\n",
      "\n",
      "           1       0.07      0.51      0.13        90\n",
      "           2       0.00      0.00      0.00        73\n",
      "           3       0.91      0.13      0.23       850\n",
      "           4       0.07      0.07      0.07        98\n",
      "           5       0.14      0.35      0.20       173\n",
      "\n",
      "    accuracy                           0.18      1284\n",
      "   macro avg       0.24      0.21      0.13      1284\n",
      "weighted avg       0.63      0.18      0.20      1284\n",
      "\n"
     ]
    }
   ],
   "source": [
    "golden_csv_path = '/Users/guida/llm_argument_tasks/clean_data/GM_structured.csv'\n",
    "predictions_json_path = '/Users/guida/llm_argument_tasks/task2/output_files/gpt/zero-shot/comarg_gm_relation_identification_5_gpt.jsonl'\n",
    "\n",
    "print(\"=== GM ====\")\n",
    "evaluate_predictions_polarity(golden_csv_path, predictions_json_path)"
   ]
  },
  {
   "cell_type": "code",
   "execution_count": 10,
   "metadata": {},
   "outputs": [
    {
     "name": "stdout",
     "output_type": "stream",
     "text": [
      "=== UGIP ====\n",
      "              precision    recall  f1-score   support\n",
      "\n",
      "           1       0.08      0.93      0.15        46\n",
      "           2       0.00      0.00      0.00        86\n",
      "           3       0.93      0.18      0.30       692\n",
      "           4       0.00      0.00      0.00        58\n",
      "           5       0.31      0.80      0.45       130\n",
      "\n",
      "    accuracy                           0.27      1012\n",
      "   macro avg       0.26      0.38      0.18      1012\n",
      "weighted avg       0.68      0.27      0.27      1012\n",
      "\n"
     ]
    },
    {
     "name": "stderr",
     "output_type": "stream",
     "text": [
      "/Users/guida/llm_argument_tasks/myenv/lib/python3.12/site-packages/sklearn/metrics/_classification.py:1517: UndefinedMetricWarning: Precision is ill-defined and being set to 0.0 in labels with no predicted samples. Use `zero_division` parameter to control this behavior.\n",
      "  _warn_prf(average, modifier, f\"{metric.capitalize()} is\", len(result))\n",
      "/Users/guida/llm_argument_tasks/myenv/lib/python3.12/site-packages/sklearn/metrics/_classification.py:1517: UndefinedMetricWarning: Precision is ill-defined and being set to 0.0 in labels with no predicted samples. Use `zero_division` parameter to control this behavior.\n",
      "  _warn_prf(average, modifier, f\"{metric.capitalize()} is\", len(result))\n",
      "/Users/guida/llm_argument_tasks/myenv/lib/python3.12/site-packages/sklearn/metrics/_classification.py:1517: UndefinedMetricWarning: Precision is ill-defined and being set to 0.0 in labels with no predicted samples. Use `zero_division` parameter to control this behavior.\n",
      "  _warn_prf(average, modifier, f\"{metric.capitalize()} is\", len(result))\n"
     ]
    }
   ],
   "source": [
    "golden_csv_path = '/Users/guida/llm_argument_tasks/clean_data/UGIP_structured.csv'\n",
    "predictions_json_path = '/Users/guida/llm_argument_tasks/task2/output_files/gpt/comarg_ugip_relation_identification_3_gpt.jsonl'\n",
    "\n",
    "print(\"=== UGIP ====\")\n",
    "evaluate_predictions_polarity(golden_csv_path, predictions_json_path)"
   ]
  },
  {
   "cell_type": "markdown",
   "metadata": {},
   "source": [
    "## Evaluation ONE SHOT"
   ]
  },
  {
   "cell_type": "markdown",
   "metadata": {},
   "source": [
    "# NO polarity"
   ]
  },
  {
   "cell_type": "code",
   "execution_count": 55,
   "metadata": {},
   "outputs": [
    {
     "name": "stdout",
     "output_type": "stream",
     "text": [
      "=== GM ====\n",
      "              precision    recall  f1-score   support\n",
      "\n",
      "           1       0.13      0.58      0.21       161\n",
      "           3       0.83      0.12      0.21       846\n",
      "           5       0.23      0.36      0.28       272\n",
      "\n",
      "    accuracy                           0.23      1279\n",
      "   macro avg       0.40      0.35      0.23      1279\n",
      "weighted avg       0.62      0.23      0.22      1279\n",
      "\n"
     ]
    }
   ],
   "source": [
    "golden_csv_path = '/Users/guida/llm_argument_tasks/clean_data/GM_structured.csv'\n",
    "predictions_json_path = '/Users/guida/llm_argument_tasks/task2/output_files/gpt/one-shot/comarg_gm_relation_identification3way_gpt_1shot.jsonl'\n",
    "\n",
    "print(\"=== GM ====\")\n",
    "evaluate_predictions(golden_csv_path, predictions_json_path)"
   ]
  },
  {
   "cell_type": "code",
   "execution_count": 56,
   "metadata": {},
   "outputs": [
    {
     "name": "stdout",
     "output_type": "stream",
     "text": [
      "=== UGIP ====\n",
      "              precision    recall  f1-score   support\n",
      "\n",
      "           1       0.22      0.83      0.34       134\n",
      "           3       0.89      0.25      0.39       685\n",
      "           5       0.44      0.71      0.55       188\n",
      "\n",
      "    accuracy                           0.41      1007\n",
      "   macro avg       0.52      0.59      0.42      1007\n",
      "weighted avg       0.72      0.41      0.41      1007\n",
      "\n"
     ]
    }
   ],
   "source": [
    "golden_csv_path = '/Users/guida/llm_argument_tasks/clean_data/UGIP_structured.csv'\n",
    "predictions_json_path = '/Users/guida/llm_argument_tasks/task2/output_files/gpt/one-shot/comarg_ugip_relation_identification3way_gpt_1shot.jsonl'\n",
    "\n",
    "print(\"=== UGIP ====\")\n",
    "evaluate_predictions(golden_csv_path, predictions_json_path)"
   ]
  },
  {
   "cell_type": "markdown",
   "metadata": {},
   "source": [
    "# Polarity"
   ]
  },
  {
   "cell_type": "code",
   "execution_count": 49,
   "metadata": {},
   "outputs": [
    {
     "name": "stdout",
     "output_type": "stream",
     "text": [
      "=== GM ====\n",
      "              precision    recall  f1-score   support\n",
      "\n",
      "           1       0.07      0.57      0.13        86\n",
      "           2       0.04      0.01      0.02        70\n",
      "           3       0.88      0.20      0.33       857\n",
      "           4       0.05      0.02      0.03        97\n",
      "           5       0.19      0.36      0.24       168\n",
      "\n",
      "    accuracy                           0.22      1278\n",
      "   macro avg       0.25      0.23      0.15      1278\n",
      "weighted avg       0.62      0.22      0.26      1278\n",
      "\n"
     ]
    }
   ],
   "source": [
    "golden_csv_path = '/Users/guida/llm_argument_tasks/clean_data/GM_structured.csv'\n",
    "predictions_json_path = '/Users/guida/llm_argument_tasks/task2/output_files/gpt/one-shot/comarg_gm_relation_identification5ways_gpt_1shot (1).jsonl'\n",
    "\n",
    "print(\"=== GM ====\")\n",
    "evaluate_predictions_polarity(golden_csv_path, predictions_json_path)"
   ]
  },
  {
   "cell_type": "code",
   "execution_count": 54,
   "metadata": {},
   "outputs": [
    {
     "name": "stdout",
     "output_type": "stream",
     "text": [
      "=== UGIP ====\n",
      "              precision    recall  f1-score   support\n",
      "\n",
      "           1       0.09      0.79      0.17        48\n",
      "           2       0.06      0.01      0.02        86\n",
      "           3       0.90      0.26      0.41       685\n",
      "           4       0.20      0.16      0.18        58\n",
      "           5       0.22      0.58      0.32       130\n",
      "\n",
      "    accuracy                           0.30      1007\n",
      "   macro avg       0.30      0.36      0.22      1007\n",
      "weighted avg       0.67      0.30      0.34      1007\n",
      "\n"
     ]
    }
   ],
   "source": [
    "golden_csv_path = '/Users/guida/llm_argument_tasks/clean_data/UGIP_structured.csv'\n",
    "predictions_json_path = '/Users/guida/llm_argument_tasks/task2/output_files/gpt/one-shot/comarg_ugip_relation_identification5way_gpt_1shot (1).jsonl'\n",
    "\n",
    "print(\"=== UGIP ====\")\n",
    "evaluate_predictions_polarity(golden_csv_path, predictions_json_path)"
   ]
  },
  {
   "cell_type": "markdown",
   "metadata": {},
   "source": [
    "## Few shot"
   ]
  },
  {
   "cell_type": "markdown",
   "metadata": {},
   "source": [
    "# NO polarity"
   ]
  },
  {
   "cell_type": "code",
   "execution_count": 58,
   "metadata": {},
   "outputs": [
    {
     "name": "stdout",
     "output_type": "stream",
     "text": [
      "=== GM ====\n",
      "              precision    recall  f1-score   support\n",
      "\n",
      "           1       0.15      0.64      0.24       161\n",
      "           3       0.92      0.38      0.54       845\n",
      "           5       0.39      0.35      0.37       273\n",
      "\n",
      "    accuracy                           0.41      1279\n",
      "   macro avg       0.49      0.46      0.39      1279\n",
      "weighted avg       0.71      0.41      0.47      1279\n",
      "\n"
     ]
    }
   ],
   "source": [
    "golden_csv_path = '/Users/guida/llm_argument_tasks/clean_data/GM_structured.csv'\n",
    "predictions_json_path = '/Users/guida/llm_argument_tasks/task2/output_files/gpt/five-shots/comarg_gm_relation_identification3way_gpt_5shot.jsonl'\n",
    "\n",
    "print(\"=== GM ====\")\n",
    "evaluate_predictions(golden_csv_path, predictions_json_path)"
   ]
  },
  {
   "cell_type": "code",
   "execution_count": 59,
   "metadata": {},
   "outputs": [
    {
     "name": "stdout",
     "output_type": "stream",
     "text": [
      "=== UGIP ====\n",
      "              precision    recall  f1-score   support\n",
      "\n",
      "           1       0.21      0.65      0.32       134\n",
      "           3       0.92      0.31      0.46       685\n",
      "           5       0.36      0.71      0.48       188\n",
      "\n",
      "    accuracy                           0.43      1007\n",
      "   macro avg       0.50      0.55      0.42      1007\n",
      "weighted avg       0.72      0.43      0.45      1007\n",
      "\n"
     ]
    }
   ],
   "source": [
    "golden_csv_path = '/Users/guida/llm_argument_tasks/clean_data/UGIP_structured.csv'\n",
    "predictions_json_path = '/Users/guida/llm_argument_tasks/task2/output_files/gpt/five-shots/comarg_ugip_relation_identification3way_gpt_5shot (1).jsonl'\n",
    "\n",
    "print(\"=== UGIP ====\")\n",
    "evaluate_predictions(golden_csv_path, predictions_json_path)"
   ]
  },
  {
   "cell_type": "markdown",
   "metadata": {},
   "source": [
    "## Polarity"
   ]
  },
  {
   "cell_type": "code",
   "execution_count": 63,
   "metadata": {},
   "outputs": [
    {
     "name": "stdout",
     "output_type": "stream",
     "text": [
      "=== GM ====\n",
      "              precision    recall  f1-score   support\n",
      "\n",
      "           1       0.12      0.48      0.19        89\n",
      "           2       0.05      0.25      0.09        73\n",
      "           3       0.89      0.38      0.53       842\n",
      "           4       0.00      0.00      0.00        97\n",
      "           5       0.32      0.37      0.35       175\n",
      "\n",
      "    accuracy                           0.35      1276\n",
      "   macro avg       0.28      0.30      0.23      1276\n",
      "weighted avg       0.64      0.35      0.42      1276\n",
      "\n"
     ]
    }
   ],
   "source": [
    "golden_csv_path = '/Users/guida/llm_argument_tasks/clean_data/GM_structured.csv'\n",
    "predictions_json_path = '/Users/guida/llm_argument_tasks/task2/output_files/gpt/five-shots/comarg_gm_relation_identification5ways_gpt_5shot (1).jsonl'\n",
    "\n",
    "print(\"=== GM ====\")\n",
    "evaluate_predictions_polarity(golden_csv_path, predictions_json_path)"
   ]
  },
  {
   "cell_type": "code",
   "execution_count": 64,
   "metadata": {},
   "outputs": [
    {
     "name": "stdout",
     "output_type": "stream",
     "text": [
      "=== UGIP ====\n",
      "              precision    recall  f1-score   support\n",
      "\n",
      "           1       0.11      0.77      0.19        48\n",
      "           2       0.13      0.05      0.07        86\n",
      "           3       0.90      0.33      0.48       685\n",
      "           4       0.18      0.14      0.16        58\n",
      "           5       0.24      0.62      0.35       130\n",
      "\n",
      "    accuracy                           0.35      1007\n",
      "   macro avg       0.31      0.38      0.25      1007\n",
      "weighted avg       0.67      0.35      0.39      1007\n",
      "\n"
     ]
    }
   ],
   "source": [
    "golden_csv_path = '/Users/guida/llm_argument_tasks/clean_data/UGIP_structured.csv'\n",
    "predictions_json_path = '/Users/guida/llm_argument_tasks/task2/output_files/gpt/five-shots/comarg_ugip_relation_identification5way_gpt_5shot (1).jsonl'\n",
    "\n",
    "print(\"=== UGIP ====\")\n",
    "evaluate_predictions_polarity(golden_csv_path, predictions_json_path)"
   ]
  }
 ],
 "metadata": {
  "kernelspec": {
   "display_name": "myenv",
   "language": "python",
   "name": "python3"
  },
  "language_info": {
   "codemirror_mode": {
    "name": "ipython",
    "version": 3
   },
   "file_extension": ".py",
   "mimetype": "text/x-python",
   "name": "python",
   "nbconvert_exporter": "python",
   "pygments_lexer": "ipython3",
   "version": "3.12.3"
  }
 },
 "nbformat": 4,
 "nbformat_minor": 2
}
